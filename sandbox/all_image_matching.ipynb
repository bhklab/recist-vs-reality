{
 "cells": [
  {
   "cell_type": "markdown",
   "id": "11c1a3ea",
   "metadata": {},
   "source": [
    "# Image - Mask - Annotation Matching"
   ]
  },
  {
   "cell_type": "code",
   "execution_count": 4,
   "id": "406e387d",
   "metadata": {},
   "outputs": [],
   "source": [
    "import pandas as pd\n",
    "from pathlib import Path\n",
    "from damply import dirs\n",
    "from readii.io.loaders import loadImageDatasetConfig\n",
    "\n"
   ]
  },
  {
   "cell_type": "code",
   "execution_count": 7,
   "id": "28a063cc",
   "metadata": {},
   "outputs": [],
   "source": [
    "dataset = \"CPTAC-HNSCC\"\n",
    "\n",
    "config = loadImageDatasetConfig(dataset, dirs.CONFIG)\n",
    "\n",
    "procdata_dir = dirs.PROCDATA / f\"{config['DATA_SOURCE']}_{config['DATASET_NAME']}\""
   ]
  },
  {
   "cell_type": "code",
   "execution_count": 9,
   "id": "d05c42fb",
   "metadata": {},
   "outputs": [],
   "source": [
    "annotations_file = procdata_dir / \"annotations\" / f\"{dataset}_graphic_data.csv\"\n",
    "ann_graphic_data = pd.read_csv(annotations_file)\n",
    "\n",
    "mit_index_file = procdata_dir / \"images\" / f\"mit_{dataset}\" / f\"mit_{dataset}_index-simple.csv\"\n",
    "mit_index = pd.read_csv(mit_index_file)"
   ]
  },
  {
   "cell_type": "code",
   "execution_count": 14,
   "id": "8365ad0d",
   "metadata": {},
   "outputs": [],
   "source": [
    "annotation_series = pd.Index(ann_graphic_data['Series Instance UID'])\n",
    "\n",
    "mit_series = pd.Index(mit_index['SeriesInstanceUID'])\n",
    "\n",
    "overlapping_series = annotation_series.intersection(mit_series)"
   ]
  },
  {
   "cell_type": "code",
   "execution_count": null,
   "id": "f0481388",
   "metadata": {},
   "outputs": [
    {
     "data": {
      "text/html": [
       "<div>\n",
       "<style scoped>\n",
       "    .dataframe tbody tr th:only-of-type {\n",
       "        vertical-align: middle;\n",
       "    }\n",
       "\n",
       "    .dataframe tbody tr th {\n",
       "        vertical-align: top;\n",
       "    }\n",
       "\n",
       "    .dataframe thead th {\n",
       "        text-align: right;\n",
       "    }\n",
       "</style>\n",
       "<table border=\"1\" class=\"dataframe\">\n",
       "  <thead>\n",
       "    <tr style=\"text-align: right;\">\n",
       "      <th></th>\n",
       "      <th>filepath</th>\n",
       "      <th>hash</th>\n",
       "      <th>saved_time</th>\n",
       "      <th>SampleNumber</th>\n",
       "      <th>ImageID</th>\n",
       "      <th>PatientID</th>\n",
       "      <th>Modality</th>\n",
       "      <th>SeriesInstanceUID</th>\n",
       "      <th>StudyInstanceUID</th>\n",
       "      <th>ReferencedSeriesUID</th>\n",
       "      <th>...</th>\n",
       "      <th>direction</th>\n",
       "      <th>bbox.size</th>\n",
       "      <th>bbox.min_coord</th>\n",
       "      <th>bbox.max_coord</th>\n",
       "      <th>sum</th>\n",
       "      <th>min</th>\n",
       "      <th>max</th>\n",
       "      <th>mean</th>\n",
       "      <th>std</th>\n",
       "      <th>variance</th>\n",
       "    </tr>\n",
       "  </thead>\n",
       "  <tbody>\n",
       "    <tr>\n",
       "      <th>0</th>\n",
       "      <td>C3N-00297_0000/CT_65846342/CT.nii.gz</td>\n",
       "      <td>06ad86746ebb2a358a28e7a1c107a6448cb0cc37</td>\n",
       "      <td>2025-06-04:16-48-49</td>\n",
       "      <td>0</td>\n",
       "      <td>CT</td>\n",
       "      <td>C3N-00297</td>\n",
       "      <td>CT</td>\n",
       "      <td>1.3.6.1.4.1.14519.5.2.1.3320.3273.311644633087...</td>\n",
       "      <td>1.3.6.1.4.1.14519.5.2.1.3320.3273.799363872620...</td>\n",
       "      <td>NaN</td>\n",
       "      <td>...</td>\n",
       "      <td>(1.0, 0.0, 0.0, 0.0, 1.0, 0.0, 0.0, 0.0, 1.0)</td>\n",
       "      <td>NaN</td>\n",
       "      <td>NaN</td>\n",
       "      <td>NaN</td>\n",
       "      <td>-7.520122e+10</td>\n",
       "      <td>-3024.0</td>\n",
       "      <td>3071.0</td>\n",
       "      <td>-962.650663</td>\n",
       "      <td>1189.140705</td>\n",
       "      <td>1.414056e+06</td>\n",
       "    </tr>\n",
       "    <tr>\n",
       "      <th>11</th>\n",
       "      <td>C3N-01752_0003/CT_65367795/CT.nii.gz</td>\n",
       "      <td>55a16fdb71659bf766a0110a3ef7ab75dc76e5b3</td>\n",
       "      <td>2025-06-04:16-48-50</td>\n",
       "      <td>3</td>\n",
       "      <td>CT</td>\n",
       "      <td>C3N-01752</td>\n",
       "      <td>CT</td>\n",
       "      <td>1.3.6.1.4.1.14519.5.2.1.3320.3273.664713584109...</td>\n",
       "      <td>1.3.6.1.4.1.14519.5.2.1.3320.3273.302771225125...</td>\n",
       "      <td>NaN</td>\n",
       "      <td>...</td>\n",
       "      <td>(1.0, 0.0, 0.0, 0.0, 1.0, 0.0, 0.0, 0.0, 1.0)</td>\n",
       "      <td>NaN</td>\n",
       "      <td>NaN</td>\n",
       "      <td>NaN</td>\n",
       "      <td>-8.658804e+10</td>\n",
       "      <td>-1024.0</td>\n",
       "      <td>3071.0</td>\n",
       "      <td>-581.526660</td>\n",
       "      <td>558.173512</td>\n",
       "      <td>3.115577e+05</td>\n",
       "    </tr>\n",
       "    <tr>\n",
       "      <th>13</th>\n",
       "      <td>C3N-01754_0004/CT_21248664/CT.nii.gz</td>\n",
       "      <td>190a5821e0e320659bf3e0e313930195c296201e</td>\n",
       "      <td>2025-06-04:16-48-46</td>\n",
       "      <td>4</td>\n",
       "      <td>CT</td>\n",
       "      <td>C3N-01754</td>\n",
       "      <td>CT</td>\n",
       "      <td>1.3.6.1.4.1.14519.5.2.1.3320.3273.112272693104...</td>\n",
       "      <td>1.3.6.1.4.1.14519.5.2.1.3320.3273.164169013266...</td>\n",
       "      <td>NaN</td>\n",
       "      <td>...</td>\n",
       "      <td>(1.0, 0.0, 0.0, 0.0, 1.0, 0.0, 0.0, 0.0, 1.0)</td>\n",
       "      <td>NaN</td>\n",
       "      <td>NaN</td>\n",
       "      <td>NaN</td>\n",
       "      <td>-4.691731e+10</td>\n",
       "      <td>-1024.0</td>\n",
       "      <td>3071.0</td>\n",
       "      <td>-418.166641</td>\n",
       "      <td>569.017443</td>\n",
       "      <td>3.237809e+05</td>\n",
       "    </tr>\n",
       "    <tr>\n",
       "      <th>16</th>\n",
       "      <td>C3N-01757_0005/CT_17188869/CT.nii.gz</td>\n",
       "      <td>53015ff8ae4b687297d002f0693872624540207f</td>\n",
       "      <td>2025-06-04:16-48-43</td>\n",
       "      <td>5</td>\n",
       "      <td>CT</td>\n",
       "      <td>C3N-01757</td>\n",
       "      <td>CT</td>\n",
       "      <td>1.3.6.1.4.1.14519.5.2.1.3320.3273.357444477876...</td>\n",
       "      <td>1.3.6.1.4.1.14519.5.2.1.3320.3273.708588955133...</td>\n",
       "      <td>NaN</td>\n",
       "      <td>...</td>\n",
       "      <td>(1.0, 0.0, 0.0, 0.0, 1.0, 0.0, 0.0, 0.0, 1.0)</td>\n",
       "      <td>NaN</td>\n",
       "      <td>NaN</td>\n",
       "      <td>NaN</td>\n",
       "      <td>-2.474417e+10</td>\n",
       "      <td>-1024.0</td>\n",
       "      <td>3071.0</td>\n",
       "      <td>-227.449455</td>\n",
       "      <td>532.225306</td>\n",
       "      <td>2.832638e+05</td>\n",
       "    </tr>\n",
       "  </tbody>\n",
       "</table>\n",
       "<p>4 rows × 30 columns</p>\n",
       "</div>"
      ],
      "text/plain": [
       "                                filepath  \\\n",
       "0   C3N-00297_0000/CT_65846342/CT.nii.gz   \n",
       "11  C3N-01752_0003/CT_65367795/CT.nii.gz   \n",
       "13  C3N-01754_0004/CT_21248664/CT.nii.gz   \n",
       "16  C3N-01757_0005/CT_17188869/CT.nii.gz   \n",
       "\n",
       "                                        hash           saved_time  \\\n",
       "0   06ad86746ebb2a358a28e7a1c107a6448cb0cc37  2025-06-04:16-48-49   \n",
       "11  55a16fdb71659bf766a0110a3ef7ab75dc76e5b3  2025-06-04:16-48-50   \n",
       "13  190a5821e0e320659bf3e0e313930195c296201e  2025-06-04:16-48-46   \n",
       "16  53015ff8ae4b687297d002f0693872624540207f  2025-06-04:16-48-43   \n",
       "\n",
       "    SampleNumber ImageID  PatientID Modality  \\\n",
       "0              0      CT  C3N-00297       CT   \n",
       "11             3      CT  C3N-01752       CT   \n",
       "13             4      CT  C3N-01754       CT   \n",
       "16             5      CT  C3N-01757       CT   \n",
       "\n",
       "                                    SeriesInstanceUID  \\\n",
       "0   1.3.6.1.4.1.14519.5.2.1.3320.3273.311644633087...   \n",
       "11  1.3.6.1.4.1.14519.5.2.1.3320.3273.664713584109...   \n",
       "13  1.3.6.1.4.1.14519.5.2.1.3320.3273.112272693104...   \n",
       "16  1.3.6.1.4.1.14519.5.2.1.3320.3273.357444477876...   \n",
       "\n",
       "                                     StudyInstanceUID ReferencedSeriesUID  \\\n",
       "0   1.3.6.1.4.1.14519.5.2.1.3320.3273.799363872620...                 NaN   \n",
       "11  1.3.6.1.4.1.14519.5.2.1.3320.3273.302771225125...                 NaN   \n",
       "13  1.3.6.1.4.1.14519.5.2.1.3320.3273.164169013266...                 NaN   \n",
       "16  1.3.6.1.4.1.14519.5.2.1.3320.3273.708588955133...                 NaN   \n",
       "\n",
       "    ...                                      direction bbox.size  \\\n",
       "0   ...  (1.0, 0.0, 0.0, 0.0, 1.0, 0.0, 0.0, 0.0, 1.0)       NaN   \n",
       "11  ...  (1.0, 0.0, 0.0, 0.0, 1.0, 0.0, 0.0, 0.0, 1.0)       NaN   \n",
       "13  ...  (1.0, 0.0, 0.0, 0.0, 1.0, 0.0, 0.0, 0.0, 1.0)       NaN   \n",
       "16  ...  (1.0, 0.0, 0.0, 0.0, 1.0, 0.0, 0.0, 0.0, 1.0)       NaN   \n",
       "\n",
       "   bbox.min_coord bbox.max_coord           sum     min     max        mean  \\\n",
       "0             NaN            NaN -7.520122e+10 -3024.0  3071.0 -962.650663   \n",
       "11            NaN            NaN -8.658804e+10 -1024.0  3071.0 -581.526660   \n",
       "13            NaN            NaN -4.691731e+10 -1024.0  3071.0 -418.166641   \n",
       "16            NaN            NaN -2.474417e+10 -1024.0  3071.0 -227.449455   \n",
       "\n",
       "            std      variance  \n",
       "0   1189.140705  1.414056e+06  \n",
       "11   558.173512  3.115577e+05  \n",
       "13   569.017443  3.237809e+05  \n",
       "16   532.225306  2.832638e+05  \n",
       "\n",
       "[4 rows x 30 columns]"
      ]
     },
     "execution_count": 16,
     "metadata": {},
     "output_type": "execute_result"
    }
   ],
   "source": [
    "image_rows = mit_index[mit_index['SeriesInstanceUID'].isin(overlapping_series)]\n",
    "mask_rows = mit_index[mit_index['ReferencedSeriesUID'].isin(overlapping_series)]"
   ]
  },
  {
   "cell_type": "code",
   "execution_count": 20,
   "id": "3db7fd8e",
   "metadata": {},
   "outputs": [],
   "source": [
    "full_dataset_mit = pd.read_csv(\"../data/rawdata/TCIA_CPTAC-HNSCC/imgtools_TCIA_CPTAC-HNSCC_New.csv\")"
   ]
  },
  {
   "cell_type": "code",
   "execution_count": 30,
   "id": "de5ce53f",
   "metadata": {},
   "outputs": [
    {
     "data": {
      "text/plain": [
       "8"
      ]
     },
     "execution_count": 30,
     "metadata": {},
     "output_type": "execute_result"
    }
   ],
   "source": [
    "full_dataset_series = pd.Index(full_dataset_mit['series'])\n",
    "\n",
    "len(full_dataset_series.intersection(annotation_series))"
   ]
  },
  {
   "cell_type": "code",
   "execution_count": 29,
   "id": "decc5c9c",
   "metadata": {},
   "outputs": [
    {
     "data": {
      "text/plain": [
       "10"
      ]
     },
     "execution_count": 29,
     "metadata": {},
     "output_type": "execute_result"
    }
   ],
   "source": [
    "len(annotation_series.unique())"
   ]
  },
  {
   "cell_type": "code",
   "execution_count": 28,
   "id": "d17680e5",
   "metadata": {},
   "outputs": [
    {
     "data": {
      "text/plain": [
       "15.0"
      ]
     },
     "execution_count": 28,
     "metadata": {},
     "output_type": "execute_result"
    }
   ],
   "source": [
    "len(annotation_series)/2"
   ]
  },
  {
   "cell_type": "code",
   "execution_count": null,
   "id": "e030ae3e",
   "metadata": {},
   "outputs": [],
   "source": []
  }
 ],
 "metadata": {
  "kernelspec": {
   "display_name": "default",
   "language": "python",
   "name": "python3"
  },
  "language_info": {
   "codemirror_mode": {
    "name": "ipython",
    "version": 3
   },
   "file_extension": ".py",
   "mimetype": "text/x-python",
   "name": "python",
   "nbconvert_exporter": "python",
   "pygments_lexer": "ipython3",
   "version": "3.12.11"
  }
 },
 "nbformat": 4,
 "nbformat_minor": 5
}
