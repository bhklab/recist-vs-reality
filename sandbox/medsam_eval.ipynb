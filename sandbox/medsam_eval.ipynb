{
 "cells": [
  {
   "cell_type": "code",
   "execution_count": 2,
   "id": "f54bca10",
   "metadata": {},
   "outputs": [
    {
     "name": "stdout",
     "output_type": "stream",
     "text": [
      "/home/bhkuser/bhklab/katy/recist-vs-reality\n"
     ]
    }
   ],
   "source": [
    "%cd .."
   ]
  },
  {
   "cell_type": "code",
   "execution_count": 3,
   "id": "69efaf1b",
   "metadata": {},
   "outputs": [],
   "source": [
    "import pandas as pd\n",
    "from damply import dirs\n",
    "import matplotlib.pyplot as plt\n",
    "import seaborn as sns\n",
    "from pathlib import Path"
   ]
  },
  {
   "cell_type": "code",
   "execution_count": 4,
   "id": "7a9a3f7e",
   "metadata": {},
   "outputs": [],
   "source": [
    "data_dir = dirs.RESULTS / \"medsam2-inference\" / \"RADCURE_GTVp_oral_cavity\"\n",
    "\n",
    "gt_measurements = pd.read_csv(data_dir / \"mask_measurements_ground_truth.csv\", index_col=0)\n",
    "pred_measurements = pd.read_csv(data_dir / \"mask_measurements_predicted.csv\", index_col=0)"
   ]
  },
  {
   "cell_type": "code",
   "execution_count": 5,
   "id": "2d27228e",
   "metadata": {},
   "outputs": [
    {
     "data": {
      "application/vnd.microsoft.datawrangler.viewer.v0+json": {
       "columns": [
        {
         "name": "index",
         "rawType": "object",
         "type": "string"
        },
        {
         "name": "Short_Axis_Length",
         "rawType": "float64",
         "type": "float"
        },
        {
         "name": "Number_of_Voxels",
         "rawType": "int64",
         "type": "integer"
        },
        {
         "name": "Actual_Volume (mm^3)",
         "rawType": "float64",
         "type": "float"
        },
        {
         "name": "PatientID",
         "rawType": "object",
         "type": "string"
        }
       ],
       "ref": "a570c7f0-b8df-44c2-8193-ee80b3eed9a0",
       "rows": [
        [
         "data/procdata/TCIA_RADCURE/images/mit_RADCURE_GTVp/RADCURE-0005_0000/RTSTRUCT_04207053/ROI__[GTVp].nii.gz",
         "30.271894087006427",
         "18609",
         "35493.81604605269",
         "RADCURE-0005_0000"
        ],
        [
         "data/procdata/TCIA_RADCURE/images/mit_RADCURE_GTVp/RADCURE-0006_0001/RTSTRUCT_97032605/ROI__[GTVp].nii.gz",
         "7.753295789882592",
         "1332",
         "2119.648988914399",
         "RADCURE-0006_0001"
        ],
        [
         "data/procdata/TCIA_RADCURE/images/mit_RADCURE_GTVp/RADCURE-0007_0002/RTSTRUCT_66751618/ROI__[GTVp].nii.gz",
         "23.29147830034484",
         "12694",
         "24184.000031508363",
         "RADCURE-0007_0002"
        ],
        [
         "data/procdata/TCIA_RADCURE/images/mit_RADCURE_GTVp/RADCURE-0010_0004/RTSTRUCT_03495652/ROI__[GTVp].nii.gz",
         "32.478577707191974",
         "24230",
         "46215.012241165925",
         "RADCURE-0010_0004"
        ],
        [
         "data/procdata/TCIA_RADCURE/images/mit_RADCURE_GTVp/RADCURE-0011_0005/RTSTRUCT_45481664/ROI__[GTVp].nii.gz",
         "8.284435995269025",
         "1298",
         "2475.736107677812",
         "RADCURE-0011_0005"
        ],
        [
         "data/procdata/TCIA_RADCURE/images/mit_RADCURE_GTVp/RADCURE-0014_0008/RTSTRUCT_59122651/ROI__[GTVp].nii.gz",
         "33.816052969318825",
         "58384",
         "111358.53382947716",
         "RADCURE-0014_0008"
        ],
        [
         "data/procdata/TCIA_RADCURE/images/mit_RADCURE_GTVp/RADCURE-0016_0009/RTSTRUCT_64801644/ROI__[GTVp].nii.gz",
         "25.613640087661697",
         "23769",
         "45335.72538011857",
         "RADCURE-0016_0009"
        ],
        [
         "data/procdata/TCIA_RADCURE/images/mit_RADCURE_GTVp/RADCURE-0017_0010/RTSTRUCT_15758547/ROI__[GTVp].nii.gz",
         "20.794313801516925",
         "12658",
         "24143.19541678408",
         "RADCURE-0017_0010"
        ],
        [
         "data/procdata/TCIA_RADCURE/images/mit_RADCURE_GTVp/RADCURE-0018_0011/RTSTRUCT_06195603/ROI__[GTVp].nii.gz",
         "5.1534971515457",
         "462",
         "880.180243781067",
         "RADCURE-0018_0011"
        ],
        [
         "data/procdata/TCIA_RADCURE/images/mit_RADCURE_GTVp/RADCURE-0019_0012/RTSTRUCT_00316487/ROI__[GTVp].nii.gz",
         "22.45699103384608",
         "14567",
         "27784.320401034423",
         "RADCURE-0019_0012"
        ],
        [
         "data/procdata/TCIA_RADCURE/images/mit_RADCURE_GTVp/RADCURE-0020_0013/RTSTRUCT_27966221/ROI__[GTVp].nii.gz",
         "13.591332638853396",
         "2897",
         "6685.962677001953",
         "RADCURE-0020_0013"
        ],
        [
         "data/procdata/TCIA_RADCURE/images/mit_RADCURE_GTVp/RADCURE-0021_0014/RTSTRUCT_51545579/ROI__[GTVp].nii.gz",
         "26.94356647250388",
         "21409",
         "40787.40008465122",
         "RADCURE-0021_0014"
        ],
        [
         "data/procdata/TCIA_RADCURE/images/mit_RADCURE_GTVp/RADCURE-0022_0015/RTSTRUCT_33462694/ROI__[GTVp].nii.gz",
         "12.1122787570283",
         "2268",
         "4320.884833107056",
         "RADCURE-0022_0015"
        ],
        [
         "data/procdata/TCIA_RADCURE/images/mit_RADCURE_GTVp/RADCURE-0025_0018/RTSTRUCT_52722238/ROI__[GTVp].nii.gz",
         "31.849336792196716",
         "35078",
         "66828.92335790534",
         "RADCURE-0025_0018"
        ],
        [
         "data/procdata/TCIA_RADCURE/images/mit_RADCURE_GTVp/RADCURE-0027_0019/RTSTRUCT_55062865/ROI__[GTVp].nii.gz",
         "13.970780466549025",
         "3287",
         "6269.448833541577",
         "RADCURE-0027_0019"
        ],
        [
         "data/procdata/TCIA_RADCURE/images/mit_RADCURE_GTVp/RADCURE-0028_0020/RTSTRUCT_64773014/ROI__[GTVp].nii.gz",
         "10.83105045298414",
         "2565",
         "4777.183990338567",
         "RADCURE-0028_0020"
        ],
        [
         "data/procdata/TCIA_RADCURE/images/mit_RADCURE_GTVp/RADCURE-0029_0021/RTSTRUCT_10161986/ROI__[GTVp].nii.gz",
         "6.281805176346044",
         "767",
         "1461.2516168399966",
         "RADCURE-0029_0021"
        ],
        [
         "data/procdata/TCIA_RADCURE/images/mit_RADCURE_GTVp/RADCURE-0030_0022/RTSTRUCT_85807735/ROI__[GTVp].nii.gz",
         "19.503239096822607",
         "9956",
         "18989.54444379067",
         "RADCURE-0030_0022"
        ],
        [
         "data/procdata/TCIA_RADCURE/images/mit_RADCURE_GTVp/RADCURE-0031_0023/RTSTRUCT_70886883/ROI__[GTVp].nii.gz",
         "20.210729600924907",
         "26059",
         "40085.46286813704",
         "RADCURE-0031_0023"
        ],
        [
         "data/procdata/TCIA_RADCURE/images/mit_RADCURE_GTVp/RADCURE-0032_0024/RTSTRUCT_81790975/ROI__[GTVp].nii.gz",
         "7.70577498598071",
         "1040",
         "1711.109939790802",
         "RADCURE-0032_0024"
        ],
        [
         "data/procdata/TCIA_RADCURE/images/mit_RADCURE_GTVp/RADCURE-0035_0025/RTSTRUCT_11730630/ROI__[GTVp].nii.gz",
         "11.924714634711153",
         "1885",
         "5177.30712890625",
         "RADCURE-0035_0025"
        ],
        [
         "data/procdata/TCIA_RADCURE/images/mit_RADCURE_GTVp/RADCURE-0036_0026/RTSTRUCT_92659759/ROI__[GTVp].nii.gz",
         "14.909685565837696",
         "4812",
         "9167.591630031371",
         "RADCURE-0036_0026"
        ],
        [
         "data/procdata/TCIA_RADCURE/images/mit_RADCURE_GTVp/RADCURE-0037_0027/RTSTRUCT_15571755/ROI__[GTVp].nii.gz",
         "11.593351065507322",
         "5085",
         "9698.85832630329",
         "RADCURE-0037_0027"
        ],
        [
         "data/procdata/TCIA_RADCURE/images/mit_RADCURE_GTVp/RADCURE-0038_0028/RTSTRUCT_14426576/ROI__[GTVp].nii.gz",
         "9.756225362766036",
         "1592",
         "3036.4960581071464",
         "RADCURE-0038_0028"
        ],
        [
         "data/procdata/TCIA_RADCURE/images/mit_RADCURE_GTVp/RADCURE-0039_0029/RTSTRUCT_11178736/ROI__[GTVp].nii.gz",
         "14.54065465723722",
         "4787",
         "9130.468988793284",
         "RADCURE-0039_0029"
        ],
        [
         "data/procdata/TCIA_RADCURE/images/mit_RADCURE_GTVp/RADCURE-0040_0030/RTSTRUCT_01577546/ROI__[GTVp].nii.gz",
         "7.892609638364116",
         "5208",
         "9922.031838986572",
         "RADCURE-0040_0030"
        ],
        [
         "data/procdata/TCIA_RADCURE/images/mit_RADCURE_GTVp/RADCURE-0042_0031/RTSTRUCT_68608423/ROI__[GTVp].nii.gz",
         "7.101764120543699",
         "678",
         "1291.693085029358",
         "RADCURE-0042_0031"
        ],
        [
         "data/procdata/TCIA_RADCURE/images/mit_RADCURE_GTVp/RADCURE-0043_0032/RTSTRUCT_07690323/ROI__[GTVp].nii.gz",
         "17.188975372913614",
         "11342",
         "15664.684609416958",
         "RADCURE-0043_0032"
        ],
        [
         "data/procdata/TCIA_RADCURE/images/mit_RADCURE_GTVp/RADCURE-0044_0033/RTSTRUCT_63794569/ROI__[GTVp].nii.gz",
         "24.67522652959615",
         "21945",
         "41856.724871332495",
         "RADCURE-0044_0033"
        ],
        [
         "data/procdata/TCIA_RADCURE/images/mit_RADCURE_GTVp/RADCURE-0045_0034/RTSTRUCT_29844632/ROI__[GTVp].nii.gz",
         "37.80494311787915",
         "106956",
         "204002.1811500678",
         "RADCURE-0045_0034"
        ],
        [
         "data/procdata/TCIA_RADCURE/images/mit_RADCURE_GTVp/RADCURE-0047_0036/RTSTRUCT_78688409/ROI__[GTVp].nii.gz",
         "17.891312059836",
         "9704",
         "18508.893057708385",
         "RADCURE-0047_0036"
        ],
        [
         "data/procdata/TCIA_RADCURE/images/mit_RADCURE_GTVp/RADCURE-0049_0037/RTSTRUCT_40138189/ROI__[GTVp].nii.gz",
         "19.91446495544165",
         "6663",
         "11525.657577285863",
         "RADCURE-0049_0037"
        ],
        [
         "data/procdata/TCIA_RADCURE/images/mit_RADCURE_GTVp/RADCURE-0050_0038/RTSTRUCT_77312503/ROI__[GTVp].nii.gz",
         "34.806392243148494",
         "81113",
         "154532.59764894738",
         "RADCURE-0050_0038"
        ],
        [
         "data/procdata/TCIA_RADCURE/images/mit_RADCURE_GTVp/RADCURE-0051_0039/RTSTRUCT_14696445/ROI__[GTVp].nii.gz",
         "22.50937567779423",
         "21893",
         "28586.30509466756",
         "RADCURE-0051_0039"
        ],
        [
         "data/procdata/TCIA_RADCURE/images/mit_RADCURE_GTVp/RADCURE-0053_0040/RTSTRUCT_25346982/ROI__[GTVp].nii.gz",
         "38.05235425186266",
         "50443",
         "96101.58449577568",
         "RADCURE-0053_0040"
        ],
        [
         "data/procdata/TCIA_RADCURE/images/mit_RADCURE_GTVp/RADCURE-0054_0041/RTSTRUCT_09203716/ROI__[GTVp].nii.gz",
         "9.5811771545131",
         "1268",
         "2415.7327902908937",
         "RADCURE-0054_0041"
        ],
        [
         "data/procdata/TCIA_RADCURE/images/mit_RADCURE_GTVp/RADCURE-0057_0044/RTSTRUCT_58080860/ROI__[GTVp].nii.gz",
         "33.12889199121201",
         "28932",
         "55183.35675449495",
         "RADCURE-0057_0044"
        ],
        [
         "data/procdata/TCIA_RADCURE/images/mit_RADCURE_GTVp/RADCURE-0058_0045/RTSTRUCT_95432541/ROI__[GTVp].nii.gz",
         "20.25245773579402",
         "9770",
         "18634.77794453946",
         "RADCURE-0058_0045"
        ],
        [
         "data/procdata/TCIA_RADCURE/images/mit_RADCURE_GTVp/RADCURE-0059_0046/RTSTRUCT_59208946/ROI__[GTVp].nii.gz",
         "30.98727815410476",
         "53028",
         "101142.7845284584",
         "RADCURE-0059_0046"
        ],
        [
         "data/procdata/TCIA_RADCURE/images/mit_RADCURE_GTVp/RADCURE-0060_0047/RTSTRUCT_32585676/ROI__[GTVp].nii.gz",
         "9.02385612080385",
         "1012",
         "2779.541015625",
         "RADCURE-0060_0047"
        ],
        [
         "data/procdata/TCIA_RADCURE/images/mit_RADCURE_GTVp/RADCURE-0061_0048/RTSTRUCT_28601189/ROI__[GTVp].nii.gz",
         "5.394540804474597",
         "885",
         "1303.0102206194122",
         "RADCURE-0061_0048"
        ],
        [
         "data/procdata/TCIA_RADCURE/images/mit_RADCURE_GTVp/RADCURE-0062_0049/RTSTRUCT_36257855/ROI__[GTVp].nii.gz",
         "10.79213714452844",
         "5755",
         "10040.817888074344",
         "RADCURE-0062_0049"
        ],
        [
         "data/procdata/TCIA_RADCURE/images/mit_RADCURE_GTVp/RADCURE-0063_0050/RTSTRUCT_30477231/ROI__[GTVp].nii.gz",
         "14.66846171685876",
         "2213",
         "4220.958402381353",
         "RADCURE-0063_0050"
        ],
        [
         "data/procdata/TCIA_RADCURE/images/mit_RADCURE_GTVp/RADCURE-0064_0051/RTSTRUCT_00769636/ROI__[GTVp].nii.gz",
         "4.87147757931025",
         "411",
         "783.9195225389681",
         "RADCURE-0064_0051"
        ],
        [
         "data/procdata/TCIA_RADCURE/images/mit_RADCURE_GTVp/RADCURE-0065_0052/RTSTRUCT_10153232/ROI__[GTVp].nii.gz",
         "14.597092773294676",
         "5867",
         "11190.403500574515",
         "RADCURE-0065_0052"
        ],
        [
         "data/procdata/TCIA_RADCURE/images/mit_RADCURE_GTVp/RADCURE-0067_0053/RTSTRUCT_65368383/ROI__[GTVp].nii.gz",
         "19.605784736634277",
         "16541",
         "31549.422925345672",
         "RADCURE-0067_0053"
        ],
        [
         "data/procdata/TCIA_RADCURE/images/mit_RADCURE_GTVp/RADCURE-0070_0054/RTSTRUCT_45137176/ROI__[GTVp].nii.gz",
         "12.275141652259276",
         "4401",
         "8384.57414043393",
         "RADCURE-0070_0054"
        ],
        [
         "data/procdata/TCIA_RADCURE/images/mit_RADCURE_GTVp/RADCURE-0071_0055/RTSTRUCT_26372808/ROI__[GTVp].nii.gz",
         "29.32625867494985",
         "8762",
         "16049.338451768332",
         "RADCURE-0071_0055"
        ],
        [
         "data/procdata/TCIA_RADCURE/images/mit_RADCURE_GTVp/RADCURE-0072_0056/RTSTRUCT_18584458/ROI__[GTVp].nii.gz",
         "13.75564773904091",
         "8401",
         "16005.18231169858",
         "RADCURE-0072_0056"
        ],
        [
         "data/procdata/TCIA_RADCURE/images/mit_RADCURE_GTVp/RADCURE-0073_0057/RTSTRUCT_31930470/ROI__[GTVp].nii.gz",
         "25.405219963750387",
         "16508",
         "31486.48048193013",
         "RADCURE-0073_0057"
        ]
       ],
       "shape": {
        "columns": 4,
        "rows": 2994
       }
      },
      "text/html": [
       "<div>\n",
       "<style scoped>\n",
       "    .dataframe tbody tr th:only-of-type {\n",
       "        vertical-align: middle;\n",
       "    }\n",
       "\n",
       "    .dataframe tbody tr th {\n",
       "        vertical-align: top;\n",
       "    }\n",
       "\n",
       "    .dataframe thead th {\n",
       "        text-align: right;\n",
       "    }\n",
       "</style>\n",
       "<table border=\"1\" class=\"dataframe\">\n",
       "  <thead>\n",
       "    <tr style=\"text-align: right;\">\n",
       "      <th></th>\n",
       "      <th>Short_Axis_Length</th>\n",
       "      <th>Number_of_Voxels</th>\n",
       "      <th>Actual_Volume (mm^3)</th>\n",
       "      <th>PatientID</th>\n",
       "    </tr>\n",
       "  </thead>\n",
       "  <tbody>\n",
       "    <tr>\n",
       "      <th>data/procdata/TCIA_RADCURE/images/mit_RADCURE_GTVp/RADCURE-0005_0000/RTSTRUCT_04207053/ROI__[GTVp].nii.gz</th>\n",
       "      <td>30.271894</td>\n",
       "      <td>18609</td>\n",
       "      <td>35493.816046</td>\n",
       "      <td>RADCURE-0005_0000</td>\n",
       "    </tr>\n",
       "    <tr>\n",
       "      <th>data/procdata/TCIA_RADCURE/images/mit_RADCURE_GTVp/RADCURE-0006_0001/RTSTRUCT_97032605/ROI__[GTVp].nii.gz</th>\n",
       "      <td>7.753296</td>\n",
       "      <td>1332</td>\n",
       "      <td>2119.648989</td>\n",
       "      <td>RADCURE-0006_0001</td>\n",
       "    </tr>\n",
       "    <tr>\n",
       "      <th>data/procdata/TCIA_RADCURE/images/mit_RADCURE_GTVp/RADCURE-0007_0002/RTSTRUCT_66751618/ROI__[GTVp].nii.gz</th>\n",
       "      <td>23.291478</td>\n",
       "      <td>12694</td>\n",
       "      <td>24184.000032</td>\n",
       "      <td>RADCURE-0007_0002</td>\n",
       "    </tr>\n",
       "    <tr>\n",
       "      <th>data/procdata/TCIA_RADCURE/images/mit_RADCURE_GTVp/RADCURE-0010_0004/RTSTRUCT_03495652/ROI__[GTVp].nii.gz</th>\n",
       "      <td>32.478578</td>\n",
       "      <td>24230</td>\n",
       "      <td>46215.012241</td>\n",
       "      <td>RADCURE-0010_0004</td>\n",
       "    </tr>\n",
       "    <tr>\n",
       "      <th>data/procdata/TCIA_RADCURE/images/mit_RADCURE_GTVp/RADCURE-0011_0005/RTSTRUCT_45481664/ROI__[GTVp].nii.gz</th>\n",
       "      <td>8.284436</td>\n",
       "      <td>1298</td>\n",
       "      <td>2475.736108</td>\n",
       "      <td>RADCURE-0011_0005</td>\n",
       "    </tr>\n",
       "    <tr>\n",
       "      <th>...</th>\n",
       "      <td>...</td>\n",
       "      <td>...</td>\n",
       "      <td>...</td>\n",
       "      <td>...</td>\n",
       "    </tr>\n",
       "    <tr>\n",
       "      <th>data/procdata/TCIA_RADCURE/images/mit_RADCURE_GTVp/RADCURE-4125_3331/RTSTRUCT_24118720/ROI__[GTVp].nii.gz</th>\n",
       "      <td>6.457366</td>\n",
       "      <td>1359</td>\n",
       "      <td>2592.084261</td>\n",
       "      <td>RADCURE-4125_3331</td>\n",
       "    </tr>\n",
       "    <tr>\n",
       "      <th>data/procdata/TCIA_RADCURE/images/mit_RADCURE_GTVp/RADCURE-4126_3332/RTSTRUCT_21329231/ROI__[GTVp].nii.gz</th>\n",
       "      <td>24.735383</td>\n",
       "      <td>9082</td>\n",
       "      <td>17322.523367</td>\n",
       "      <td>RADCURE-4126_3332</td>\n",
       "    </tr>\n",
       "    <tr>\n",
       "      <th>data/procdata/TCIA_RADCURE/images/mit_RADCURE_GTVp/RADCURE-4127_3333/RTSTRUCT_24615540/ROI__[GTVp].nii.gz</th>\n",
       "      <td>18.437476</td>\n",
       "      <td>7106</td>\n",
       "      <td>13538.010416</td>\n",
       "      <td>RADCURE-4127_3333</td>\n",
       "    </tr>\n",
       "    <tr>\n",
       "      <th>data/procdata/TCIA_RADCURE/images/mit_RADCURE_GTVp/RADCURE-4128_3334/RTSTRUCT_97949611/ROI__[GTVp].nii.gz</th>\n",
       "      <td>20.039321</td>\n",
       "      <td>13347</td>\n",
       "      <td>25457.357341</td>\n",
       "      <td>RADCURE-4128_3334</td>\n",
       "    </tr>\n",
       "    <tr>\n",
       "      <th>data/procdata/TCIA_RADCURE/images/mit_RADCURE_GTVp/RADCURE-4129_3335/RTSTRUCT_10327560/ROI__[GTVp].nii.gz</th>\n",
       "      <td>18.611264</td>\n",
       "      <td>5099</td>\n",
       "      <td>9725.561181</td>\n",
       "      <td>RADCURE-4129_3335</td>\n",
       "    </tr>\n",
       "  </tbody>\n",
       "</table>\n",
       "<p>2994 rows × 4 columns</p>\n",
       "</div>"
      ],
      "text/plain": [
       "                                                    Short_Axis_Length  \\\n",
       "data/procdata/TCIA_RADCURE/images/mit_RADCURE_G...          30.271894   \n",
       "data/procdata/TCIA_RADCURE/images/mit_RADCURE_G...           7.753296   \n",
       "data/procdata/TCIA_RADCURE/images/mit_RADCURE_G...          23.291478   \n",
       "data/procdata/TCIA_RADCURE/images/mit_RADCURE_G...          32.478578   \n",
       "data/procdata/TCIA_RADCURE/images/mit_RADCURE_G...           8.284436   \n",
       "...                                                               ...   \n",
       "data/procdata/TCIA_RADCURE/images/mit_RADCURE_G...           6.457366   \n",
       "data/procdata/TCIA_RADCURE/images/mit_RADCURE_G...          24.735383   \n",
       "data/procdata/TCIA_RADCURE/images/mit_RADCURE_G...          18.437476   \n",
       "data/procdata/TCIA_RADCURE/images/mit_RADCURE_G...          20.039321   \n",
       "data/procdata/TCIA_RADCURE/images/mit_RADCURE_G...          18.611264   \n",
       "\n",
       "                                                    Number_of_Voxels  \\\n",
       "data/procdata/TCIA_RADCURE/images/mit_RADCURE_G...             18609   \n",
       "data/procdata/TCIA_RADCURE/images/mit_RADCURE_G...              1332   \n",
       "data/procdata/TCIA_RADCURE/images/mit_RADCURE_G...             12694   \n",
       "data/procdata/TCIA_RADCURE/images/mit_RADCURE_G...             24230   \n",
       "data/procdata/TCIA_RADCURE/images/mit_RADCURE_G...              1298   \n",
       "...                                                              ...   \n",
       "data/procdata/TCIA_RADCURE/images/mit_RADCURE_G...              1359   \n",
       "data/procdata/TCIA_RADCURE/images/mit_RADCURE_G...              9082   \n",
       "data/procdata/TCIA_RADCURE/images/mit_RADCURE_G...              7106   \n",
       "data/procdata/TCIA_RADCURE/images/mit_RADCURE_G...             13347   \n",
       "data/procdata/TCIA_RADCURE/images/mit_RADCURE_G...              5099   \n",
       "\n",
       "                                                    Actual_Volume (mm^3)  \\\n",
       "data/procdata/TCIA_RADCURE/images/mit_RADCURE_G...          35493.816046   \n",
       "data/procdata/TCIA_RADCURE/images/mit_RADCURE_G...           2119.648989   \n",
       "data/procdata/TCIA_RADCURE/images/mit_RADCURE_G...          24184.000032   \n",
       "data/procdata/TCIA_RADCURE/images/mit_RADCURE_G...          46215.012241   \n",
       "data/procdata/TCIA_RADCURE/images/mit_RADCURE_G...           2475.736108   \n",
       "...                                                                  ...   \n",
       "data/procdata/TCIA_RADCURE/images/mit_RADCURE_G...           2592.084261   \n",
       "data/procdata/TCIA_RADCURE/images/mit_RADCURE_G...          17322.523367   \n",
       "data/procdata/TCIA_RADCURE/images/mit_RADCURE_G...          13538.010416   \n",
       "data/procdata/TCIA_RADCURE/images/mit_RADCURE_G...          25457.357341   \n",
       "data/procdata/TCIA_RADCURE/images/mit_RADCURE_G...           9725.561181   \n",
       "\n",
       "                                                            PatientID  \n",
       "data/procdata/TCIA_RADCURE/images/mit_RADCURE_G...  RADCURE-0005_0000  \n",
       "data/procdata/TCIA_RADCURE/images/mit_RADCURE_G...  RADCURE-0006_0001  \n",
       "data/procdata/TCIA_RADCURE/images/mit_RADCURE_G...  RADCURE-0007_0002  \n",
       "data/procdata/TCIA_RADCURE/images/mit_RADCURE_G...  RADCURE-0010_0004  \n",
       "data/procdata/TCIA_RADCURE/images/mit_RADCURE_G...  RADCURE-0011_0005  \n",
       "...                                                               ...  \n",
       "data/procdata/TCIA_RADCURE/images/mit_RADCURE_G...  RADCURE-4125_3331  \n",
       "data/procdata/TCIA_RADCURE/images/mit_RADCURE_G...  RADCURE-4126_3332  \n",
       "data/procdata/TCIA_RADCURE/images/mit_RADCURE_G...  RADCURE-4127_3333  \n",
       "data/procdata/TCIA_RADCURE/images/mit_RADCURE_G...  RADCURE-4128_3334  \n",
       "data/procdata/TCIA_RADCURE/images/mit_RADCURE_G...  RADCURE-4129_3335  \n",
       "\n",
       "[2994 rows x 4 columns]"
      ]
     },
     "execution_count": 5,
     "metadata": {},
     "output_type": "execute_result"
    }
   ],
   "source": [
    "gt_measurements['PatientID'] = gt_measurements.index.str.split('/').str[5]\n",
    "gt_measurements"
   ]
  },
  {
   "cell_type": "code",
   "execution_count": 6,
   "id": "170bf63a",
   "metadata": {},
   "outputs": [
    {
     "data": {
      "application/vnd.microsoft.datawrangler.viewer.v0+json": {
       "columns": [
        {
         "name": "PatientID",
         "rawType": "object",
         "type": "string"
        },
        {
         "name": "Short_Axis_Length",
         "rawType": "float64",
         "type": "float"
        },
        {
         "name": "Number_of_Voxels",
         "rawType": "int64",
         "type": "integer"
        },
        {
         "name": "Actual_Volume (mm^3)",
         "rawType": "float64",
         "type": "float"
        }
       ],
       "ref": "78d0b477-09c2-4a94-9afa-602d86d022bc",
       "rows": [
        [
         "RADCURE-0014_0008",
         "33.816052969318825",
         "58384",
         "111358.53382947716"
        ],
        [
         "RADCURE-0040_0030",
         "7.892609638364116",
         "5208",
         "9922.031838986572"
        ],
        [
         "RADCURE-0067_0053",
         "19.605784736634277",
         "16541",
         "31549.422925345672"
        ],
        [
         "RADCURE-0115_0091",
         "18.891312390632027",
         "14442",
         "27545.902054763446"
        ],
        [
         "RADCURE-0137_0108",
         "11.053642185640152",
         "8735",
         "16660.67403741578"
        ],
        [
         "RADCURE-0143_0111",
         "16.123494114850793",
         "2852",
         "5433.493626111695"
        ],
        [
         "RADCURE-0151_0118",
         "18.351627794091684",
         "8414",
         "13843.5375321152"
        ],
        [
         "RADCURE-0275_0213",
         "23.265121174451448",
         "23880",
         "45547.44087160719"
        ],
        [
         "RADCURE-0296_0233",
         "18.0363546118273",
         "23277",
         "44346.224100631815"
        ],
        [
         "RADCURE-0326_0259",
         "21.487101213636947",
         "19040",
         "29288.430600150783"
        ],
        [
         "RADCURE-0338_0270",
         "19.80576619996215",
         "20608",
         "39306.602239618136"
        ],
        [
         "RADCURE-0367_0292",
         "17.93502629544653",
         "12206",
         "19790.90413404009"
        ],
        [
         "RADCURE-0386_0305",
         "18.841465446829424",
         "29650",
         "55680.38521760962"
        ],
        [
         "RADCURE-0391_0309",
         "31.03329188328304",
         "20970",
         "35420.89061895485"
        ],
        [
         "RADCURE-0458_0366",
         "10.962309019481124",
         "5978",
         "10032.103612817493"
        ],
        [
         "RADCURE-0493_0393",
         "12.31894263473421",
         "6504",
         "8896.548903926063"
        ],
        [
         "RADCURE-0507_0404",
         "20.72319923541125",
         "24298",
         "46291.38433634711"
        ],
        [
         "RADCURE-0516_0410",
         "9.217705645616904",
         "2831",
         "4354.808142280823"
        ],
        [
         "RADCURE-0540_0429",
         "6.3935045791455",
         "1351",
         "2397.6573847850555"
        ],
        [
         "RADCURE-0572_0457",
         "26.723545918435743",
         "30808",
         "58761.53929532976"
        ],
        [
         "RADCURE-0601_0481",
         "20.245108983437525",
         "7958",
         "15178.665596995395"
        ],
        [
         "RADCURE-0694_0553",
         "22.780261381121683",
         "20312",
         "28053.34806793134"
        ],
        [
         "RADCURE-0700_0559",
         "8.246593693817772",
         "1436",
         "2425.579348060046"
        ],
        [
         "RADCURE-0721_0573",
         "13.020711545109071",
         "3649",
         "6951.899804236176"
        ],
        [
         "RADCURE-0725_0577",
         "19.260313863222816",
         "12292",
         "23445.106498902664"
        ],
        [
         "RADCURE-0747_0596",
         "9.758410089402435",
         "4606",
         "8775.130309211243"
        ],
        [
         "RADCURE-0804_0640",
         "27.548900729251088",
         "28010",
         "76931.7626953125"
        ],
        [
         "RADCURE-0831_0661",
         "33.12998021469115",
         "67154",
         "128085.96500384882"
        ],
        [
         "RADCURE-0850_0675",
         "11.44515449490913",
         "11140",
         "21247.84301966935"
        ],
        [
         "RADCURE-0859_0682",
         "26.622896430935636",
         "24387",
         "36578.35366202903"
        ],
        [
         "RADCURE-0930_0733",
         "27.85875258488363",
         "34240",
         "48665.24291440247"
        ],
        [
         "RADCURE-1049_0827",
         "32.079638720914495",
         "42494",
         "81050.79365151073"
        ],
        [
         "RADCURE-1074_0847",
         "23.57292642003557",
         "14338",
         "27316.069989898137"
        ],
        [
         "RADCURE-1081_0852",
         "10.47643579312579",
         "2090",
         "3981.7677694857794"
        ],
        [
         "RADCURE-1276_0917",
         "15.344052568870918",
         "6484",
         "12367.236457768053"
        ],
        [
         "RADCURE-1305_0937",
         "13.641946844959955",
         "4590",
         "8754.721675070228"
        ],
        [
         "RADCURE-1398_1002",
         "20.22203283544207",
         "30123",
         "57455.00675776481"
        ],
        [
         "RADCURE-1441_1028",
         "29.469574690841277",
         "34687",
         "66160.13741681067"
        ],
        [
         "RADCURE-1458_1035",
         "8.855433310626898",
         "2879",
         "5491.2513513131125"
        ],
        [
         "RADCURE-1521_1086",
         "12.815528196248977",
         "5407",
         "10301.15709550699"
        ],
        [
         "RADCURE-1527_1091",
         "16.877274082798618",
         "9588",
         "18287.64083236892"
        ],
        [
         "RADCURE-1544_1107",
         "16.858437276193275",
         "6613",
         "12613.284191119696"
        ],
        [
         "RADCURE-1550_1112",
         "8.602258257484502",
         "5893",
         "9546.65949419976"
        ],
        [
         "RADCURE-1577_1136",
         "32.99240353055969",
         "56926",
         "108577.6222385725"
        ],
        [
         "RADCURE-1656_1197",
         "6.482192546889133",
         "1737",
         "3313.061339781478"
        ],
        [
         "RADCURE-1658_1198",
         "8.837559529145118",
         "3397",
         "6479.256978260035"
        ],
        [
         "RADCURE-1740_1262",
         "26.00876496648956",
         "17781",
         "33914.53292035375"
        ],
        [
         "RADCURE-1746_1267",
         "13.83401909106388",
         "3207",
         "4933.193116317414"
        ],
        [
         "RADCURE-1792_1309",
         "26.79041682028931",
         "21929",
         "41826.20732300981"
        ],
        [
         "RADCURE-1793_1310",
         "58.437628427722345",
         "141971",
         "270787.9283074935"
        ]
       ],
       "shape": {
        "columns": 3,
        "rows": 97
       }
      },
      "text/html": [
       "<div>\n",
       "<style scoped>\n",
       "    .dataframe tbody tr th:only-of-type {\n",
       "        vertical-align: middle;\n",
       "    }\n",
       "\n",
       "    .dataframe tbody tr th {\n",
       "        vertical-align: top;\n",
       "    }\n",
       "\n",
       "    .dataframe thead th {\n",
       "        text-align: right;\n",
       "    }\n",
       "</style>\n",
       "<table border=\"1\" class=\"dataframe\">\n",
       "  <thead>\n",
       "    <tr style=\"text-align: right;\">\n",
       "      <th></th>\n",
       "      <th>Short_Axis_Length</th>\n",
       "      <th>Number_of_Voxels</th>\n",
       "      <th>Actual_Volume (mm^3)</th>\n",
       "    </tr>\n",
       "    <tr>\n",
       "      <th>PatientID</th>\n",
       "      <th></th>\n",
       "      <th></th>\n",
       "      <th></th>\n",
       "    </tr>\n",
       "  </thead>\n",
       "  <tbody>\n",
       "    <tr>\n",
       "      <th>RADCURE-0014_0008</th>\n",
       "      <td>33.816053</td>\n",
       "      <td>58384</td>\n",
       "      <td>111358.533829</td>\n",
       "    </tr>\n",
       "    <tr>\n",
       "      <th>RADCURE-0040_0030</th>\n",
       "      <td>7.892610</td>\n",
       "      <td>5208</td>\n",
       "      <td>9922.031839</td>\n",
       "    </tr>\n",
       "    <tr>\n",
       "      <th>RADCURE-0067_0053</th>\n",
       "      <td>19.605785</td>\n",
       "      <td>16541</td>\n",
       "      <td>31549.422925</td>\n",
       "    </tr>\n",
       "    <tr>\n",
       "      <th>RADCURE-0115_0091</th>\n",
       "      <td>18.891312</td>\n",
       "      <td>14442</td>\n",
       "      <td>27545.902055</td>\n",
       "    </tr>\n",
       "    <tr>\n",
       "      <th>RADCURE-0137_0108</th>\n",
       "      <td>11.053642</td>\n",
       "      <td>8735</td>\n",
       "      <td>16660.674037</td>\n",
       "    </tr>\n",
       "    <tr>\n",
       "      <th>...</th>\n",
       "      <td>...</td>\n",
       "      <td>...</td>\n",
       "      <td>...</td>\n",
       "    </tr>\n",
       "    <tr>\n",
       "      <th>RADCURE-3458_2790</th>\n",
       "      <td>44.567158</td>\n",
       "      <td>123223</td>\n",
       "      <td>213151.148679</td>\n",
       "    </tr>\n",
       "    <tr>\n",
       "      <th>RADCURE-3697_3007</th>\n",
       "      <td>52.324576</td>\n",
       "      <td>129825</td>\n",
       "      <td>247336.363959</td>\n",
       "    </tr>\n",
       "    <tr>\n",
       "      <th>RADCURE-3740_3041</th>\n",
       "      <td>21.960005</td>\n",
       "      <td>10114</td>\n",
       "      <td>19268.707761</td>\n",
       "    </tr>\n",
       "    <tr>\n",
       "      <th>RADCURE-3746_3047</th>\n",
       "      <td>30.319851</td>\n",
       "      <td>53006</td>\n",
       "      <td>100984.489182</td>\n",
       "    </tr>\n",
       "    <tr>\n",
       "      <th>RADCURE-4052_3272</th>\n",
       "      <td>16.113286</td>\n",
       "      <td>7068</td>\n",
       "      <td>13576.214928</td>\n",
       "    </tr>\n",
       "  </tbody>\n",
       "</table>\n",
       "<p>97 rows × 3 columns</p>\n",
       "</div>"
      ],
      "text/plain": [
       "                   Short_Axis_Length  Number_of_Voxels  Actual_Volume (mm^3)\n",
       "PatientID                                                                   \n",
       "RADCURE-0014_0008          33.816053             58384         111358.533829\n",
       "RADCURE-0040_0030           7.892610              5208           9922.031839\n",
       "RADCURE-0067_0053          19.605785             16541          31549.422925\n",
       "RADCURE-0115_0091          18.891312             14442          27545.902055\n",
       "RADCURE-0137_0108          11.053642              8735          16660.674037\n",
       "...                              ...               ...                   ...\n",
       "RADCURE-3458_2790          44.567158            123223         213151.148679\n",
       "RADCURE-3697_3007          52.324576            129825         247336.363959\n",
       "RADCURE-3740_3041          21.960005             10114          19268.707761\n",
       "RADCURE-3746_3047          30.319851             53006         100984.489182\n",
       "RADCURE-4052_3272          16.113286              7068          13576.214928\n",
       "\n",
       "[97 rows x 3 columns]"
      ]
     },
     "execution_count": 6,
     "metadata": {},
     "output_type": "execute_result"
    }
   ],
   "source": [
    "gt_opc = gt_measurements[gt_measurements['PatientID'].isin(pred_measurements.index)]\n",
    "gt_opc = gt_opc.set_index('PatientID').sort_index()\n",
    "gt_opc"
   ]
  },
  {
   "cell_type": "code",
   "execution_count": 7,
   "id": "85a1ad34",
   "metadata": {},
   "outputs": [
    {
     "data": {
      "application/vnd.microsoft.datawrangler.viewer.v0+json": {
       "columns": [
        {
         "name": "index",
         "rawType": "object",
         "type": "string"
        },
        {
         "name": "Short_Axis_Length",
         "rawType": "float64",
         "type": "float"
        },
        {
         "name": "Number_of_Voxels",
         "rawType": "int64",
         "type": "integer"
        },
        {
         "name": "Actual_Volume (mm^3)",
         "rawType": "float64",
         "type": "float"
        }
       ],
       "ref": "b7f5af4f-1723-49d0-ab6d-803a222ce058",
       "rows": [
        [
         "RADCURE-0014_0008",
         "31.637984108433",
         "54422",
         "103801.62592607232"
        ],
        [
         "RADCURE-0040_0030",
         "10.990991157253967",
         "7081",
         "13490.381615181246"
        ],
        [
         "RADCURE-0067_0053",
         "16.150577206189332",
         "9598",
         "18306.7143000706"
        ],
        [
         "RADCURE-0115_0091",
         "17.05688087481943",
         "12312",
         "23483.25343430602"
        ],
        [
         "RADCURE-0137_0108",
         "9.932689137428769",
         "7742",
         "14766.678694639151"
        ],
        [
         "RADCURE-0143_0111",
         "8.633706551812956",
         "1156",
         "2202.355761495484"
        ],
        [
         "RADCURE-0151_0118",
         "21.050875007924635",
         "10996",
         "18091.697017249677"
        ],
        [
         "RADCURE-0275_0213",
         "22.24418291542466",
         "20987",
         "40029.48666551174"
        ],
        [
         "RADCURE-0296_0233",
         "23.84737928219236",
         "39017",
         "74333.3172545582"
        ],
        [
         "RADCURE-0326_0259",
         "22.759537609706143",
         "20913",
         "32169.587664966035"
        ],
        [
         "RADCURE-0338_0270",
         "21.69509966140791",
         "26565",
         "50668.66694950775"
        ],
        [
         "RADCURE-0367_0292",
         "17.36990811315613",
         "10927",
         "17717.123502593488"
        ],
        [
         "RADCURE-0386_0305",
         "20.065890808996308",
         "26835",
         "50394.0349853138"
        ],
        [
         "RADCURE-0391_0309",
         "24.145789610698973",
         "13580",
         "22938.278235832466"
        ],
        [
         "RADCURE-0458_0366",
         "13.805326073143034",
         "7551",
         "12671.865905049326"
        ],
        [
         "RADCURE-0493_0393",
         "13.980806428208195",
         "6603",
         "9031.96685310944"
        ],
        [
         "RADCURE-0507_0404",
         "30.91956790705191",
         "43027",
         "81972.97694625102"
        ],
        [
         "RADCURE-0516_0410",
         "12.41374129854871",
         "3493",
         "5373.1348784835445"
        ],
        [
         "RADCURE-0540_0429",
         "7.624102549832354",
         "1035",
         "1836.843370283148"
        ],
        [
         "RADCURE-0572_0457",
         "27.88823566396755",
         "30564",
         "58296.146683408806"
        ],
        [
         "RADCURE-0601_0481",
         "7.515337172989325",
         "215",
         "410.0795555860782"
        ],
        [
         "RADCURE-0694_0553",
         "27.178137994311943",
         "17874",
         "24686.172871514613"
        ],
        [
         "RADCURE-0700_0559",
         "10.37811405607829",
         "1401",
         "2366.460074256354"
        ],
        [
         "RADCURE-0721_0573",
         "13.582674717644217",
         "4062",
         "7738.727597919252"
        ],
        [
         "RADCURE-0725_0577",
         "15.403347712063406",
         "8763",
         "16714.07974698048"
        ],
        [
         "RADCURE-0747_0596",
         "9.64337749642999",
         "3708",
         "7064.30377476233"
        ],
        [
         "RADCURE-0804_0640",
         "34.92610806519434",
         "44667",
         "122681.57958984376"
        ],
        [
         "RADCURE-0831_0661",
         "40.91367075447292",
         "95679",
         "182493.03162288544"
        ],
        [
         "RADCURE-0850_0675",
         "9.713440936125554",
         "6207",
         "11838.90140243157"
        ],
        [
         "RADCURE-0859_0682",
         "23.183839534957897",
         "18219",
         "27326.896517345594"
        ],
        [
         "RADCURE-0930_0733",
         "27.4066247378542",
         "33147",
         "47111.764219734185"
        ],
        [
         "RADCURE-1049_0827",
         "40.04980923806146",
         "54307",
         "103582.281047503"
        ],
        [
         "RADCURE-1074_0847",
         "24.315185928941013",
         "20693",
         "39423.311221994845"
        ],
        [
         "RADCURE-1081_0852",
         "10.625811546991285",
         "1829",
         "3484.523086310761"
        ],
        [
         "RADCURE-1276_0917",
         "15.266980563858256",
         "6617",
         "12620.913578200369"
        ],
        [
         "RADCURE-1305_0937",
         "11.08668297463061",
         "3470",
         "6618.493292482285"
        ],
        [
         "RADCURE-1398_1002",
         "29.730907303052536",
         "47242",
         "90106.87611626746"
        ],
        [
         "RADCURE-1441_1028",
         "28.88923993675399",
         "23253",
         "44351.53444671198"
        ],
        [
         "RADCURE-1458_1035",
         "10.27872053467498",
         "3172",
         "6050.103954972279"
        ],
        [
         "RADCURE-1521_1086",
         "12.240695048059166",
         "4451",
         "8479.83174257474"
        ],
        [
         "RADCURE-1527_1091",
         "23.528854253939983",
         "11536",
         "22003.152340655804"
        ],
        [
         "RADCURE-1544_1107",
         "19.018039339196108",
         "5805",
         "11072.14800082411"
        ],
        [
         "RADCURE-1550_1112",
         "9.568619074808652",
         "5407",
         "8759.339535913474"
        ],
        [
         "RADCURE-1577_1136",
         "29.88506868386498",
         "45096",
         "86013.70994748735"
        ],
        [
         "RADCURE-1656_1197",
         "9.526363951022931",
         "941",
         "1794.813310727905"
        ],
        [
         "RADCURE-1658_1198",
         "8.731876747053834",
         "3049",
         "5815.500302241639"
        ],
        [
         "RADCURE-1740_1262",
         "19.71430290726744",
         "7863",
         "14997.467653829455"
        ],
        [
         "RADCURE-1746_1267",
         "13.678766182720404",
         "3192",
         "4910.119247672337"
        ],
        [
         "RADCURE-1792_1309",
         "16.2669242444903",
         "12679",
         "24183.249698957607"
        ],
        [
         "RADCURE-1793_1310",
         "55.78346033314452",
         "121807",
         "232328.18803382988"
        ]
       ],
       "shape": {
        "columns": 3,
        "rows": 97
       }
      },
      "text/html": [
       "<div>\n",
       "<style scoped>\n",
       "    .dataframe tbody tr th:only-of-type {\n",
       "        vertical-align: middle;\n",
       "    }\n",
       "\n",
       "    .dataframe tbody tr th {\n",
       "        vertical-align: top;\n",
       "    }\n",
       "\n",
       "    .dataframe thead th {\n",
       "        text-align: right;\n",
       "    }\n",
       "</style>\n",
       "<table border=\"1\" class=\"dataframe\">\n",
       "  <thead>\n",
       "    <tr style=\"text-align: right;\">\n",
       "      <th></th>\n",
       "      <th>Short_Axis_Length</th>\n",
       "      <th>Number_of_Voxels</th>\n",
       "      <th>Actual_Volume (mm^3)</th>\n",
       "    </tr>\n",
       "  </thead>\n",
       "  <tbody>\n",
       "    <tr>\n",
       "      <th>RADCURE-0014_0008</th>\n",
       "      <td>31.637984</td>\n",
       "      <td>54422</td>\n",
       "      <td>103801.625926</td>\n",
       "    </tr>\n",
       "    <tr>\n",
       "      <th>RADCURE-0040_0030</th>\n",
       "      <td>10.990991</td>\n",
       "      <td>7081</td>\n",
       "      <td>13490.381615</td>\n",
       "    </tr>\n",
       "    <tr>\n",
       "      <th>RADCURE-0067_0053</th>\n",
       "      <td>16.150577</td>\n",
       "      <td>9598</td>\n",
       "      <td>18306.714300</td>\n",
       "    </tr>\n",
       "    <tr>\n",
       "      <th>RADCURE-0115_0091</th>\n",
       "      <td>17.056881</td>\n",
       "      <td>12312</td>\n",
       "      <td>23483.253434</td>\n",
       "    </tr>\n",
       "    <tr>\n",
       "      <th>RADCURE-0137_0108</th>\n",
       "      <td>9.932689</td>\n",
       "      <td>7742</td>\n",
       "      <td>14766.678695</td>\n",
       "    </tr>\n",
       "    <tr>\n",
       "      <th>...</th>\n",
       "      <td>...</td>\n",
       "      <td>...</td>\n",
       "      <td>...</td>\n",
       "    </tr>\n",
       "    <tr>\n",
       "      <th>RADCURE-3458_2790</th>\n",
       "      <td>50.322294</td>\n",
       "      <td>127824</td>\n",
       "      <td>221109.958601</td>\n",
       "    </tr>\n",
       "    <tr>\n",
       "      <th>RADCURE-3697_3007</th>\n",
       "      <td>48.159364</td>\n",
       "      <td>121334</td>\n",
       "      <td>231159.717963</td>\n",
       "    </tr>\n",
       "    <tr>\n",
       "      <th>RADCURE-3740_3041</th>\n",
       "      <td>19.583201</td>\n",
       "      <td>9328</td>\n",
       "      <td>17771.258255</td>\n",
       "    </tr>\n",
       "    <tr>\n",
       "      <th>RADCURE-3746_3047</th>\n",
       "      <td>34.858952</td>\n",
       "      <td>53619</td>\n",
       "      <td>102152.347384</td>\n",
       "    </tr>\n",
       "    <tr>\n",
       "      <th>RADCURE-4052_3272</th>\n",
       "      <td>17.355249</td>\n",
       "      <td>6594</td>\n",
       "      <td>12665.755693</td>\n",
       "    </tr>\n",
       "  </tbody>\n",
       "</table>\n",
       "<p>97 rows × 3 columns</p>\n",
       "</div>"
      ],
      "text/plain": [
       "                   Short_Axis_Length  Number_of_Voxels  Actual_Volume (mm^3)\n",
       "RADCURE-0014_0008          31.637984             54422         103801.625926\n",
       "RADCURE-0040_0030          10.990991              7081          13490.381615\n",
       "RADCURE-0067_0053          16.150577              9598          18306.714300\n",
       "RADCURE-0115_0091          17.056881             12312          23483.253434\n",
       "RADCURE-0137_0108           9.932689              7742          14766.678695\n",
       "...                              ...               ...                   ...\n",
       "RADCURE-3458_2790          50.322294            127824         221109.958601\n",
       "RADCURE-3697_3007          48.159364            121334         231159.717963\n",
       "RADCURE-3740_3041          19.583201              9328          17771.258255\n",
       "RADCURE-3746_3047          34.858952             53619         102152.347384\n",
       "RADCURE-4052_3272          17.355249              6594          12665.755693\n",
       "\n",
       "[97 rows x 3 columns]"
      ]
     },
     "execution_count": 7,
     "metadata": {},
     "output_type": "execute_result"
    }
   ],
   "source": [
    "pred_measurements"
   ]
  },
  {
   "cell_type": "code",
   "execution_count": 8,
   "id": "8956eee0",
   "metadata": {},
   "outputs": [],
   "source": [
    "gt_opc.to_csv(data_dir / \"mask_measurements_ground_truth_opc.csv\", index_label = \"PatientID\")"
   ]
  },
  {
   "cell_type": "code",
   "execution_count": 9,
   "id": "aba9f493",
   "metadata": {},
   "outputs": [
    {
     "data": {
      "application/vnd.microsoft.datawrangler.viewer.v0+json": {
       "columns": [
        {
         "name": "index",
         "rawType": "object",
         "type": "string"
        },
        {
         "name": "0",
         "rawType": "float64",
         "type": "float"
        }
       ],
       "ref": "8b9da443-50ce-46a1-ba37-57b27cbd3988",
       "rows": [
        [
         "Short_Axis_Length",
         "0.9328219138931646"
        ],
        [
         "Number_of_Voxels",
         "0.9734908226876383"
        ],
        [
         "Actual_Volume (mm^3)",
         "0.9714753344221719"
        ]
       ],
       "shape": {
        "columns": 1,
        "rows": 3
       }
      },
      "text/plain": [
       "Short_Axis_Length       0.932822\n",
       "Number_of_Voxels        0.973491\n",
       "Actual_Volume (mm^3)    0.971475\n",
       "dtype: float64"
      ]
     },
     "execution_count": 9,
     "metadata": {},
     "output_type": "execute_result"
    }
   ],
   "source": [
    "pred_measurements.corrwith(gt_opc)"
   ]
  },
  {
   "cell_type": "code",
   "execution_count": 10,
   "id": "36847ed1",
   "metadata": {},
   "outputs": [
    {
     "data": {
      "application/vnd.plotly.v1+json": {
       "config": {
        "plotlyServerURL": "https://plot.ly"
       },
       "data": [
        {
         "marker": {
          "color": "Red",
          "line": {
           "width": 1
          },
          "size": 7
         },
         "mode": "markers",
         "type": "scatter",
         "x": {
          "bdata": "IceQiugv+0AIx0wTBGHDQBR4NRFbz95ADedDu3nm2kBE1G0jK0XQQC/mR15+ObVAqzPazcQJy0DUxZ4bbj3mQJUW1StHp+VAUe/zjhua3EAIBYxFUzHjQFkFVd25U9NAZeGzUwww60CJUvN/nEvhQEpPL0MNmMNAi917QkZgwUAwvXtMbJrmQKaaaeLOArFAZxG9lFC7okCHR+hBMbHsQMVHSDJVpc1Aebe+RlZl20DMFU+gKPOiQC4HklnmJ7tAAMbg0Ebl1kBU5PitkCPBQAAAADQ8yPJAM+CncF9F/0BwxQj09b/UQBEIM1FL3OFAy2z0xSfD50Aw7cuyrMnzQOPotnoErdpAlAAVGYkbr0BWhj9EnifIQHxE2V9cGcFAWw9cN+AN7EA8+NsyAifwQKBFj1hAc7VAb6C0G5QexECvxGUD6dvRQHTmX2CkoshA71FOalSlwkDzbrD0GYL6QMmG7Wcf4qlAosZTyUFPuUBX/K4NUY/gQJ4rEnAxRbNAW91jokZs5EBVPZa2D4cQQVmWHJvBxs5A0vUTDkc21kB5h/U8goHsQDPn/BFvd+tAaSXtmWWixEAgRk85iFu3QDFoOCSNPP9APbWTGvv700CgREIlkVu2QOalaMs7f8ZArEJ4tRd0+UDr847pdDX+QFYGAdRuK7hAMEXncwHIs0DQBDjTs1viQADM/cPZN7pA3gzXP7r94EBaaI1XNT4IQYUynn3OftdAlWgyT0ii0EDoHreGaPvkQCnxOe+9scJAee6KibmB/EDqD1UB0ZrWQO+RN1cVgvBAQEFi2m9evkBhd8uCgHnjQJ44uAp6k+BAN7n3uB0kE0FzyGLko/jzQP7VdQ7bLdNAsmOCvtwqvEBUVC+2GZvQQJe9bG4NocFAlYM1CT5s2kD5XhzLgyXIQHL1IN9LffRAhporHaiz1EAo8+diMtHgQAAAAMFlYvxAfiCfNYhq0UDD7yISjJ/iQKFvfjD5BApBfSFj6UIxDkHp+PRLLdHSQKX+r9OHp/hA2JrGghuEykA=",
          "dtype": "f8"
         },
         "y": {
          "bdata": "pQ7LA5pX+UCOKcTYMFnKQLCkF7et4NFAA4ZEONDu1kCQR3ffVtfMQI/oXia2NKFABz3um+yq0UAgjcOSr4vjQACEeRPVJfJAiIRNnGVq30B8fqZXlb3oQABsd+dHTdFAVIWZHkGb6EBBqp3OkWbWQCYG+tXuv8hAirrXwfujwUBhZJKhTwP0QMJzZYci/bRAKKJ1nF+znEB2Z6GxBHfsQLgGFNxFoXlAa69TEIsb2ECLWdqO63yiQNNz20O6Or5ARxSTGoVS0ECPzS7ETZi7QAEAAEaZ8/1A1n/DQOhGBkEQpidhcx/HQOhJimC5r9pAqfF8dPgA50Cgqit/5En5QDXUh/XpP+NAaAv40Qs5q0B2ZiHwdKbIQMeGakh+2rlAxH2SBK7/9UCt/S8a8aflQDIGy5waordAmWqKduqPwECiBfO/yXzVQKvlsPESoMVAGK7pdasbwUCB5fFb2//0QFoHh9RAC5xA9MXOE4C3tkCupxTcu0rNQND0A4ceLrNAMVYR+8+d10Bv4ReBQVwMQea024VINMtAVZXmKKxU1ECGr63IxLTsQGlsYfOM0vBA2scn/XD1vUAcxYrIhn+zQDxcdXh1JQBBzmUlmZYl1kCXdsIiVy+3QLmmI7hRoMlASW+xPyrK+0BTNEoIR8D/QBYFISK7ZrNAMoYJDUqet0Cn5CrxQMDhQG+ByKjWoMNAB2ZsNPsQ2EAl+KQ6pXEHQdnlbOegM9FAlZN5o+8fzUDu+xTpIObqQBZUpJhM97ZAGqsKt+Iy/ECRMJ5WG3PRQKiwudP5PPJAqJaNR41MwkBxv3XVBMvgQGl+O2hgZeJAJE7TFldZD0EwWaKR4xj3QJ6K1riZBNZAMQ0x27dgvkCvFWz7j/LTQK5f2kb+N8pAXJTbZIG33ECglMmM1YvDQMnHjGTCPfRAxZTOSOME2kCcJeK9tGTpQAAAIJ9EBQBBfgGzwsrs0EBp1JTbwinmQNsKN6uv/QpBMmpjvr03DEGenEGH0FrRQPhF4o6F8PhAuISMuuC8yEA=",
          "dtype": "f8"
         }
        },
        {
         "line": {
          "color": "Blue"
         },
         "mode": "lines",
         "name": "Fit Line",
         "type": "scatter",
         "x": {
          "bdata": "IceQiugv+0AIx0wTBGHDQBR4NRFbz95ADedDu3nm2kBE1G0jK0XQQC/mR15+ObVAqzPazcQJy0DUxZ4bbj3mQJUW1StHp+VAUe/zjhua3EAIBYxFUzHjQFkFVd25U9NAZeGzUwww60CJUvN/nEvhQEpPL0MNmMNAi917QkZgwUAwvXtMbJrmQKaaaeLOArFAZxG9lFC7okCHR+hBMbHsQMVHSDJVpc1Aebe+RlZl20DMFU+gKPOiQC4HklnmJ7tAAMbg0Ebl1kBU5PitkCPBQAAAADQ8yPJAM+CncF9F/0BwxQj09b/UQBEIM1FL3OFAy2z0xSfD50Aw7cuyrMnzQOPotnoErdpAlAAVGYkbr0BWhj9EnifIQHxE2V9cGcFAWw9cN+AN7EA8+NsyAifwQKBFj1hAc7VAb6C0G5QexECvxGUD6dvRQHTmX2CkoshA71FOalSlwkDzbrD0GYL6QMmG7Wcf4qlAosZTyUFPuUBX/K4NUY/gQJ4rEnAxRbNAW91jokZs5EBVPZa2D4cQQVmWHJvBxs5A0vUTDkc21kB5h/U8goHsQDPn/BFvd+tAaSXtmWWixEAgRk85iFu3QDFoOCSNPP9APbWTGvv700CgREIlkVu2QOalaMs7f8ZArEJ4tRd0+UDr847pdDX+QFYGAdRuK7hAMEXncwHIs0DQBDjTs1viQADM/cPZN7pA3gzXP7r94EBaaI1XNT4IQYUynn3OftdAlWgyT0ii0EDoHreGaPvkQCnxOe+9scJAee6KibmB/EDqD1UB0ZrWQO+RN1cVgvBAQEFi2m9evkBhd8uCgHnjQJ44uAp6k+BAN7n3uB0kE0FzyGLko/jzQP7VdQ7bLdNAsmOCvtwqvEBUVC+2GZvQQJe9bG4NocFAlYM1CT5s2kD5XhzLgyXIQHL1IN9LffRAhporHaiz1EAo8+diMtHgQAAAAMFlYvxAfiCfNYhq0UDD7yISjJ/iQKFvfjD5BApBfSFj6UIxDkHp+PRLLdHSQKX+r9OHp/hA2JrGghuEykA=",
          "dtype": "f8"
         },
         "y": {
          "bdata": "yon/hvhw+kARcIoHYSbIQFBD/x5/BuBAGQLn/Fta3ECODPgri0zSQAegcid+t79A2QL3kdxkz0ArSe0can3mQCkfVYRm7+VAKMbmeWH23UDwUvQgl5vjQKZw4QOwMNVAw/RXLGIr60CK7viSM9DhQDmxzpluWshAOqopb21BxkAMZQUKXtXmQAdOHkpFu7tAUE205zGAtEA+OBlHp5fsQP9JtUwf7tBAlG6XWFjS3ECPlZ2Dmpq0QDh3iznNqcJA4hR4krmQ2EAbSggwAgjGQLKLN1/qffJAlKOMvsVN/kA7BRxlLonWQHG7f+8KWeJAAfdEZATu50DQ983tZnHzQGqqSvUDJNxAu/wY13JaukDxizrGt6rMQHi4THdb/sVAlWeAOzD960BMmztMLQHwQPLzOsAe7r9AmrXe56rZyEAlcByPPc3TQHB/uPESH81A2+KDfd10x0DWaKV9lcz5QOB1QTX84bdADCgh30nKwUC86y+xHB7hQDUN0NNO3r1A6je9l3jF5EDd70J8oKAPQWLb5qX9dtFA5Yd25jXr10DgVvDcjWrsQEu/93LmbutAQoLPb1dWyUDugA3m993AQFS3tddtRf5ApteXvdLP1UDkjdMZ7GTAQNhPaJVVGctAJFOElDXN+EDUrV8EmEz9QOSzFOdIQMFAxefW1QdavkDaTMKri9HiQAQQBUJIOMJAZDx384mG4UCUh6Xq+koHQdtf4wnvIdlApoIfZpyk0kAthqGK2EzlQKIqxsqagMdA2B2GXXqw+0DrmgrjTErYQCpWD8pQV/BAivLcrccuxEBZv+/s2t/jQJIepvULIuFALbelNBtJEkHIXyl70p3zQM5aMqfeDNVAotcC40Mkw0DmmWlz0Z3SQG/pxtGxfsZAciECQ8Dm20B6DVZ8uqjMQL5Np99JG/RAqxfaRYt91kBA+CHya1zhQO7Vaz7ZkvtALjSs3AFi00DotIyUthHjQHk4gvUY+QhBXKV0U3zrDEEt0H3MNrXUQBiFNvi7C/hAkKFVz3HmzkA=",
          "dtype": "f8",
          "shape": "97, 1"
         }
        }
       ],
       "layout": {
        "autosize": false,
        "height": 700,
        "margin": {
         "b": 100,
         "l": 50,
         "pad": 4,
         "r": 50,
         "t": 100
        },
        "shapes": [
         {
          "layer": "below",
          "line": {
           "color": "Grey",
           "dash": "dash"
          },
          "type": "line",
          "x0": 0,
          "x1": 140000,
          "xref": "x",
          "y0": 0,
          "y1": 140000,
          "yref": "y"
         }
        ],
        "template": {
         "data": {
          "bar": [
           {
            "error_x": {
             "color": "#2a3f5f"
            },
            "error_y": {
             "color": "#2a3f5f"
            },
            "marker": {
             "line": {
              "color": "#E5ECF6",
              "width": 0.5
             },
             "pattern": {
              "fillmode": "overlay",
              "size": 10,
              "solidity": 0.2
             }
            },
            "type": "bar"
           }
          ],
          "barpolar": [
           {
            "marker": {
             "line": {
              "color": "#E5ECF6",
              "width": 0.5
             },
             "pattern": {
              "fillmode": "overlay",
              "size": 10,
              "solidity": 0.2
             }
            },
            "type": "barpolar"
           }
          ],
          "carpet": [
           {
            "aaxis": {
             "endlinecolor": "#2a3f5f",
             "gridcolor": "white",
             "linecolor": "white",
             "minorgridcolor": "white",
             "startlinecolor": "#2a3f5f"
            },
            "baxis": {
             "endlinecolor": "#2a3f5f",
             "gridcolor": "white",
             "linecolor": "white",
             "minorgridcolor": "white",
             "startlinecolor": "#2a3f5f"
            },
            "type": "carpet"
           }
          ],
          "choropleth": [
           {
            "colorbar": {
             "outlinewidth": 0,
             "ticks": ""
            },
            "type": "choropleth"
           }
          ],
          "contour": [
           {
            "colorbar": {
             "outlinewidth": 0,
             "ticks": ""
            },
            "colorscale": [
             [
              0,
              "#0d0887"
             ],
             [
              0.1111111111111111,
              "#46039f"
             ],
             [
              0.2222222222222222,
              "#7201a8"
             ],
             [
              0.3333333333333333,
              "#9c179e"
             ],
             [
              0.4444444444444444,
              "#bd3786"
             ],
             [
              0.5555555555555556,
              "#d8576b"
             ],
             [
              0.6666666666666666,
              "#ed7953"
             ],
             [
              0.7777777777777778,
              "#fb9f3a"
             ],
             [
              0.8888888888888888,
              "#fdca26"
             ],
             [
              1,
              "#f0f921"
             ]
            ],
            "type": "contour"
           }
          ],
          "contourcarpet": [
           {
            "colorbar": {
             "outlinewidth": 0,
             "ticks": ""
            },
            "type": "contourcarpet"
           }
          ],
          "heatmap": [
           {
            "colorbar": {
             "outlinewidth": 0,
             "ticks": ""
            },
            "colorscale": [
             [
              0,
              "#0d0887"
             ],
             [
              0.1111111111111111,
              "#46039f"
             ],
             [
              0.2222222222222222,
              "#7201a8"
             ],
             [
              0.3333333333333333,
              "#9c179e"
             ],
             [
              0.4444444444444444,
              "#bd3786"
             ],
             [
              0.5555555555555556,
              "#d8576b"
             ],
             [
              0.6666666666666666,
              "#ed7953"
             ],
             [
              0.7777777777777778,
              "#fb9f3a"
             ],
             [
              0.8888888888888888,
              "#fdca26"
             ],
             [
              1,
              "#f0f921"
             ]
            ],
            "type": "heatmap"
           }
          ],
          "histogram": [
           {
            "marker": {
             "pattern": {
              "fillmode": "overlay",
              "size": 10,
              "solidity": 0.2
             }
            },
            "type": "histogram"
           }
          ],
          "histogram2d": [
           {
            "colorbar": {
             "outlinewidth": 0,
             "ticks": ""
            },
            "colorscale": [
             [
              0,
              "#0d0887"
             ],
             [
              0.1111111111111111,
              "#46039f"
             ],
             [
              0.2222222222222222,
              "#7201a8"
             ],
             [
              0.3333333333333333,
              "#9c179e"
             ],
             [
              0.4444444444444444,
              "#bd3786"
             ],
             [
              0.5555555555555556,
              "#d8576b"
             ],
             [
              0.6666666666666666,
              "#ed7953"
             ],
             [
              0.7777777777777778,
              "#fb9f3a"
             ],
             [
              0.8888888888888888,
              "#fdca26"
             ],
             [
              1,
              "#f0f921"
             ]
            ],
            "type": "histogram2d"
           }
          ],
          "histogram2dcontour": [
           {
            "colorbar": {
             "outlinewidth": 0,
             "ticks": ""
            },
            "colorscale": [
             [
              0,
              "#0d0887"
             ],
             [
              0.1111111111111111,
              "#46039f"
             ],
             [
              0.2222222222222222,
              "#7201a8"
             ],
             [
              0.3333333333333333,
              "#9c179e"
             ],
             [
              0.4444444444444444,
              "#bd3786"
             ],
             [
              0.5555555555555556,
              "#d8576b"
             ],
             [
              0.6666666666666666,
              "#ed7953"
             ],
             [
              0.7777777777777778,
              "#fb9f3a"
             ],
             [
              0.8888888888888888,
              "#fdca26"
             ],
             [
              1,
              "#f0f921"
             ]
            ],
            "type": "histogram2dcontour"
           }
          ],
          "mesh3d": [
           {
            "colorbar": {
             "outlinewidth": 0,
             "ticks": ""
            },
            "type": "mesh3d"
           }
          ],
          "parcoords": [
           {
            "line": {
             "colorbar": {
              "outlinewidth": 0,
              "ticks": ""
             }
            },
            "type": "parcoords"
           }
          ],
          "pie": [
           {
            "automargin": true,
            "type": "pie"
           }
          ],
          "scatter": [
           {
            "fillpattern": {
             "fillmode": "overlay",
             "size": 10,
             "solidity": 0.2
            },
            "type": "scatter"
           }
          ],
          "scatter3d": [
           {
            "line": {
             "colorbar": {
              "outlinewidth": 0,
              "ticks": ""
             }
            },
            "marker": {
             "colorbar": {
              "outlinewidth": 0,
              "ticks": ""
             }
            },
            "type": "scatter3d"
           }
          ],
          "scattercarpet": [
           {
            "marker": {
             "colorbar": {
              "outlinewidth": 0,
              "ticks": ""
             }
            },
            "type": "scattercarpet"
           }
          ],
          "scattergeo": [
           {
            "marker": {
             "colorbar": {
              "outlinewidth": 0,
              "ticks": ""
             }
            },
            "type": "scattergeo"
           }
          ],
          "scattergl": [
           {
            "marker": {
             "colorbar": {
              "outlinewidth": 0,
              "ticks": ""
             }
            },
            "type": "scattergl"
           }
          ],
          "scattermap": [
           {
            "marker": {
             "colorbar": {
              "outlinewidth": 0,
              "ticks": ""
             }
            },
            "type": "scattermap"
           }
          ],
          "scattermapbox": [
           {
            "marker": {
             "colorbar": {
              "outlinewidth": 0,
              "ticks": ""
             }
            },
            "type": "scattermapbox"
           }
          ],
          "scatterpolar": [
           {
            "marker": {
             "colorbar": {
              "outlinewidth": 0,
              "ticks": ""
             }
            },
            "type": "scatterpolar"
           }
          ],
          "scatterpolargl": [
           {
            "marker": {
             "colorbar": {
              "outlinewidth": 0,
              "ticks": ""
             }
            },
            "type": "scatterpolargl"
           }
          ],
          "scatterternary": [
           {
            "marker": {
             "colorbar": {
              "outlinewidth": 0,
              "ticks": ""
             }
            },
            "type": "scatterternary"
           }
          ],
          "surface": [
           {
            "colorbar": {
             "outlinewidth": 0,
             "ticks": ""
            },
            "colorscale": [
             [
              0,
              "#0d0887"
             ],
             [
              0.1111111111111111,
              "#46039f"
             ],
             [
              0.2222222222222222,
              "#7201a8"
             ],
             [
              0.3333333333333333,
              "#9c179e"
             ],
             [
              0.4444444444444444,
              "#bd3786"
             ],
             [
              0.5555555555555556,
              "#d8576b"
             ],
             [
              0.6666666666666666,
              "#ed7953"
             ],
             [
              0.7777777777777778,
              "#fb9f3a"
             ],
             [
              0.8888888888888888,
              "#fdca26"
             ],
             [
              1,
              "#f0f921"
             ]
            ],
            "type": "surface"
           }
          ],
          "table": [
           {
            "cells": {
             "fill": {
              "color": "#EBF0F8"
             },
             "line": {
              "color": "white"
             }
            },
            "header": {
             "fill": {
              "color": "#C8D4E3"
             },
             "line": {
              "color": "white"
             }
            },
            "type": "table"
           }
          ]
         },
         "layout": {
          "annotationdefaults": {
           "arrowcolor": "#2a3f5f",
           "arrowhead": 0,
           "arrowwidth": 1
          },
          "autotypenumbers": "strict",
          "coloraxis": {
           "colorbar": {
            "outlinewidth": 0,
            "ticks": ""
           }
          },
          "colorscale": {
           "diverging": [
            [
             0,
             "#8e0152"
            ],
            [
             0.1,
             "#c51b7d"
            ],
            [
             0.2,
             "#de77ae"
            ],
            [
             0.3,
             "#f1b6da"
            ],
            [
             0.4,
             "#fde0ef"
            ],
            [
             0.5,
             "#f7f7f7"
            ],
            [
             0.6,
             "#e6f5d0"
            ],
            [
             0.7,
             "#b8e186"
            ],
            [
             0.8,
             "#7fbc41"
            ],
            [
             0.9,
             "#4d9221"
            ],
            [
             1,
             "#276419"
            ]
           ],
           "sequential": [
            [
             0,
             "#0d0887"
            ],
            [
             0.1111111111111111,
             "#46039f"
            ],
            [
             0.2222222222222222,
             "#7201a8"
            ],
            [
             0.3333333333333333,
             "#9c179e"
            ],
            [
             0.4444444444444444,
             "#bd3786"
            ],
            [
             0.5555555555555556,
             "#d8576b"
            ],
            [
             0.6666666666666666,
             "#ed7953"
            ],
            [
             0.7777777777777778,
             "#fb9f3a"
            ],
            [
             0.8888888888888888,
             "#fdca26"
            ],
            [
             1,
             "#f0f921"
            ]
           ],
           "sequentialminus": [
            [
             0,
             "#0d0887"
            ],
            [
             0.1111111111111111,
             "#46039f"
            ],
            [
             0.2222222222222222,
             "#7201a8"
            ],
            [
             0.3333333333333333,
             "#9c179e"
            ],
            [
             0.4444444444444444,
             "#bd3786"
            ],
            [
             0.5555555555555556,
             "#d8576b"
            ],
            [
             0.6666666666666666,
             "#ed7953"
            ],
            [
             0.7777777777777778,
             "#fb9f3a"
            ],
            [
             0.8888888888888888,
             "#fdca26"
            ],
            [
             1,
             "#f0f921"
            ]
           ]
          },
          "colorway": [
           "#636efa",
           "#EF553B",
           "#00cc96",
           "#ab63fa",
           "#FFA15A",
           "#19d3f3",
           "#FF6692",
           "#B6E880",
           "#FF97FF",
           "#FECB52"
          ],
          "font": {
           "color": "#2a3f5f"
          },
          "geo": {
           "bgcolor": "white",
           "lakecolor": "white",
           "landcolor": "#E5ECF6",
           "showlakes": true,
           "showland": true,
           "subunitcolor": "white"
          },
          "hoverlabel": {
           "align": "left"
          },
          "hovermode": "closest",
          "mapbox": {
           "style": "light"
          },
          "paper_bgcolor": "white",
          "plot_bgcolor": "#E5ECF6",
          "polar": {
           "angularaxis": {
            "gridcolor": "white",
            "linecolor": "white",
            "ticks": ""
           },
           "bgcolor": "#E5ECF6",
           "radialaxis": {
            "gridcolor": "white",
            "linecolor": "white",
            "ticks": ""
           }
          },
          "scene": {
           "xaxis": {
            "backgroundcolor": "#E5ECF6",
            "gridcolor": "white",
            "gridwidth": 2,
            "linecolor": "white",
            "showbackground": true,
            "ticks": "",
            "zerolinecolor": "white"
           },
           "yaxis": {
            "backgroundcolor": "#E5ECF6",
            "gridcolor": "white",
            "gridwidth": 2,
            "linecolor": "white",
            "showbackground": true,
            "ticks": "",
            "zerolinecolor": "white"
           },
           "zaxis": {
            "backgroundcolor": "#E5ECF6",
            "gridcolor": "white",
            "gridwidth": 2,
            "linecolor": "white",
            "showbackground": true,
            "ticks": "",
            "zerolinecolor": "white"
           }
          },
          "shapedefaults": {
           "line": {
            "color": "#2a3f5f"
           }
          },
          "ternary": {
           "aaxis": {
            "gridcolor": "white",
            "linecolor": "white",
            "ticks": ""
           },
           "baxis": {
            "gridcolor": "white",
            "linecolor": "white",
            "ticks": ""
           },
           "bgcolor": "#E5ECF6",
           "caxis": {
            "gridcolor": "white",
            "linecolor": "white",
            "ticks": ""
           }
          },
          "title": {
           "x": 0.05
          },
          "xaxis": {
           "automargin": true,
           "gridcolor": "white",
           "linecolor": "white",
           "ticks": "",
           "title": {
            "standoff": 15
           },
           "zerolinecolor": "white",
           "zerolinewidth": 2
          },
          "yaxis": {
           "automargin": true,
           "gridcolor": "white",
           "linecolor": "white",
           "ticks": "",
           "title": {
            "standoff": 15
           },
           "zerolinecolor": "white",
           "zerolinewidth": 2
          }
         }
        },
        "title": {
         "font": {
          "size": 20
         },
         "subtitle": {
          "font": {
           "color": "grey",
           "size": 12
          },
          "text": "MedSAM2 Segmentation Evaluation"
         },
         "text": "Oral Cavity Squamous Cell Carcinoma",
         "x": 0.5,
         "xanchor": "center",
         "y": 0.95,
         "yanchor": "top"
        },
        "width": 700,
        "xaxis": {
         "range": [
          0,
          140000
         ],
         "title": {
          "text": "Ground Truth Volume (cubic mm)"
         }
        },
        "yaxis": {
         "range": [
          0,
          140000
         ],
         "title": {
          "text": "Predicted Volume (cubic mm)"
         }
        }
       }
      }
     },
     "metadata": {},
     "output_type": "display_data"
    }
   ],
   "source": [
    "import plotly.graph_objects as go\n",
    "from sklearn.linear_model import LinearRegression\n",
    "\n",
    "vol_regr = LinearRegression()\n",
    "vol_regr_res = vol_regr.fit(gt_opc[['Actual_Volume (mm^3)']], pred_measurements[['Actual_Volume (mm^3)']])\n",
    "vol_fit = vol_regr_res.predict(gt_opc[['Actual_Volume (mm^3)']])\n",
    "\n",
    "fig = go.Figure(data=go.Scatter(x=gt_opc['Actual_Volume (mm^3)'], y=pred_measurements['Actual_Volume (mm^3)'], \n",
    "                                mode='markers',\n",
    "                                marker=dict(color='Red', size=7, line_width=1),\n",
    "                                ),\n",
    "                layout=go.Layout(xaxis=dict(range=[0,140000],title='Ground Truth Volume (cubic mm)'),\n",
    "                                 yaxis=dict(range=[0,140000],title='Predicted Volume (cubic mm)'),\n",
    "                                 ))\n",
    "\n",
    "fig.add_trace(go.Scatter(x=gt_opc['Actual_Volume (mm^3)'], y=vol_fit, mode='lines', line=dict(color='Blue'), name='Fit Line'))\n",
    "\n",
    "fig.add_shape(type='line',\n",
    "              x0=0, y0=0, x1=140000, y1=140000,\n",
    "              line=dict(color='Grey',dash='dash'),\n",
    "                xref='x', yref='y',\n",
    "                layer='below'\n",
    "                )\n",
    "\n",
    "fig.update_layout(\n",
    "    autosize=False,\n",
    "    width=700,\n",
    "    height=700,\n",
    "    margin=dict(\n",
    "        l=50,\n",
    "        r=50,\n",
    "        b=100,\n",
    "        t=100,\n",
    "        pad=4\n",
    "    ),\n",
    "    title={\n",
    "        'text': 'Oral Cavity Squamous Cell Carcinoma',\n",
    "        'y':0.95,\n",
    "        'x':0.5,\n",
    "        'xanchor': 'center',\n",
    "        'yanchor': 'top',\n",
    "        'font': {'size': 20},\n",
    "        'subtitle':{\n",
    "            'text': 'MedSAM2 Segmentation Evaluation',\n",
    "            'font': {'size': 12, 'color': 'grey'},\n",
    "        }\n",
    "\n",
    "    },\n",
    ")\n",
    "fig.show()"
   ]
  },
  {
   "cell_type": "code",
   "execution_count": 11,
   "id": "416201b5",
   "metadata": {},
   "outputs": [
    {
     "data": {
      "application/vnd.plotly.v1+json": {
       "config": {
        "plotlyServerURL": "https://plot.ly"
       },
       "data": [
        {
         "marker": {
          "color": "Red",
          "line": {
           "width": 2
          },
          "size": 8
         },
         "mode": "markers",
         "type": "scatter",
         "x": {
          "bdata": "l4N3bHToQEAbedNCCJIfQJxCYLUUmzNAvUiADC3kMkBVBRL9dhsmQFqIcE+dHzBACP1zRwRaMkD/vjX73kM3QGbbLIlOCTJAoGlGqrJ8NUBED5WxRs4zQMfXH+Jd7zFArtiOR2rXMkBE7B3RhQg/QG+ijsSz7CVAjvfyckyjKEBilciVI7k0QIkoSB13byJAUAZJ3fKSGUD31ShOOrk6QOrRW3a/PjRA2j+6Nb/HNkDAsVSHQX4gQEPJIbSaCipAxzzp7aNCM0A64cVTToQjQEziGMKEjDtA35wRMaOQQECumjpK6+MmQOep9yN2nzpAP26bNdfbO0BZ6QKaMQpAQDARTU6rkjdA+TxsZO/zJECOz4aoJ7AuQC2/wUGtSCtAotzWJNc4NEBOMQQMNng9QGMa2lr7tSFA4LVn6YyhKUCbP8cIleAwQN3qmovC2zBApUi/MVs0IUArGDIUB39AQBoODeLD7RlATENEmtSsIUBXbLxrPgI6QNC34IwEqytA1Fm5wVjKOkAGb1Q1BDhNQNZpSLMWkDBAXwYZ9IekMECnXSWH4mU3QHzKPKhcnTNAh28qf52IMECfoc835twmQAP0pdSsaEVALGw1uMDSKUA9OrpsMJUsQL9/BkTESC9A8JI61azGQkDCmGw5/L9AQNrD0GswLx5AwwUYV+VCHkB6CVdMl1E5QNdpKPf1ViVAdQE6D/PhN0CBZx1aYYZBQPvVhOPjyjVANno6jvK8NkA0cMjs39g0QDIAUDyysiJAazph3g9TQEBXKYb+BqozQDO+57MNyzxA5HGY1/diKUBH6BytkWE3QC1e0CX4YDJAB2EEB7sGTEBmdMeIRQU5QMw1uZcS7TRAuX/2JaVEK0D2gDyRoLomQDLbtVDoPSJATmg0t5SWMUCq376zjvwxQLWURbzC4D1AT3cV1VWKMkBU9DgsGPYrQNybu7nfoj5AnG4h5ZgRKUBNuSa/mRY0QHonKKCYSEZA7gY6t4spSkCMwcrcwvU1QBIpVb/hUT5AtezOTAAdMEA=",
          "dtype": "f8"
         },
         "y": {
          "bdata": "YxYx7VKjP0DdD2YxY/slQDIbUDqMJjBACR65vo8OMUCZLj1uid0jQFyYZi91RCFAVTj/JAYNNUCo/YPFgj42QPtSQNnt2DdAGMWJDnHCNkAoNSkN8rE1QNiHUEyyXjFAAr9VON4QNEB1DMp3UiU4QOeH9bJTnCtAt7iZQiz2K0A3PWfNaOs+QOWKRObV0yhAS4UjvRR/HkCo4ZdpY+M7QOabQYy0Dx5Arb6bc5otO0BBB2IqmMEkQNT5MFdUKitAH3Vgl4POLkBfTHTGaEkjQChJhrWKdkFA7OLMKfN0REDikmAhSG0jQCRblhsQLzdAENQOjxhoO0CeQSwmYAZEQAb2aAawUDhAz5L/XmpAJUCx4CytsYguQCNR+rVhLCZAqQSzvRy7PUDPp346peM8QCtOOnW0jiRAUHKfYTx7KEDQBQ3+Yoc3QITj4zmeBDNAsF4UCiIjI0Dy6Xvck+I9QKnfZpN/DSNAIZmKjLh2IUDBJiqO3LYzQG3UuD2HWytAaZi0JVVEMEDUSJ5tSORLQDYkZL/PXS1A5cizbfBPMEAlIE21MS82QMDjVXwY9ThAtg9WnIQKMEBP/XriRaInQC1EMrEp8kNA9ncXiEuoLECA0oi/BYIsQJylLKz0YDRArrZi4vIyREBfrInkAJJBQLgtZhyAKBlAE5RIIHZyLECn+Q17Vsk6QGfSq8HvwCtA9VPUYnhSN0AUzaEX9mhCQD7xH+1dhTRA2kdtUuOyMkCS2S2RzHE3QCCWfk1peSRADuCq42YZQEBCVr1TJ3oxQJXdeI4sX0BAZIygltt3LUB6MAuZMKU1QCS2DuVF4DNARSoYxW5HSkD90EiHfsM/QOiXB35udDdAbfcrEYACL0DnwilLWDooQCNIbDbnmSlAyCUNTRMIN0B/lqPTnXcxQIhyBu5vpUBATnCrR1XgNUCZSKRXBfYzQLwO4ROvMEFA+RhD/d5iJ0A1iLwUN0s4QOHO//FAKUlAWmxZDWYUSEBiNnikTJUzQHwo6iTybUFA4FCQlPFaMUA=",
          "dtype": "f8"
         }
        }
       ],
       "layout": {
        "autosize": false,
        "height": 700,
        "margin": {
         "b": 100,
         "l": 50,
         "pad": 4,
         "r": 50,
         "t": 100
        },
        "template": {
         "data": {
          "bar": [
           {
            "error_x": {
             "color": "#2a3f5f"
            },
            "error_y": {
             "color": "#2a3f5f"
            },
            "marker": {
             "line": {
              "color": "#E5ECF6",
              "width": 0.5
             },
             "pattern": {
              "fillmode": "overlay",
              "size": 10,
              "solidity": 0.2
             }
            },
            "type": "bar"
           }
          ],
          "barpolar": [
           {
            "marker": {
             "line": {
              "color": "#E5ECF6",
              "width": 0.5
             },
             "pattern": {
              "fillmode": "overlay",
              "size": 10,
              "solidity": 0.2
             }
            },
            "type": "barpolar"
           }
          ],
          "carpet": [
           {
            "aaxis": {
             "endlinecolor": "#2a3f5f",
             "gridcolor": "white",
             "linecolor": "white",
             "minorgridcolor": "white",
             "startlinecolor": "#2a3f5f"
            },
            "baxis": {
             "endlinecolor": "#2a3f5f",
             "gridcolor": "white",
             "linecolor": "white",
             "minorgridcolor": "white",
             "startlinecolor": "#2a3f5f"
            },
            "type": "carpet"
           }
          ],
          "choropleth": [
           {
            "colorbar": {
             "outlinewidth": 0,
             "ticks": ""
            },
            "type": "choropleth"
           }
          ],
          "contour": [
           {
            "colorbar": {
             "outlinewidth": 0,
             "ticks": ""
            },
            "colorscale": [
             [
              0,
              "#0d0887"
             ],
             [
              0.1111111111111111,
              "#46039f"
             ],
             [
              0.2222222222222222,
              "#7201a8"
             ],
             [
              0.3333333333333333,
              "#9c179e"
             ],
             [
              0.4444444444444444,
              "#bd3786"
             ],
             [
              0.5555555555555556,
              "#d8576b"
             ],
             [
              0.6666666666666666,
              "#ed7953"
             ],
             [
              0.7777777777777778,
              "#fb9f3a"
             ],
             [
              0.8888888888888888,
              "#fdca26"
             ],
             [
              1,
              "#f0f921"
             ]
            ],
            "type": "contour"
           }
          ],
          "contourcarpet": [
           {
            "colorbar": {
             "outlinewidth": 0,
             "ticks": ""
            },
            "type": "contourcarpet"
           }
          ],
          "heatmap": [
           {
            "colorbar": {
             "outlinewidth": 0,
             "ticks": ""
            },
            "colorscale": [
             [
              0,
              "#0d0887"
             ],
             [
              0.1111111111111111,
              "#46039f"
             ],
             [
              0.2222222222222222,
              "#7201a8"
             ],
             [
              0.3333333333333333,
              "#9c179e"
             ],
             [
              0.4444444444444444,
              "#bd3786"
             ],
             [
              0.5555555555555556,
              "#d8576b"
             ],
             [
              0.6666666666666666,
              "#ed7953"
             ],
             [
              0.7777777777777778,
              "#fb9f3a"
             ],
             [
              0.8888888888888888,
              "#fdca26"
             ],
             [
              1,
              "#f0f921"
             ]
            ],
            "type": "heatmap"
           }
          ],
          "histogram": [
           {
            "marker": {
             "pattern": {
              "fillmode": "overlay",
              "size": 10,
              "solidity": 0.2
             }
            },
            "type": "histogram"
           }
          ],
          "histogram2d": [
           {
            "colorbar": {
             "outlinewidth": 0,
             "ticks": ""
            },
            "colorscale": [
             [
              0,
              "#0d0887"
             ],
             [
              0.1111111111111111,
              "#46039f"
             ],
             [
              0.2222222222222222,
              "#7201a8"
             ],
             [
              0.3333333333333333,
              "#9c179e"
             ],
             [
              0.4444444444444444,
              "#bd3786"
             ],
             [
              0.5555555555555556,
              "#d8576b"
             ],
             [
              0.6666666666666666,
              "#ed7953"
             ],
             [
              0.7777777777777778,
              "#fb9f3a"
             ],
             [
              0.8888888888888888,
              "#fdca26"
             ],
             [
              1,
              "#f0f921"
             ]
            ],
            "type": "histogram2d"
           }
          ],
          "histogram2dcontour": [
           {
            "colorbar": {
             "outlinewidth": 0,
             "ticks": ""
            },
            "colorscale": [
             [
              0,
              "#0d0887"
             ],
             [
              0.1111111111111111,
              "#46039f"
             ],
             [
              0.2222222222222222,
              "#7201a8"
             ],
             [
              0.3333333333333333,
              "#9c179e"
             ],
             [
              0.4444444444444444,
              "#bd3786"
             ],
             [
              0.5555555555555556,
              "#d8576b"
             ],
             [
              0.6666666666666666,
              "#ed7953"
             ],
             [
              0.7777777777777778,
              "#fb9f3a"
             ],
             [
              0.8888888888888888,
              "#fdca26"
             ],
             [
              1,
              "#f0f921"
             ]
            ],
            "type": "histogram2dcontour"
           }
          ],
          "mesh3d": [
           {
            "colorbar": {
             "outlinewidth": 0,
             "ticks": ""
            },
            "type": "mesh3d"
           }
          ],
          "parcoords": [
           {
            "line": {
             "colorbar": {
              "outlinewidth": 0,
              "ticks": ""
             }
            },
            "type": "parcoords"
           }
          ],
          "pie": [
           {
            "automargin": true,
            "type": "pie"
           }
          ],
          "scatter": [
           {
            "fillpattern": {
             "fillmode": "overlay",
             "size": 10,
             "solidity": 0.2
            },
            "type": "scatter"
           }
          ],
          "scatter3d": [
           {
            "line": {
             "colorbar": {
              "outlinewidth": 0,
              "ticks": ""
             }
            },
            "marker": {
             "colorbar": {
              "outlinewidth": 0,
              "ticks": ""
             }
            },
            "type": "scatter3d"
           }
          ],
          "scattercarpet": [
           {
            "marker": {
             "colorbar": {
              "outlinewidth": 0,
              "ticks": ""
             }
            },
            "type": "scattercarpet"
           }
          ],
          "scattergeo": [
           {
            "marker": {
             "colorbar": {
              "outlinewidth": 0,
              "ticks": ""
             }
            },
            "type": "scattergeo"
           }
          ],
          "scattergl": [
           {
            "marker": {
             "colorbar": {
              "outlinewidth": 0,
              "ticks": ""
             }
            },
            "type": "scattergl"
           }
          ],
          "scattermap": [
           {
            "marker": {
             "colorbar": {
              "outlinewidth": 0,
              "ticks": ""
             }
            },
            "type": "scattermap"
           }
          ],
          "scattermapbox": [
           {
            "marker": {
             "colorbar": {
              "outlinewidth": 0,
              "ticks": ""
             }
            },
            "type": "scattermapbox"
           }
          ],
          "scatterpolar": [
           {
            "marker": {
             "colorbar": {
              "outlinewidth": 0,
              "ticks": ""
             }
            },
            "type": "scatterpolar"
           }
          ],
          "scatterpolargl": [
           {
            "marker": {
             "colorbar": {
              "outlinewidth": 0,
              "ticks": ""
             }
            },
            "type": "scatterpolargl"
           }
          ],
          "scatterternary": [
           {
            "marker": {
             "colorbar": {
              "outlinewidth": 0,
              "ticks": ""
             }
            },
            "type": "scatterternary"
           }
          ],
          "surface": [
           {
            "colorbar": {
             "outlinewidth": 0,
             "ticks": ""
            },
            "colorscale": [
             [
              0,
              "#0d0887"
             ],
             [
              0.1111111111111111,
              "#46039f"
             ],
             [
              0.2222222222222222,
              "#7201a8"
             ],
             [
              0.3333333333333333,
              "#9c179e"
             ],
             [
              0.4444444444444444,
              "#bd3786"
             ],
             [
              0.5555555555555556,
              "#d8576b"
             ],
             [
              0.6666666666666666,
              "#ed7953"
             ],
             [
              0.7777777777777778,
              "#fb9f3a"
             ],
             [
              0.8888888888888888,
              "#fdca26"
             ],
             [
              1,
              "#f0f921"
             ]
            ],
            "type": "surface"
           }
          ],
          "table": [
           {
            "cells": {
             "fill": {
              "color": "#EBF0F8"
             },
             "line": {
              "color": "white"
             }
            },
            "header": {
             "fill": {
              "color": "#C8D4E3"
             },
             "line": {
              "color": "white"
             }
            },
            "type": "table"
           }
          ]
         },
         "layout": {
          "annotationdefaults": {
           "arrowcolor": "#2a3f5f",
           "arrowhead": 0,
           "arrowwidth": 1
          },
          "autotypenumbers": "strict",
          "coloraxis": {
           "colorbar": {
            "outlinewidth": 0,
            "ticks": ""
           }
          },
          "colorscale": {
           "diverging": [
            [
             0,
             "#8e0152"
            ],
            [
             0.1,
             "#c51b7d"
            ],
            [
             0.2,
             "#de77ae"
            ],
            [
             0.3,
             "#f1b6da"
            ],
            [
             0.4,
             "#fde0ef"
            ],
            [
             0.5,
             "#f7f7f7"
            ],
            [
             0.6,
             "#e6f5d0"
            ],
            [
             0.7,
             "#b8e186"
            ],
            [
             0.8,
             "#7fbc41"
            ],
            [
             0.9,
             "#4d9221"
            ],
            [
             1,
             "#276419"
            ]
           ],
           "sequential": [
            [
             0,
             "#0d0887"
            ],
            [
             0.1111111111111111,
             "#46039f"
            ],
            [
             0.2222222222222222,
             "#7201a8"
            ],
            [
             0.3333333333333333,
             "#9c179e"
            ],
            [
             0.4444444444444444,
             "#bd3786"
            ],
            [
             0.5555555555555556,
             "#d8576b"
            ],
            [
             0.6666666666666666,
             "#ed7953"
            ],
            [
             0.7777777777777778,
             "#fb9f3a"
            ],
            [
             0.8888888888888888,
             "#fdca26"
            ],
            [
             1,
             "#f0f921"
            ]
           ],
           "sequentialminus": [
            [
             0,
             "#0d0887"
            ],
            [
             0.1111111111111111,
             "#46039f"
            ],
            [
             0.2222222222222222,
             "#7201a8"
            ],
            [
             0.3333333333333333,
             "#9c179e"
            ],
            [
             0.4444444444444444,
             "#bd3786"
            ],
            [
             0.5555555555555556,
             "#d8576b"
            ],
            [
             0.6666666666666666,
             "#ed7953"
            ],
            [
             0.7777777777777778,
             "#fb9f3a"
            ],
            [
             0.8888888888888888,
             "#fdca26"
            ],
            [
             1,
             "#f0f921"
            ]
           ]
          },
          "colorway": [
           "#636efa",
           "#EF553B",
           "#00cc96",
           "#ab63fa",
           "#FFA15A",
           "#19d3f3",
           "#FF6692",
           "#B6E880",
           "#FF97FF",
           "#FECB52"
          ],
          "font": {
           "color": "#2a3f5f"
          },
          "geo": {
           "bgcolor": "white",
           "lakecolor": "white",
           "landcolor": "#E5ECF6",
           "showlakes": true,
           "showland": true,
           "subunitcolor": "white"
          },
          "hoverlabel": {
           "align": "left"
          },
          "hovermode": "closest",
          "mapbox": {
           "style": "light"
          },
          "paper_bgcolor": "white",
          "plot_bgcolor": "#E5ECF6",
          "polar": {
           "angularaxis": {
            "gridcolor": "white",
            "linecolor": "white",
            "ticks": ""
           },
           "bgcolor": "#E5ECF6",
           "radialaxis": {
            "gridcolor": "white",
            "linecolor": "white",
            "ticks": ""
           }
          },
          "scene": {
           "xaxis": {
            "backgroundcolor": "#E5ECF6",
            "gridcolor": "white",
            "gridwidth": 2,
            "linecolor": "white",
            "showbackground": true,
            "ticks": "",
            "zerolinecolor": "white"
           },
           "yaxis": {
            "backgroundcolor": "#E5ECF6",
            "gridcolor": "white",
            "gridwidth": 2,
            "linecolor": "white",
            "showbackground": true,
            "ticks": "",
            "zerolinecolor": "white"
           },
           "zaxis": {
            "backgroundcolor": "#E5ECF6",
            "gridcolor": "white",
            "gridwidth": 2,
            "linecolor": "white",
            "showbackground": true,
            "ticks": "",
            "zerolinecolor": "white"
           }
          },
          "shapedefaults": {
           "line": {
            "color": "#2a3f5f"
           }
          },
          "ternary": {
           "aaxis": {
            "gridcolor": "white",
            "linecolor": "white",
            "ticks": ""
           },
           "baxis": {
            "gridcolor": "white",
            "linecolor": "white",
            "ticks": ""
           },
           "bgcolor": "#E5ECF6",
           "caxis": {
            "gridcolor": "white",
            "linecolor": "white",
            "ticks": ""
           }
          },
          "title": {
           "x": 0.05
          },
          "xaxis": {
           "automargin": true,
           "gridcolor": "white",
           "linecolor": "white",
           "ticks": "",
           "title": {
            "standoff": 15
           },
           "zerolinecolor": "white",
           "zerolinewidth": 2
          },
          "yaxis": {
           "automargin": true,
           "gridcolor": "white",
           "linecolor": "white",
           "ticks": "",
           "title": {
            "standoff": 15
           },
           "zerolinecolor": "white",
           "zerolinewidth": 2
          }
         }
        },
        "title": {
         "font": {
          "size": 20
         },
         "subtitle": {
          "font": {
           "color": "grey",
           "size": 12
          },
          "text": "MedSAM2 Segmentation Results - Short Axis Length"
         },
         "text": "Oral Cavity Squamous Cell Carcinoma",
         "x": 0.5,
         "xanchor": "center",
         "y": 0.95,
         "yanchor": "top"
        },
        "width": 700,
        "xaxis": {
         "range": [
          0,
          60
         ],
         "title": {
          "text": "Ground Truth Short Axis Length"
         }
        },
        "yaxis": {
         "range": [
          0,
          60
         ],
         "title": {
          "text": "Predicted Short Axis Length"
         }
        }
       }
      }
     },
     "metadata": {},
     "output_type": "display_data"
    }
   ],
   "source": [
    "import plotly.graph_objects as go\n",
    "\n",
    "\n",
    "fig = go.Figure(data=go.Scatter(x=gt_opc['Short_Axis_Length'], y=pred_measurements['Short_Axis_Length'], \n",
    "                                mode='markers',\n",
    "                                marker=dict(size=8, color='Red', line_width=2)),\n",
    "                layout=go.Layout(xaxis=dict(range=[0,60],title='Ground Truth Short Axis Length'),\n",
    "                                 yaxis=dict(range=[0,60],title='Predicted Short Axis Length'),\n",
    "                                 ))\n",
    "\n",
    "fig.update_layout(\n",
    "    autosize=False,\n",
    "    width=700,\n",
    "    height=700,\n",
    "    margin=dict(\n",
    "        l=50,\n",
    "        r=50,\n",
    "        b=100,\n",
    "        t=100,\n",
    "        pad=4\n",
    "    ),\n",
    "    title={\n",
    "        'text': 'Oral Cavity Squamous Cell Carcinoma',\n",
    "        'y':0.95,\n",
    "        'x':0.5,\n",
    "        'xanchor': 'center',\n",
    "        'yanchor': 'top',\n",
    "        'font': {'size': 20},\n",
    "        'subtitle':{\n",
    "            'text': 'MedSAM2 Segmentation Results - Short Axis Length',\n",
    "            'font': {'size': 12, 'color': 'grey'},\n",
    "        }\n",
    "\n",
    "    },\n",
    ")\n",
    "fig.show()"
   ]
  },
  {
   "cell_type": "code",
   "execution_count": 12,
   "id": "55c12b1a",
   "metadata": {},
   "outputs": [
    {
     "data": {
      "application/vnd.microsoft.datawrangler.viewer.v0+json": {
       "columns": [
        {
         "name": "index",
         "rawType": "int64",
         "type": "integer"
        },
        {
         "name": "ID",
         "rawType": "object",
         "type": "string"
        },
        {
         "name": "Volume_Dice",
         "rawType": "float64",
         "type": "float"
        },
        {
         "name": "Added_Path_Length",
         "rawType": "int64",
         "type": "integer"
        }
       ],
       "ref": "ff773bac-5a8d-4ebe-bcef-7bea797bffe2",
       "rows": [
        [
         "0",
         "RADCURE-1276_0917",
         "0.922677658194031",
         "625"
        ],
        [
         "1",
         "RADCURE-3268_2622",
         "0.903889912233178",
         "1562"
        ],
        [
         "2",
         "RADCURE-1825_1334",
         "0.8967784994546727",
         "5042"
        ],
        [
         "3",
         "RADCURE-2906_2282",
         "0.885157218528119",
         "744"
        ],
        [
         "4",
         "RADCURE-1815_1326",
         "0.8825744308231174",
         "2215"
        ],
        [
         "5",
         "RADCURE-3252_2606",
         "0.8807743234926615",
         "7703"
        ],
        [
         "6",
         "RADCURE-2693_2096",
         "0.8793196022422198",
         "3606"
        ],
        [
         "7",
         "RADCURE-0572_0457",
         "0.8791957244345956",
         "4713"
        ],
        [
         "8",
         "RADCURE-0493_0393",
         "0.8732738231479362",
         "1270"
        ],
        [
         "9",
         "RADCURE-2345_1783",
         "0.8677141211050026",
         "16691"
        ],
        [
         "10",
         "RADCURE-2130_1590",
         "0.8665809566289717",
         "8664"
        ],
        [
         "11",
         "RADCURE-2911_2287",
         "0.8456770283300427",
         "2278"
        ],
        [
         "12",
         "RADCURE-2762_2151",
         "0.8440750191044853",
         "25852"
        ],
        [
         "13",
         "RADCURE-0747_0596",
         "0.8393071926870339",
         "1168"
        ],
        [
         "14",
         "RADCURE-2824_2209",
         "0.8379910180227883",
         "8825"
        ],
        [
         "15",
         "RADCURE-1458_1035",
         "0.83721698892745",
         "674"
        ],
        [
         "16",
         "RADCURE-3746_3047",
         "0.8344759671746776",
         "9721"
        ],
        [
         "17",
         "RADCURE-2454_1882",
         "0.8330706752333616",
         "13133"
        ],
        [
         "18",
         "RADCURE-1868_1368",
         "0.8294675241549575",
         "5534"
        ],
        [
         "19",
         "RADCURE-1793_1310",
         "0.8273699853664824",
         "30695"
        ],
        [
         "20",
         "RADCURE-1977_1455",
         "0.8236872196323335",
         "13619"
        ],
        [
         "21",
         "RADCURE-0338_0270",
         "0.8205117334068217",
         "3700"
        ],
        [
         "22",
         "RADCURE-0326_0259",
         "0.82041398643406",
         "4513"
        ],
        [
         "23",
         "RADCURE-3406_2744",
         "0.8202297177060583",
         "4412"
        ],
        [
         "24",
         "RADCURE-3458_2790",
         "0.8196074838576044",
         "21873"
        ],
        [
         "25",
         "RADCURE-0367_0292",
         "0.8183979596247785",
         "2762"
        ],
        [
         "26",
         "RADCURE-2557_1972",
         "0.8176267046611032",
         "1175"
        ],
        [
         "27",
         "RADCURE-2425_1855",
         "0.8166190098873463",
         "6529"
        ],
        [
         "28",
         "RADCURE-2536_1955",
         "0.8154977053973926",
         "9764"
        ],
        [
         "29",
         "RADCURE-0386_0305",
         "0.8137381605736036",
         "7047"
        ],
        [
         "30",
         "RADCURE-2165_1620",
         "0.812863563258128",
         "11528"
        ],
        [
         "31",
         "RADCURE-0275_0213",
         "0.810885506051218",
         "4006"
        ],
        [
         "32",
         "RADCURE-1658_1198",
         "0.8091839900713621",
         "1239"
        ],
        [
         "33",
         "RADCURE-2582_1996",
         "0.8069452190993526",
         "6344"
        ],
        [
         "34",
         "RADCURE-0930_0733",
         "0.8017866947630848",
         "8561"
        ],
        [
         "35",
         "RADCURE-3697_3007",
         "0.7944847686127114",
         "26493"
        ],
        [
         "36",
         "RADCURE-0831_0661",
         "0.7920139038155657",
         "12095"
        ],
        [
         "37",
         "RADCURE-4052_3272",
         "0.7839262187088274",
         "2136"
        ],
        [
         "38",
         "RADCURE-1049_0827",
         "0.7801365688370988",
         "8400"
        ],
        [
         "39",
         "RADCURE-0540_0429",
         "0.7736797988264879",
         "490"
        ],
        [
         "40",
         "RADCURE-1812_1323",
         "0.7706327814144526",
         "2484"
        ],
        [
         "41",
         "RADCURE-0721_0573",
         "0.7672156659317858",
         "1083"
        ],
        [
         "42",
         "RADCURE-2481_1907",
         "0.7650748592097432",
         "3871"
        ],
        [
         "43",
         "RADCURE-1577_1136",
         "0.7625806198663033",
         "14890"
        ],
        [
         "44",
         "RADCURE-0700_0559",
         "0.7550229115262601",
         "472"
        ],
        [
         "45",
         "RADCURE-2094_1560",
         "0.7488775352221706",
         "1874"
        ],
        [
         "46",
         "RADCURE-3019_2387",
         "0.7487131492746841",
         "2530"
        ],
        [
         "47",
         "RADCURE-2277_1723",
         "0.7478076962756629",
         "6025"
        ],
        [
         "48",
         "RADCURE-1550_1112",
         "0.7449557522123894",
         "2268"
        ],
        [
         "49",
         "RADCURE-1893_1390",
         "0.7414225941422594",
         "2002"
        ]
       ],
       "shape": {
        "columns": 3,
        "rows": 97
       }
      },
      "text/html": [
       "<div>\n",
       "<style scoped>\n",
       "    .dataframe tbody tr th:only-of-type {\n",
       "        vertical-align: middle;\n",
       "    }\n",
       "\n",
       "    .dataframe tbody tr th {\n",
       "        vertical-align: top;\n",
       "    }\n",
       "\n",
       "    .dataframe thead th {\n",
       "        text-align: right;\n",
       "    }\n",
       "</style>\n",
       "<table border=\"1\" class=\"dataframe\">\n",
       "  <thead>\n",
       "    <tr style=\"text-align: right;\">\n",
       "      <th></th>\n",
       "      <th>ID</th>\n",
       "      <th>Volume_Dice</th>\n",
       "      <th>Added_Path_Length</th>\n",
       "    </tr>\n",
       "  </thead>\n",
       "  <tbody>\n",
       "    <tr>\n",
       "      <th>0</th>\n",
       "      <td>RADCURE-1276_0917</td>\n",
       "      <td>0.922678</td>\n",
       "      <td>625</td>\n",
       "    </tr>\n",
       "    <tr>\n",
       "      <th>1</th>\n",
       "      <td>RADCURE-3268_2622</td>\n",
       "      <td>0.903890</td>\n",
       "      <td>1562</td>\n",
       "    </tr>\n",
       "    <tr>\n",
       "      <th>2</th>\n",
       "      <td>RADCURE-1825_1334</td>\n",
       "      <td>0.896778</td>\n",
       "      <td>5042</td>\n",
       "    </tr>\n",
       "    <tr>\n",
       "      <th>3</th>\n",
       "      <td>RADCURE-2906_2282</td>\n",
       "      <td>0.885157</td>\n",
       "      <td>744</td>\n",
       "    </tr>\n",
       "    <tr>\n",
       "      <th>4</th>\n",
       "      <td>RADCURE-1815_1326</td>\n",
       "      <td>0.882574</td>\n",
       "      <td>2215</td>\n",
       "    </tr>\n",
       "    <tr>\n",
       "      <th>...</th>\n",
       "      <td>...</td>\n",
       "      <td>...</td>\n",
       "      <td>...</td>\n",
       "    </tr>\n",
       "    <tr>\n",
       "      <th>92</th>\n",
       "      <td>RADCURE-0143_0111</td>\n",
       "      <td>0.500998</td>\n",
       "      <td>1847</td>\n",
       "    </tr>\n",
       "    <tr>\n",
       "      <th>93</th>\n",
       "      <td>RADCURE-0296_0233</td>\n",
       "      <td>0.490962</td>\n",
       "      <td>7718</td>\n",
       "    </tr>\n",
       "    <tr>\n",
       "      <th>94</th>\n",
       "      <td>RADCURE-1656_1197</td>\n",
       "      <td>0.469007</td>\n",
       "      <td>1079</td>\n",
       "    </tr>\n",
       "    <tr>\n",
       "      <th>95</th>\n",
       "      <td>RADCURE-2055_1525</td>\n",
       "      <td>0.349628</td>\n",
       "      <td>2972</td>\n",
       "    </tr>\n",
       "    <tr>\n",
       "      <th>96</th>\n",
       "      <td>RADCURE-0601_0481</td>\n",
       "      <td>0.026673</td>\n",
       "      <td>5613</td>\n",
       "    </tr>\n",
       "  </tbody>\n",
       "</table>\n",
       "<p>97 rows × 3 columns</p>\n",
       "</div>"
      ],
      "text/plain": [
       "                   ID  Volume_Dice  Added_Path_Length\n",
       "0   RADCURE-1276_0917     0.922678                625\n",
       "1   RADCURE-3268_2622     0.903890               1562\n",
       "2   RADCURE-1825_1334     0.896778               5042\n",
       "3   RADCURE-2906_2282     0.885157                744\n",
       "4   RADCURE-1815_1326     0.882574               2215\n",
       "..                ...          ...                ...\n",
       "92  RADCURE-0143_0111     0.500998               1847\n",
       "93  RADCURE-0296_0233     0.490962               7718\n",
       "94  RADCURE-1656_1197     0.469007               1079\n",
       "95  RADCURE-2055_1525     0.349628               2972\n",
       "96  RADCURE-0601_0481     0.026673               5613\n",
       "\n",
       "[97 rows x 3 columns]"
      ]
     },
     "execution_count": 12,
     "metadata": {},
     "output_type": "execute_result"
    }
   ],
   "source": [
    "comparison_metrics = pd.read_csv(data_dir / \"results.csv\")\n",
    "comparison_metrics.sort_values('Volume_Dice', ascending=False, ignore_index=True)"
   ]
  },
  {
   "cell_type": "code",
   "execution_count": 13,
   "id": "9f5d1106",
   "metadata": {},
   "outputs": [
    {
     "name": "stderr",
     "output_type": "stream",
     "text": [
      "/home/bhkuser/bhklab/katy/recist-vs-reality/.pixi/envs/default/lib/python3.12/site-packages/tqdm/auto.py:21: TqdmWarning:\n",
      "\n",
      "IProgress not found. Please update jupyter and ipywidgets. See https://ipywidgets.readthedocs.io/en/stable/user_install.html\n",
      "\n"
     ]
    }
   ],
   "source": [
    "from readii.image_processing import getROICenterCoords\n",
    "import SimpleITK as sitk\n",
    "import numpy as np\n",
    "\n",
    "def displayCTSegOverlay(\n",
    "    ctImage,\n",
    "    segImage,\n",
    "    sliceIdx=-1,\n",
    "    cmapCT=plt.cm.Greys_r,\n",
    "    ct_min=None,\n",
    "    ct_max=None,\n",
    "    cmapSeg=plt.cm.brg,\n",
    "    alpha=0.3,\n",
    "    savePath=None\n",
    ") -> None:\n",
    "    \"\"\"Function to display a 2D slice from a CT with the ROI from a segmentation image overlaid in green\n",
    "    Parameters\n",
    "    ----------\n",
    "    ctImage : sitk.Image or nd.array\n",
    "        CT image to display a slice of. If an array, must have slices as first dimension.\n",
    "    segImage : sitk.Image or nd.array\n",
    "        Segmentation image containing a ROI to overlay with CT. Must be aligned to CT. If an array, must have slices as first dimension\n",
    "        and have background labeled as 0s.\n",
    "    sliceIdx : int\n",
    "        Slice index from image to display. If not provided, will get center slice of ROI to plot.\n",
    "    cmapCT : matplotlib.colormap\n",
    "        Color map to use for CT plot, see https://matplotlib.org/stable/tutorials/colors/colormaps.html for options. Is greyscale by default.\n",
    "    cmapSeg: matplotlib.colormap\n",
    "        Color map to use for ROI plot, see https://matplotlib.org/stable/tutorials/colors/colormaps.html for options. Is green by default.\n",
    "    alpha : float\n",
    "        Value between 0 and 1 indicating transparency of ROI overtop of CT. Default is 0.3\n",
    "    crop : bool\n",
    "        Whether to crop the output image to the ROI in the segmentation.\n",
    "    \"\"\"\n",
    "    # If slice index is not provided, get the center slice for the ROI in segImage\n",
    "    if sliceIdx == -1:\n",
    "        sliceIdx, _, _ = getROICenterCoords(segImage)\n",
    "\n",
    "    # If image is a simple ITK image, convert to array for display\n",
    "    if type(ctImage) == sitk.Image:\n",
    "        ctImage = sitk.GetArrayFromImage(ctImage)\n",
    "    # If segmentation is a simple ITK image, convert to array for display\n",
    "    if type(segImage) == sitk.Image:\n",
    "        segImage = sitk.GetArrayFromImage(segImage)\n",
    "\n",
    "    # Make mask of ROI to ignore background in overlaid plot\n",
    "    maskSeg = np.ma.masked_where(segImage == 0, segImage)\n",
    "\n",
    "    if ct_min is None:\n",
    "        ct_min = ctImage.min()\n",
    "    if ct_max is None:\n",
    "        ct_max = ctImage.max()\n",
    "\n",
    "    # Plot slice of CT\n",
    "    image_ax = plt.imshow(\n",
    "        ctImage[sliceIdx, :, :], cmap=cmapCT, vmin=ct_min, vmax=ct_max\n",
    "    )\n",
    "    # Plot mask of ROI overtop\n",
    "    mask_ax = plt.imshow(\n",
    "        maskSeg[sliceIdx, :, :],\n",
    "        cmap=cmapSeg,\n",
    "        vmin=segImage.min(),\n",
    "        vmax=segImage.max(),\n",
    "        alpha=alpha,\n",
    "    )\n",
    "    plt.axis(\"off\")\n",
    "\n",
    "    if savePath is not None:\n",
    "        plt.savefig(savePath)\n",
    "\n",
    "    return image_ax, mask_ax"
   ]
  },
  {
   "cell_type": "code",
   "execution_count": 14,
   "id": "5fbae6a5",
   "metadata": {},
   "outputs": [
    {
     "data": {
      "image/png": "[encoded data removed]",
      "text/plain": [
       "<Figure size 640x480 with 1 Axes>"
      ]
     },
     "metadata": {},
     "output_type": "display_data"
    }
   ],
   "source": [
    "import SimpleITK as sitk\n",
    "import plotly.express as px\n",
    "from readii.image_processing import flattenImage\n",
    "\n",
    "patients = [#\"RADCURE-1276_0917\",\n",
    "            # \"RADCURE-1550_1112\",\n",
    "            # \"RADCURE-1544_1107\",\n",
    "            \"RADCURE-2055_1525\"\n",
    "            ]\n",
    "\n",
    "medsam_metadata = pd.read_csv(\"data/procdata/TCIA_RADCURE/metadata/RADCURE_GTVp_oral_cavity_medsam_input_apptainer.csv\", dtype=str)\n",
    "\n",
    "\n",
    "for patient in patients:\n",
    "    gt_image = medsam_metadata[medsam_metadata['ID'] == patient][\"image_path\"]\n",
    "    gt_image_path = \"data/procdata/TCIA_RADCURE/\" + gt_image.str.removeprefix('/hostopt/PublicDatasets/procdata/HeadNeck/TCIA_RADCURE/')\n",
    "    gt_image = flattenImage(sitk.ReadImage(gt_image_path))\n",
    "\n",
    "    gt_mask_path = medsam_metadata[medsam_metadata['ID'] == patient][\"mask_path\"]\n",
    "    gt_mask_path = \"data/procdata/TCIA_RADCURE/\" + gt_mask_path.str.removeprefix('/hostopt/PublicDatasets/procdata/HeadNeck/TCIA_RADCURE/')\n",
    "    gt_mask = flattenImage(sitk.ReadImage(gt_mask_path))\n",
    "\n",
    "    pred_mask = flattenImage(sitk.ReadImage(\"data/results/medsam2-inference/RADCURE_GTVp_oral_cavity/masks/\" + patient + \".nii.gz\"))\n",
    "    pred_mask.SetOrigin(gt_mask.GetOrigin())\n",
    "\n",
    "    # print(f\"Patient: {patient}\")\n",
    "    # print(\"Ground Truth:\")\n",
    "    # print(f\"Origin: {gt_mask.GetOrigin()}\")\n",
    "    # print(f\"Spacing: {gt_mask.GetSpacing()}\")\n",
    "    # print(f\"Direction: {gt_mask.GetDirection()}\")\n",
    "\n",
    "    # print(\"Predicted:\")\n",
    "    # print(f\"Origin: {pred_mask.GetOrigin()}\")\n",
    "    # print(f\"Spacing: {pred_mask.GetSpacing()}\")\n",
    "    # print(f\"Direction: {pred_mask.GetDirection()}\")\n",
    "\n",
    "    save_path = Path(\"data/results/medsam2-inference/RADCURE_GTVp_oral_cavity/plots\")\n",
    "    slice_idx = 105 #getROICenterCoords(gt_mask)[0]\n",
    "\n",
    "    gt_image_ax, gt_mask_ax = displayCTSegOverlay(gt_image, \n",
    "                                                  gt_mask,\n",
    "                                                  sliceIdx=slice_idx, \n",
    "                                                  ct_min=-200, \n",
    "                                                  ct_max=300, \n",
    "                                                  cmapSeg=plt.cm.brg, \n",
    "                                                  alpha=0.5,\n",
    "                                                  savePath=save_path / f\"{patient}_gt_overlay.png\")\n",
    "    pred_image_ax, pred_mask_ax = displayCTSegOverlay(gt_image, \n",
    "                                                      pred_mask,\n",
    "                                                      sliceIdx=slice_idx, \n",
    "                                                      ct_min=-200, \n",
    "                                                      ct_max=300, \n",
    "                                                      cmapSeg=plt.cm.cool, \n",
    "                                                      alpha=0.5, \n",
    "                                                      savePath=save_path / f\"{patient}_pred_overlay.png\")\n",
    "\n",
    "    "
   ]
  },
  {
   "cell_type": "code",
   "execution_count": 15,
   "id": "638e00cb",
   "metadata": {},
   "outputs": [],
   "source": [
    "def getEdgeOfMask(mask):\n",
    "    '''\n",
    "    Computes and returns edge of a segmentation mask\n",
    "    '''\n",
    "    # edge has the pixels which are at the edge of the mask\n",
    "    edge = np.zeros_like(mask)\n",
    "    \n",
    "    # mask_pixels has the pixels which are inside the mask of the automated segmentation result\n",
    "    mask_pixels = np.where(mask > 0)\n",
    "\n",
    "    for idx in range(0,mask_pixels[0].size):\n",
    "\n",
    "        x = mask_pixels[0][idx]\n",
    "        y = mask_pixels[1][idx]\n",
    "        z = mask_pixels[2][idx]\n",
    "\n",
    "        # Count # pixels in 3x3 neighborhood that are in the mask\n",
    "        # If sum < 27, then (x, y, z) is on the edge of the mask\n",
    "        if mask[x-1:x+2, y-1:y+2, z-1:z+2].sum() < 27:\n",
    "            edge[x,y,z] = 1\n",
    "            \n",
    "    return edge"
   ]
  },
  {
   "cell_type": "code",
   "execution_count": 16,
   "id": "d6bc3d4f",
   "metadata": {},
   "outputs": [],
   "source": [
    "# Calculate APL divided by total path length\n",
    "import SimpleITK as sitk\n",
    "from readii.image_processing import flattenImage\n",
    "from skimage.measure import regionprops\n",
    "\n",
    "\n",
    "medsam_metadata = pd.read_csv(\"data/procdata/TCIA_RADCURE/metadata/RADCURE_GTVp_oral_cavity_medsam_input_apptainer.csv\", dtype=str)\n",
    "\n",
    "normalized_apl = {}\n",
    "\n",
    "for patient in medsam_metadata['ID']:\n",
    "    gt_mask_path = medsam_metadata[medsam_metadata['ID'] == patient][\"mask_path\"]\n",
    "    gt_mask_path = \"data/procdata/TCIA_RADCURE/\" + gt_mask_path.str.removeprefix('/hostopt/PublicDatasets/procdata/HeadNeck/TCIA_RADCURE/')\n",
    "    gt_mask = flattenImage(sitk.ReadImage(gt_mask_path))\n",
    "\n",
    "    edge = getEdgeOfMask(sitk.GetArrayFromImage(gt_mask))\n",
    "\n",
    "    total_path_length = edge.sum()\n",
    "\n",
    "    apl = comparison_metrics[comparison_metrics['ID'] == patient]['Added_Path_Length'].values[0]\n",
    "\n",
    "    normalized_apl[patient] = apl/total_path_length\n",
    "    "
   ]
  },
  {
   "cell_type": "code",
   "execution_count": 33,
   "id": "058fd92f",
   "metadata": {},
   "outputs": [
    {
     "data": {
      "application/vnd.microsoft.datawrangler.viewer.v0+json": {
       "columns": [
        {
         "name": "index",
         "rawType": "object",
         "type": "string"
        },
        {
         "name": "Normalized_APL",
         "rawType": "float64",
         "type": "float"
        }
       ],
       "ref": "af177a3e-5a30-4a33-9452-f96a22fa982c",
       "rows": [
        [
         "RADCURE-0014_0008",
         "0.7645705521472392"
        ],
        [
         "RADCURE-0040_0030",
         "0.7203282828282829"
        ],
        [
         "RADCURE-0067_0053",
         "0.7717903415783275"
        ],
        [
         "RADCURE-0115_0091",
         "0.7626599888703395"
        ],
        [
         "RADCURE-0137_0108",
         "0.5789391575663027"
        ],
        [
         "RADCURE-0143_0111",
         "0.799221116399827"
        ],
        [
         "RADCURE-0151_0118",
         "0.6405929304446978"
        ],
        [
         "RADCURE-0275_0213",
         "0.5818445896877269"
        ],
        [
         "RADCURE-0296_0233",
         "0.6734729493891798"
        ],
        [
         "RADCURE-0326_0259",
         "0.6289018952062431"
        ],
        [
         "RADCURE-0338_0270",
         "0.5313801522332328"
        ],
        [
         "RADCURE-0367_0292",
         "0.5636734693877551"
        ],
        [
         "RADCURE-0386_0305",
         "0.7229175215428806"
        ],
        [
         "RADCURE-0391_0309",
         "0.8240502073293735"
        ],
        [
         "RADCURE-0458_0366",
         "0.6865127582017011"
        ],
        [
         "RADCURE-0493_0393",
         "0.4278975741239892"
        ],
        [
         "RADCURE-0507_0404",
         "0.7231619305367614"
        ],
        [
         "RADCURE-0516_0410",
         "0.7004120070629782"
        ],
        [
         "RADCURE-0540_0429",
         "0.5125523012552301"
        ],
        [
         "RADCURE-0572_0457",
         "0.5509703062894552"
        ],
        [
         "RADCURE-0601_0481",
         "0.9856014047410009"
        ],
        [
         "RADCURE-0694_0553",
         "0.7422836583980307"
        ],
        [
         "RADCURE-0700_0559",
         "0.5119305856832972"
        ],
        [
         "RADCURE-0721_0573",
         "0.5006934812760055"
        ],
        [
         "RADCURE-0725_0577",
         "0.8046302250803858"
        ],
        [
         "RADCURE-0747_0596",
         "0.4816494845360825"
        ],
        [
         "RADCURE-0804_0640",
         "0.7051665669259924"
        ],
        [
         "RADCURE-0831_0661",
         "0.6974799607865751"
        ],
        [
         "RADCURE-0850_0675",
         "0.8069871517251336"
        ],
        [
         "RADCURE-0859_0682",
         "0.8098855749390358"
        ],
        [
         "RADCURE-0930_0733",
         "0.6925254813137033"
        ],
        [
         "RADCURE-1049_0827",
         "0.6968641114982579"
        ],
        [
         "RADCURE-1074_0847",
         "0.6767879548306148"
        ],
        [
         "RADCURE-1081_0852",
         "0.6492753623188405"
        ],
        [
         "RADCURE-1276_0917",
         "0.26404731727925645"
        ],
        [
         "RADCURE-1305_0937",
         "0.661407249466951"
        ],
        [
         "RADCURE-1398_1002",
         "0.6859887910328263"
        ],
        [
         "RADCURE-1441_1028",
         "0.7474531290129269"
        ],
        [
         "RADCURE-1458_1035",
         "0.4244332493702771"
        ],
        [
         "RADCURE-1521_1086",
         "0.49882903981264637"
        ],
        [
         "RADCURE-1527_1091",
         "0.6393506747506357"
        ],
        [
         "RADCURE-1544_1107",
         "0.7564064801178203"
        ],
        [
         "RADCURE-1550_1112",
         "0.6166394779771615"
        ],
        [
         "RADCURE-1577_1136",
         "0.7905075387555744"
        ],
        [
         "RADCURE-1656_1197",
         "0.8192862566438877"
        ],
        [
         "RADCURE-1658_1198",
         "0.5160349854227405"
        ],
        [
         "RADCURE-1740_1262",
         "0.859126700071582"
        ],
        [
         "RADCURE-1746_1267",
         "0.6661092530657748"
        ],
        [
         "RADCURE-1792_1309",
         "0.8267418303532106"
        ],
        [
         "RADCURE-1793_1310",
         "0.7601347168222679"
        ]
       ],
       "shape": {
        "columns": 1,
        "rows": 97
       }
      },
      "text/html": [
       "<div>\n",
       "<style scoped>\n",
       "    .dataframe tbody tr th:only-of-type {\n",
       "        vertical-align: middle;\n",
       "    }\n",
       "\n",
       "    .dataframe tbody tr th {\n",
       "        vertical-align: top;\n",
       "    }\n",
       "\n",
       "    .dataframe thead th {\n",
       "        text-align: right;\n",
       "    }\n",
       "</style>\n",
       "<table border=\"1\" class=\"dataframe\">\n",
       "  <thead>\n",
       "    <tr style=\"text-align: right;\">\n",
       "      <th></th>\n",
       "      <th>Normalized_APL</th>\n",
       "    </tr>\n",
       "  </thead>\n",
       "  <tbody>\n",
       "    <tr>\n",
       "      <th>RADCURE-0014_0008</th>\n",
       "      <td>0.764571</td>\n",
       "    </tr>\n",
       "    <tr>\n",
       "      <th>RADCURE-0040_0030</th>\n",
       "      <td>0.720328</td>\n",
       "    </tr>\n",
       "    <tr>\n",
       "      <th>RADCURE-0067_0053</th>\n",
       "      <td>0.771790</td>\n",
       "    </tr>\n",
       "    <tr>\n",
       "      <th>RADCURE-0115_0091</th>\n",
       "      <td>0.762660</td>\n",
       "    </tr>\n",
       "    <tr>\n",
       "      <th>RADCURE-0137_0108</th>\n",
       "      <td>0.578939</td>\n",
       "    </tr>\n",
       "    <tr>\n",
       "      <th>...</th>\n",
       "      <td>...</td>\n",
       "    </tr>\n",
       "    <tr>\n",
       "      <th>RADCURE-3458_2790</th>\n",
       "      <td>0.775006</td>\n",
       "    </tr>\n",
       "    <tr>\n",
       "      <th>RADCURE-3697_3007</th>\n",
       "      <td>0.806902</td>\n",
       "    </tr>\n",
       "    <tr>\n",
       "      <th>RADCURE-3740_3041</th>\n",
       "      <td>0.683374</td>\n",
       "    </tr>\n",
       "    <tr>\n",
       "      <th>RADCURE-3746_3047</th>\n",
       "      <td>0.631029</td>\n",
       "    </tr>\n",
       "    <tr>\n",
       "      <th>RADCURE-4052_3272</th>\n",
       "      <td>0.627681</td>\n",
       "    </tr>\n",
       "  </tbody>\n",
       "</table>\n",
       "<p>97 rows × 1 columns</p>\n",
       "</div>"
      ],
      "text/plain": [
       "                   Normalized_APL\n",
       "RADCURE-0014_0008        0.764571\n",
       "RADCURE-0040_0030        0.720328\n",
       "RADCURE-0067_0053        0.771790\n",
       "RADCURE-0115_0091        0.762660\n",
       "RADCURE-0137_0108        0.578939\n",
       "...                           ...\n",
       "RADCURE-3458_2790        0.775006\n",
       "RADCURE-3697_3007        0.806902\n",
       "RADCURE-3740_3041        0.683374\n",
       "RADCURE-3746_3047        0.631029\n",
       "RADCURE-4052_3272        0.627681\n",
       "\n",
       "[97 rows x 1 columns]"
      ]
     },
     "execution_count": 33,
     "metadata": {},
     "output_type": "execute_result"
    }
   ],
   "source": [
    "pd.DataFrame.from_dict(normalized_apl, orient='index', columns=['Normalized_APL'])"
   ]
  },
  {
   "cell_type": "code",
   "execution_count": 32,
   "id": "44605073",
   "metadata": {},
   "outputs": [],
   "source": [
    "pd.DataFrame.from_dict(data = {\n",
    "    'SampleID': medsam_metadata['ID'],\n",
    "    'Image': \"/home/bhkuser/bhklab/radiomics/Projects/readii_2_roqc/data/procdata/TCIA_RADCURE/\" + medsam_metadata['image_path'].str.removeprefix('/hostopt/PublicDatasets/procdata/HeadNeck/TCIA_RADCURE/'),\n",
    "    'Mask': \"/home/bhkuser/bhklab/radiomics/Projects/medsam2-inference/data/results/RADCURE_GTVp_oral_cavity/masks/\" + medsam_metadata['ID'] + \".nii.gz\",\n",
    "    'DatasetName': 'RADCURE_oral_cavity',\n",
    "    'SeriesInstanceUID_Image': 0,\n",
    "    'Modality_Image': 'CT',\n",
    "    'SeriesInstanceUID_Mask': 0,\n",
    "    'Modality_Mask': 'RTSTRUCT',\n",
    "    'MaskID': 'GTVp',\n",
    "    'readii_Permutation': 'original',\n",
    "    'readii_Region': 'full',\n",
    "    'readii_Resize': 'none',\n",
    "    'readii_Crop': 'none',\n",
    "    'DataSource': 'TCIA'\n",
    "}\n",
    ").to_csv(\"data/procdata/TCIA_RADCURE/features/pyradiomics/pyradiomics_RADCURE_GTVp_oral_cavity_index.csv\", index=False)"
   ]
  },
  {
   "cell_type": "code",
   "execution_count": 19,
   "id": "3800a3ca",
   "metadata": {},
   "outputs": [
    {
     "data": {
      "application/vnd.microsoft.datawrangler.viewer.v0+json": {
       "columns": [
        {
         "name": "index",
         "rawType": "int64",
         "type": "integer"
        },
        {
         "name": "ID",
         "rawType": "object",
         "type": "string"
        },
        {
         "name": "image_path",
         "rawType": "object",
         "type": "string"
        },
        {
         "name": "mask_path",
         "rawType": "object",
         "type": "string"
        }
       ],
       "ref": "2c021387-00e2-4e43-a0bc-7c18ee0609b7",
       "rows": [
        [
         "0",
         "RADCURE-0014_0008",
         "/hostopt/PublicDatasets/procdata/HeadNeck/TCIA_RADCURE/images/mit_RADCURE_GTVp/RADCURE-0014_0008/CT_00540914/CT.nii.gz",
         "/hostopt/PublicDatasets/procdata/HeadNeck/TCIA_RADCURE/images/mit_RADCURE_GTVp/RADCURE-0014_0008/RTSTRUCT_59122651/ROI__[GTVp].nii.gz"
        ],
        [
         "1",
         "RADCURE-0040_0030",
         "/hostopt/PublicDatasets/procdata/HeadNeck/TCIA_RADCURE/images/mit_RADCURE_GTVp/RADCURE-0040_0030/CT_09221213/CT.nii.gz",
         "/hostopt/PublicDatasets/procdata/HeadNeck/TCIA_RADCURE/images/mit_RADCURE_GTVp/RADCURE-0040_0030/RTSTRUCT_01577546/ROI__[GTVp].nii.gz"
        ],
        [
         "2",
         "RADCURE-0067_0053",
         "/hostopt/PublicDatasets/procdata/HeadNeck/TCIA_RADCURE/images/mit_RADCURE_GTVp/RADCURE-0067_0053/CT_46272171/CT.nii.gz",
         "/hostopt/PublicDatasets/procdata/HeadNeck/TCIA_RADCURE/images/mit_RADCURE_GTVp/RADCURE-0067_0053/RTSTRUCT_65368383/ROI__[GTVp].nii.gz"
        ],
        [
         "3",
         "RADCURE-0115_0091",
         "/hostopt/PublicDatasets/procdata/HeadNeck/TCIA_RADCURE/images/mit_RADCURE_GTVp/RADCURE-0115_0091/CT_78672115/CT.nii.gz",
         "/hostopt/PublicDatasets/procdata/HeadNeck/TCIA_RADCURE/images/mit_RADCURE_GTVp/RADCURE-0115_0091/RTSTRUCT_19710672/ROI__[GTVp].nii.gz"
        ],
        [
         "4",
         "RADCURE-0137_0108",
         "/hostopt/PublicDatasets/procdata/HeadNeck/TCIA_RADCURE/images/mit_RADCURE_GTVp/RADCURE-0137_0108/CT_44322590/CT.nii.gz",
         "/hostopt/PublicDatasets/procdata/HeadNeck/TCIA_RADCURE/images/mit_RADCURE_GTVp/RADCURE-0137_0108/RTSTRUCT_13280889/ROI__[GTVp].nii.gz"
        ],
        [
         "5",
         "RADCURE-0143_0111",
         "/hostopt/PublicDatasets/procdata/HeadNeck/TCIA_RADCURE/images/mit_RADCURE_GTVp/RADCURE-0143_0111/CT_46160122/CT.nii.gz",
         "/hostopt/PublicDatasets/procdata/HeadNeck/TCIA_RADCURE/images/mit_RADCURE_GTVp/RADCURE-0143_0111/RTSTRUCT_77647393/ROI__[GTVp].nii.gz"
        ],
        [
         "6",
         "RADCURE-0151_0118",
         "/hostopt/PublicDatasets/procdata/HeadNeck/TCIA_RADCURE/images/mit_RADCURE_GTVp/RADCURE-0151_0118/CT_79471316/CT.nii.gz",
         "/hostopt/PublicDatasets/procdata/HeadNeck/TCIA_RADCURE/images/mit_RADCURE_GTVp/RADCURE-0151_0118/RTSTRUCT_09962328/ROI__[GTVp].nii.gz"
        ],
        [
         "7",
         "RADCURE-0275_0213",
         "/hostopt/PublicDatasets/procdata/HeadNeck/TCIA_RADCURE/images/mit_RADCURE_GTVp/RADCURE-0275_0213/CT_48963588/CT.nii.gz",
         "/hostopt/PublicDatasets/procdata/HeadNeck/TCIA_RADCURE/images/mit_RADCURE_GTVp/RADCURE-0275_0213/RTSTRUCT_15830679/ROI__[GTVp].nii.gz"
        ],
        [
         "8",
         "RADCURE-0296_0233",
         "/hostopt/PublicDatasets/procdata/HeadNeck/TCIA_RADCURE/images/mit_RADCURE_GTVp/RADCURE-0296_0233/CT_30846203/CT.nii.gz",
         "/hostopt/PublicDatasets/procdata/HeadNeck/TCIA_RADCURE/images/mit_RADCURE_GTVp/RADCURE-0296_0233/RTSTRUCT_89512710/ROI__[GTVp].nii.gz"
        ],
        [
         "9",
         "RADCURE-0326_0259",
         "/hostopt/PublicDatasets/procdata/HeadNeck/TCIA_RADCURE/images/mit_RADCURE_GTVp/RADCURE-0326_0259/CT_16782754/CT.nii.gz",
         "/hostopt/PublicDatasets/procdata/HeadNeck/TCIA_RADCURE/images/mit_RADCURE_GTVp/RADCURE-0326_0259/RTSTRUCT_84729300/ROI__[GTVp].nii.gz"
        ],
        [
         "10",
         "RADCURE-0338_0270",
         "/hostopt/PublicDatasets/procdata/HeadNeck/TCIA_RADCURE/images/mit_RADCURE_GTVp/RADCURE-0338_0270/CT_23141953/CT.nii.gz",
         "/hostopt/PublicDatasets/procdata/HeadNeck/TCIA_RADCURE/images/mit_RADCURE_GTVp/RADCURE-0338_0270/RTSTRUCT_92705650/ROI__[GTVp].nii.gz"
        ],
        [
         "11",
         "RADCURE-0367_0292",
         "/hostopt/PublicDatasets/procdata/HeadNeck/TCIA_RADCURE/images/mit_RADCURE_GTVp/RADCURE-0367_0292/CT_08719498/CT.nii.gz",
         "/hostopt/PublicDatasets/procdata/HeadNeck/TCIA_RADCURE/images/mit_RADCURE_GTVp/RADCURE-0367_0292/RTSTRUCT_24925171/ROI__[GTVp].nii.gz"
        ],
        [
         "12",
         "RADCURE-0386_0305",
         "/hostopt/PublicDatasets/procdata/HeadNeck/TCIA_RADCURE/images/mit_RADCURE_GTVp/RADCURE-0386_0305/CT_97217685/CT.nii.gz",
         "/hostopt/PublicDatasets/procdata/HeadNeck/TCIA_RADCURE/images/mit_RADCURE_GTVp/RADCURE-0386_0305/RTSTRUCT_82226033/ROI__[GTVp].nii.gz"
        ],
        [
         "13",
         "RADCURE-0391_0309",
         "/hostopt/PublicDatasets/procdata/HeadNeck/TCIA_RADCURE/images/mit_RADCURE_GTVp/RADCURE-0391_0309/CT_17372636/CT.nii.gz",
         "/hostopt/PublicDatasets/procdata/HeadNeck/TCIA_RADCURE/images/mit_RADCURE_GTVp/RADCURE-0391_0309/RTSTRUCT_68166936/ROI__[GTVp].nii.gz"
        ],
        [
         "14",
         "RADCURE-0458_0366",
         "/hostopt/PublicDatasets/procdata/HeadNeck/TCIA_RADCURE/images/mit_RADCURE_GTVp/RADCURE-0458_0366/CT_69040744/CT.nii.gz",
         "/hostopt/PublicDatasets/procdata/HeadNeck/TCIA_RADCURE/images/mit_RADCURE_GTVp/RADCURE-0458_0366/RTSTRUCT_75217374/ROI__[GTVp].nii.gz"
        ],
        [
         "15",
         "RADCURE-0493_0393",
         "/hostopt/PublicDatasets/procdata/HeadNeck/TCIA_RADCURE/images/mit_RADCURE_GTVp/RADCURE-0493_0393/CT_58791384/CT.nii.gz",
         "/hostopt/PublicDatasets/procdata/HeadNeck/TCIA_RADCURE/images/mit_RADCURE_GTVp/RADCURE-0493_0393/RTSTRUCT_27717107/ROI__[GTVp].nii.gz"
        ],
        [
         "16",
         "RADCURE-0507_0404",
         "/hostopt/PublicDatasets/procdata/HeadNeck/TCIA_RADCURE/images/mit_RADCURE_GTVp/RADCURE-0507_0404/CT_63230809/CT.nii.gz",
         "/hostopt/PublicDatasets/procdata/HeadNeck/TCIA_RADCURE/images/mit_RADCURE_GTVp/RADCURE-0507_0404/RTSTRUCT_63607337/ROI__[GTVp].nii.gz"
        ],
        [
         "17",
         "RADCURE-0516_0410",
         "/hostopt/PublicDatasets/procdata/HeadNeck/TCIA_RADCURE/images/mit_RADCURE_GTVp/RADCURE-0516_0410/CT_90506335/CT.nii.gz",
         "/hostopt/PublicDatasets/procdata/HeadNeck/TCIA_RADCURE/images/mit_RADCURE_GTVp/RADCURE-0516_0410/RTSTRUCT_26156982/ROI__[GTVp].nii.gz"
        ],
        [
         "18",
         "RADCURE-0540_0429",
         "/hostopt/PublicDatasets/procdata/HeadNeck/TCIA_RADCURE/images/mit_RADCURE_GTVp/RADCURE-0540_0429/CT_36158884/CT.nii.gz",
         "/hostopt/PublicDatasets/procdata/HeadNeck/TCIA_RADCURE/images/mit_RADCURE_GTVp/RADCURE-0540_0429/RTSTRUCT_17702319/ROI__[GTVp].nii.gz"
        ],
        [
         "19",
         "RADCURE-0572_0457",
         "/hostopt/PublicDatasets/procdata/HeadNeck/TCIA_RADCURE/images/mit_RADCURE_GTVp/RADCURE-0572_0457/CT_82846190/CT.nii.gz",
         "/hostopt/PublicDatasets/procdata/HeadNeck/TCIA_RADCURE/images/mit_RADCURE_GTVp/RADCURE-0572_0457/RTSTRUCT_41242803/ROI__[GTVp].nii.gz"
        ],
        [
         "20",
         "RADCURE-0601_0481",
         "/hostopt/PublicDatasets/procdata/HeadNeck/TCIA_RADCURE/images/mit_RADCURE_GTVp/RADCURE-0601_0481/CT_15407849/CT.nii.gz",
         "/hostopt/PublicDatasets/procdata/HeadNeck/TCIA_RADCURE/images/mit_RADCURE_GTVp/RADCURE-0601_0481/RTSTRUCT_64988517/ROI__[GTVp].nii.gz"
        ],
        [
         "21",
         "RADCURE-0694_0553",
         "/hostopt/PublicDatasets/procdata/HeadNeck/TCIA_RADCURE/images/mit_RADCURE_GTVp/RADCURE-0694_0553/CT_73436963/CT.nii.gz",
         "/hostopt/PublicDatasets/procdata/HeadNeck/TCIA_RADCURE/images/mit_RADCURE_GTVp/RADCURE-0694_0553/RTSTRUCT_77861535/ROI__[GTVp].nii.gz"
        ],
        [
         "22",
         "RADCURE-0700_0559",
         "/hostopt/PublicDatasets/procdata/HeadNeck/TCIA_RADCURE/images/mit_RADCURE_GTVp/RADCURE-0700_0559/CT_14605591/CT.nii.gz",
         "/hostopt/PublicDatasets/procdata/HeadNeck/TCIA_RADCURE/images/mit_RADCURE_GTVp/RADCURE-0700_0559/RTSTRUCT_59199719/ROI__[GTVp].nii.gz"
        ],
        [
         "23",
         "RADCURE-0721_0573",
         "/hostopt/PublicDatasets/procdata/HeadNeck/TCIA_RADCURE/images/mit_RADCURE_GTVp/RADCURE-0721_0573/CT_05645573/CT.nii.gz",
         "/hostopt/PublicDatasets/procdata/HeadNeck/TCIA_RADCURE/images/mit_RADCURE_GTVp/RADCURE-0721_0573/RTSTRUCT_31412192/ROI__[GTVp].nii.gz"
        ],
        [
         "24",
         "RADCURE-0725_0577",
         "/hostopt/PublicDatasets/procdata/HeadNeck/TCIA_RADCURE/images/mit_RADCURE_GTVp/RADCURE-0725_0577/CT_57697328/CT.nii.gz",
         "/hostopt/PublicDatasets/procdata/HeadNeck/TCIA_RADCURE/images/mit_RADCURE_GTVp/RADCURE-0725_0577/RTSTRUCT_01459621/ROI__[GTVp].nii.gz"
        ],
        [
         "25",
         "RADCURE-0747_0596",
         "/hostopt/PublicDatasets/procdata/HeadNeck/TCIA_RADCURE/images/mit_RADCURE_GTVp/RADCURE-0747_0596/CT_33201664/CT.nii.gz",
         "/hostopt/PublicDatasets/procdata/HeadNeck/TCIA_RADCURE/images/mit_RADCURE_GTVp/RADCURE-0747_0596/RTSTRUCT_83366045/ROI__[GTVp].nii.gz"
        ],
        [
         "26",
         "RADCURE-0804_0640",
         "/hostopt/PublicDatasets/procdata/HeadNeck/TCIA_RADCURE/images/mit_RADCURE_GTVp/RADCURE-0804_0640/CT_84886914/CT.nii.gz",
         "/hostopt/PublicDatasets/procdata/HeadNeck/TCIA_RADCURE/images/mit_RADCURE_GTVp/RADCURE-0804_0640/RTSTRUCT_35805526/ROI__[GTVp].nii.gz"
        ],
        [
         "27",
         "RADCURE-0831_0661",
         "/hostopt/PublicDatasets/procdata/HeadNeck/TCIA_RADCURE/images/mit_RADCURE_GTVp/RADCURE-0831_0661/CT_57840458/CT.nii.gz",
         "/hostopt/PublicDatasets/procdata/HeadNeck/TCIA_RADCURE/images/mit_RADCURE_GTVp/RADCURE-0831_0661/RTSTRUCT_36830661/ROI__[GTVp].nii.gz"
        ],
        [
         "28",
         "RADCURE-0850_0675",
         "/hostopt/PublicDatasets/procdata/HeadNeck/TCIA_RADCURE/images/mit_RADCURE_GTVp/RADCURE-0850_0675/CT_47664339/CT.nii.gz",
         "/hostopt/PublicDatasets/procdata/HeadNeck/TCIA_RADCURE/images/mit_RADCURE_GTVp/RADCURE-0850_0675/RTSTRUCT_13032761/ROI__[GTVp].nii.gz"
        ],
        [
         "29",
         "RADCURE-0859_0682",
         "/hostopt/PublicDatasets/procdata/HeadNeck/TCIA_RADCURE/images/mit_RADCURE_GTVp/RADCURE-0859_0682/CT_73845168/CT.nii.gz",
         "/hostopt/PublicDatasets/procdata/HeadNeck/TCIA_RADCURE/images/mit_RADCURE_GTVp/RADCURE-0859_0682/RTSTRUCT_81227509/ROI__[GTVp].nii.gz"
        ],
        [
         "30",
         "RADCURE-0930_0733",
         "/hostopt/PublicDatasets/procdata/HeadNeck/TCIA_RADCURE/images/mit_RADCURE_GTVp/RADCURE-0930_0733/CT_23389465/CT.nii.gz",
         "/hostopt/PublicDatasets/procdata/HeadNeck/TCIA_RADCURE/images/mit_RADCURE_GTVp/RADCURE-0930_0733/RTSTRUCT_31505688/ROI__[GTVp].nii.gz"
        ],
        [
         "31",
         "RADCURE-1049_0827",
         "/hostopt/PublicDatasets/procdata/HeadNeck/TCIA_RADCURE/images/mit_RADCURE_GTVp/RADCURE-1049_0827/CT_90143546/CT.nii.gz",
         "/hostopt/PublicDatasets/procdata/HeadNeck/TCIA_RADCURE/images/mit_RADCURE_GTVp/RADCURE-1049_0827/RTSTRUCT_23683185/ROI__[GTVp].nii.gz"
        ],
        [
         "32",
         "RADCURE-1074_0847",
         "/hostopt/PublicDatasets/procdata/HeadNeck/TCIA_RADCURE/images/mit_RADCURE_GTVp/RADCURE-1074_0847/CT_77723866/CT.nii.gz",
         "/hostopt/PublicDatasets/procdata/HeadNeck/TCIA_RADCURE/images/mit_RADCURE_GTVp/RADCURE-1074_0847/RTSTRUCT_45527093/ROI__[GTVp].nii.gz"
        ],
        [
         "33",
         "RADCURE-1081_0852",
         "/hostopt/PublicDatasets/procdata/HeadNeck/TCIA_RADCURE/images/mit_RADCURE_GTVp/RADCURE-1081_0852/CT_00894868/CT.nii.gz",
         "/hostopt/PublicDatasets/procdata/HeadNeck/TCIA_RADCURE/images/mit_RADCURE_GTVp/RADCURE-1081_0852/RTSTRUCT_05386147/ROI__[GTVp].nii.gz"
        ],
        [
         "34",
         "RADCURE-1276_0917",
         "/hostopt/PublicDatasets/procdata/HeadNeck/TCIA_RADCURE/images/mit_RADCURE_GTVp/RADCURE-1276_0917/CT_36490086/CT.nii.gz",
         "/hostopt/PublicDatasets/procdata/HeadNeck/TCIA_RADCURE/images/mit_RADCURE_GTVp/RADCURE-1276_0917/RTSTRUCT_16002064/ROI__[GTVp].nii.gz"
        ],
        [
         "35",
         "RADCURE-1305_0937",
         "/hostopt/PublicDatasets/procdata/HeadNeck/TCIA_RADCURE/images/mit_RADCURE_GTVp/RADCURE-1305_0937/CT_45722684/CT.nii.gz",
         "/hostopt/PublicDatasets/procdata/HeadNeck/TCIA_RADCURE/images/mit_RADCURE_GTVp/RADCURE-1305_0937/RTSTRUCT_77269511/ROI__[GTVp].nii.gz"
        ],
        [
         "36",
         "RADCURE-1398_1002",
         "/hostopt/PublicDatasets/procdata/HeadNeck/TCIA_RADCURE/images/mit_RADCURE_GTVp/RADCURE-1398_1002/CT_30710531/CT.nii.gz",
         "/hostopt/PublicDatasets/procdata/HeadNeck/TCIA_RADCURE/images/mit_RADCURE_GTVp/RADCURE-1398_1002/RTSTRUCT_08389390/ROI__[GTVp].nii.gz"
        ],
        [
         "37",
         "RADCURE-1441_1028",
         "/hostopt/PublicDatasets/procdata/HeadNeck/TCIA_RADCURE/images/mit_RADCURE_GTVp/RADCURE-1441_1028/CT_62861491/CT.nii.gz",
         "/hostopt/PublicDatasets/procdata/HeadNeck/TCIA_RADCURE/images/mit_RADCURE_GTVp/RADCURE-1441_1028/RTSTRUCT_98263216/ROI__[GTVp].nii.gz"
        ],
        [
         "38",
         "RADCURE-1458_1035",
         "/hostopt/PublicDatasets/procdata/HeadNeck/TCIA_RADCURE/images/mit_RADCURE_GTVp/RADCURE-1458_1035/CT_00244192/CT.nii.gz",
         "/hostopt/PublicDatasets/procdata/HeadNeck/TCIA_RADCURE/images/mit_RADCURE_GTVp/RADCURE-1458_1035/RTSTRUCT_44240721/ROI__[GTVp].nii.gz"
        ],
        [
         "39",
         "RADCURE-1521_1086",
         "/hostopt/PublicDatasets/procdata/HeadNeck/TCIA_RADCURE/images/mit_RADCURE_GTVp/RADCURE-1521_1086/CT_31755710/CT.nii.gz",
         "/hostopt/PublicDatasets/procdata/HeadNeck/TCIA_RADCURE/images/mit_RADCURE_GTVp/RADCURE-1521_1086/RTSTRUCT_81576831/ROI__[GTVp].nii.gz"
        ],
        [
         "40",
         "RADCURE-1527_1091",
         "/hostopt/PublicDatasets/procdata/HeadNeck/TCIA_RADCURE/images/mit_RADCURE_GTVp/RADCURE-1527_1091/CT_07161776/CT.nii.gz",
         "/hostopt/PublicDatasets/procdata/HeadNeck/TCIA_RADCURE/images/mit_RADCURE_GTVp/RADCURE-1527_1091/RTSTRUCT_17954953/ROI__[GTVp].nii.gz"
        ],
        [
         "41",
         "RADCURE-1544_1107",
         "/hostopt/PublicDatasets/procdata/HeadNeck/TCIA_RADCURE/images/mit_RADCURE_GTVp/RADCURE-1544_1107/CT_37418928/CT.nii.gz",
         "/hostopt/PublicDatasets/procdata/HeadNeck/TCIA_RADCURE/images/mit_RADCURE_GTVp/RADCURE-1544_1107/RTSTRUCT_62588460/ROI__[GTVp].nii.gz"
        ],
        [
         "42",
         "RADCURE-1550_1112",
         "/hostopt/PublicDatasets/procdata/HeadNeck/TCIA_RADCURE/images/mit_RADCURE_GTVp/RADCURE-1550_1112/CT_38547032/CT.nii.gz",
         "/hostopt/PublicDatasets/procdata/HeadNeck/TCIA_RADCURE/images/mit_RADCURE_GTVp/RADCURE-1550_1112/RTSTRUCT_10829233/ROI__[GTVp].nii.gz"
        ],
        [
         "43",
         "RADCURE-1577_1136",
         "/hostopt/PublicDatasets/procdata/HeadNeck/TCIA_RADCURE/images/mit_RADCURE_GTVp/RADCURE-1577_1136/CT_88947128/CT.nii.gz",
         "/hostopt/PublicDatasets/procdata/HeadNeck/TCIA_RADCURE/images/mit_RADCURE_GTVp/RADCURE-1577_1136/RTSTRUCT_05298167/ROI__[GTVp].nii.gz"
        ],
        [
         "44",
         "RADCURE-1656_1197",
         "/hostopt/PublicDatasets/procdata/HeadNeck/TCIA_RADCURE/images/mit_RADCURE_GTVp/RADCURE-1656_1197/CT_42100500/CT.nii.gz",
         "/hostopt/PublicDatasets/procdata/HeadNeck/TCIA_RADCURE/images/mit_RADCURE_GTVp/RADCURE-1656_1197/RTSTRUCT_01434860/ROI__[GTVp].nii.gz"
        ],
        [
         "45",
         "RADCURE-1658_1198",
         "/hostopt/PublicDatasets/procdata/HeadNeck/TCIA_RADCURE/images/mit_RADCURE_GTVp/RADCURE-1658_1198/CT_21738187/CT.nii.gz",
         "/hostopt/PublicDatasets/procdata/HeadNeck/TCIA_RADCURE/images/mit_RADCURE_GTVp/RADCURE-1658_1198/RTSTRUCT_32893048/ROI__[GTVp].nii.gz"
        ],
        [
         "46",
         "RADCURE-1740_1262",
         "/hostopt/PublicDatasets/procdata/HeadNeck/TCIA_RADCURE/images/mit_RADCURE_GTVp/RADCURE-1740_1262/CT_80518108/CT.nii.gz",
         "/hostopt/PublicDatasets/procdata/HeadNeck/TCIA_RADCURE/images/mit_RADCURE_GTVp/RADCURE-1740_1262/RTSTRUCT_04207488/ROI__[GTVp].nii.gz"
        ],
        [
         "47",
         "RADCURE-1746_1267",
         "/hostopt/PublicDatasets/procdata/HeadNeck/TCIA_RADCURE/images/mit_RADCURE_GTVp/RADCURE-1746_1267/CT_19618444/CT.nii.gz",
         "/hostopt/PublicDatasets/procdata/HeadNeck/TCIA_RADCURE/images/mit_RADCURE_GTVp/RADCURE-1746_1267/RTSTRUCT_32288126/ROI__[GTVp].nii.gz"
        ],
        [
         "48",
         "RADCURE-1792_1309",
         "/hostopt/PublicDatasets/procdata/HeadNeck/TCIA_RADCURE/images/mit_RADCURE_GTVp/RADCURE-1792_1309/CT_07967957/CT.nii.gz",
         "/hostopt/PublicDatasets/procdata/HeadNeck/TCIA_RADCURE/images/mit_RADCURE_GTVp/RADCURE-1792_1309/RTSTRUCT_44003849/ROI__[GTVp].nii.gz"
        ],
        [
         "49",
         "RADCURE-1793_1310",
         "/hostopt/PublicDatasets/procdata/HeadNeck/TCIA_RADCURE/images/mit_RADCURE_GTVp/RADCURE-1793_1310/CT_29035851/CT.nii.gz",
         "/hostopt/PublicDatasets/procdata/HeadNeck/TCIA_RADCURE/images/mit_RADCURE_GTVp/RADCURE-1793_1310/RTSTRUCT_64005629/ROI__[GTVp].nii.gz"
        ]
       ],
       "shape": {
        "columns": 3,
        "rows": 97
       }
      },
      "text/html": [
       "<div>\n",
       "<style scoped>\n",
       "    .dataframe tbody tr th:only-of-type {\n",
       "        vertical-align: middle;\n",
       "    }\n",
       "\n",
       "    .dataframe tbody tr th {\n",
       "        vertical-align: top;\n",
       "    }\n",
       "\n",
       "    .dataframe thead th {\n",
       "        text-align: right;\n",
       "    }\n",
       "</style>\n",
       "<table border=\"1\" class=\"dataframe\">\n",
       "  <thead>\n",
       "    <tr style=\"text-align: right;\">\n",
       "      <th></th>\n",
       "      <th>ID</th>\n",
       "      <th>image_path</th>\n",
       "      <th>mask_path</th>\n",
       "    </tr>\n",
       "  </thead>\n",
       "  <tbody>\n",
       "    <tr>\n",
       "      <th>0</th>\n",
       "      <td>RADCURE-0014_0008</td>\n",
       "      <td>/hostopt/PublicDatasets/procdata/HeadNeck/TCIA...</td>\n",
       "      <td>/hostopt/PublicDatasets/procdata/HeadNeck/TCIA...</td>\n",
       "    </tr>\n",
       "    <tr>\n",
       "      <th>1</th>\n",
       "      <td>RADCURE-0040_0030</td>\n",
       "      <td>/hostopt/PublicDatasets/procdata/HeadNeck/TCIA...</td>\n",
       "      <td>/hostopt/PublicDatasets/procdata/HeadNeck/TCIA...</td>\n",
       "    </tr>\n",
       "    <tr>\n",
       "      <th>2</th>\n",
       "      <td>RADCURE-0067_0053</td>\n",
       "      <td>/hostopt/PublicDatasets/procdata/HeadNeck/TCIA...</td>\n",
       "      <td>/hostopt/PublicDatasets/procdata/HeadNeck/TCIA...</td>\n",
       "    </tr>\n",
       "    <tr>\n",
       "      <th>3</th>\n",
       "      <td>RADCURE-0115_0091</td>\n",
       "      <td>/hostopt/PublicDatasets/procdata/HeadNeck/TCIA...</td>\n",
       "      <td>/hostopt/PublicDatasets/procdata/HeadNeck/TCIA...</td>\n",
       "    </tr>\n",
       "    <tr>\n",
       "      <th>4</th>\n",
       "      <td>RADCURE-0137_0108</td>\n",
       "      <td>/hostopt/PublicDatasets/procdata/HeadNeck/TCIA...</td>\n",
       "      <td>/hostopt/PublicDatasets/procdata/HeadNeck/TCIA...</td>\n",
       "    </tr>\n",
       "    <tr>\n",
       "      <th>...</th>\n",
       "      <td>...</td>\n",
       "      <td>...</td>\n",
       "      <td>...</td>\n",
       "    </tr>\n",
       "    <tr>\n",
       "      <th>92</th>\n",
       "      <td>RADCURE-3458_2790</td>\n",
       "      <td>/hostopt/PublicDatasets/procdata/HeadNeck/TCIA...</td>\n",
       "      <td>/hostopt/PublicDatasets/procdata/HeadNeck/TCIA...</td>\n",
       "    </tr>\n",
       "    <tr>\n",
       "      <th>93</th>\n",
       "      <td>RADCURE-3697_3007</td>\n",
       "      <td>/hostopt/PublicDatasets/procdata/HeadNeck/TCIA...</td>\n",
       "      <td>/hostopt/PublicDatasets/procdata/HeadNeck/TCIA...</td>\n",
       "    </tr>\n",
       "    <tr>\n",
       "      <th>94</th>\n",
       "      <td>RADCURE-3740_3041</td>\n",
       "      <td>/hostopt/PublicDatasets/procdata/HeadNeck/TCIA...</td>\n",
       "      <td>/hostopt/PublicDatasets/procdata/HeadNeck/TCIA...</td>\n",
       "    </tr>\n",
       "    <tr>\n",
       "      <th>95</th>\n",
       "      <td>RADCURE-3746_3047</td>\n",
       "      <td>/hostopt/PublicDatasets/procdata/HeadNeck/TCIA...</td>\n",
       "      <td>/hostopt/PublicDatasets/procdata/HeadNeck/TCIA...</td>\n",
       "    </tr>\n",
       "    <tr>\n",
       "      <th>96</th>\n",
       "      <td>RADCURE-4052_3272</td>\n",
       "      <td>/hostopt/PublicDatasets/procdata/HeadNeck/TCIA...</td>\n",
       "      <td>/hostopt/PublicDatasets/procdata/HeadNeck/TCIA...</td>\n",
       "    </tr>\n",
       "  </tbody>\n",
       "</table>\n",
       "<p>97 rows × 3 columns</p>\n",
       "</div>"
      ],
      "text/plain": [
       "                   ID                                         image_path  \\\n",
       "0   RADCURE-0014_0008  /hostopt/PublicDatasets/procdata/HeadNeck/TCIA...   \n",
       "1   RADCURE-0040_0030  /hostopt/PublicDatasets/procdata/HeadNeck/TCIA...   \n",
       "2   RADCURE-0067_0053  /hostopt/PublicDatasets/procdata/HeadNeck/TCIA...   \n",
       "3   RADCURE-0115_0091  /hostopt/PublicDatasets/procdata/HeadNeck/TCIA...   \n",
       "4   RADCURE-0137_0108  /hostopt/PublicDatasets/procdata/HeadNeck/TCIA...   \n",
       "..                ...                                                ...   \n",
       "92  RADCURE-3458_2790  /hostopt/PublicDatasets/procdata/HeadNeck/TCIA...   \n",
       "93  RADCURE-3697_3007  /hostopt/PublicDatasets/procdata/HeadNeck/TCIA...   \n",
       "94  RADCURE-3740_3041  /hostopt/PublicDatasets/procdata/HeadNeck/TCIA...   \n",
       "95  RADCURE-3746_3047  /hostopt/PublicDatasets/procdata/HeadNeck/TCIA...   \n",
       "96  RADCURE-4052_3272  /hostopt/PublicDatasets/procdata/HeadNeck/TCIA...   \n",
       "\n",
       "                                            mask_path  \n",
       "0   /hostopt/PublicDatasets/procdata/HeadNeck/TCIA...  \n",
       "1   /hostopt/PublicDatasets/procdata/HeadNeck/TCIA...  \n",
       "2   /hostopt/PublicDatasets/procdata/HeadNeck/TCIA...  \n",
       "3   /hostopt/PublicDatasets/procdata/HeadNeck/TCIA...  \n",
       "4   /hostopt/PublicDatasets/procdata/HeadNeck/TCIA...  \n",
       "..                                                ...  \n",
       "92  /hostopt/PublicDatasets/procdata/HeadNeck/TCIA...  \n",
       "93  /hostopt/PublicDatasets/procdata/HeadNeck/TCIA...  \n",
       "94  /hostopt/PublicDatasets/procdata/HeadNeck/TCIA...  \n",
       "95  /hostopt/PublicDatasets/procdata/HeadNeck/TCIA...  \n",
       "96  /hostopt/PublicDatasets/procdata/HeadNeck/TCIA...  \n",
       "\n",
       "[97 rows x 3 columns]"
      ]
     },
     "execution_count": 19,
     "metadata": {},
     "output_type": "execute_result"
    }
   ],
   "source": [
    "medsam_metadata"
   ]
  },
  {
   "cell_type": "code",
   "execution_count": null,
   "id": "24bb5a34",
   "metadata": {},
   "outputs": [],
   "source": []
  }
 ],
 "metadata": {
  "kernelspec": {
   "display_name": "Python 3",
   "language": "python",
   "name": "python3"
  },
  "language_info": {
   "codemirror_mode": {
    "name": "ipython",
    "version": 3
   },
   "file_extension": ".py",
   "mimetype": "text/x-python",
   "name": "python",
   "nbconvert_exporter": "python",
   "pygments_lexer": "ipython3",
   "version": "3.12.11"
  }
 },
 "nbformat": 4,
 "nbformat_minor": 5
}
