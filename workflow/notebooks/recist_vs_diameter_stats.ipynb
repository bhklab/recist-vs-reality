{
 "cells": [
  {
   "cell_type": "code",
   "execution_count": 1,
   "id": "552ab710",
   "metadata": {},
   "outputs": [
    {
     "name": "stdout",
     "output_type": "stream",
     "text": [
      "/home/bhkuser/bhklab/katy/recist-vs-reality\n"
     ]
    }
   ],
   "source": [
    "%cd ../.."
   ]
  },
  {
   "cell_type": "code",
   "execution_count": 2,
   "id": "49981093",
   "metadata": {},
   "outputs": [],
   "source": [
    "from damply import dirs\n",
    "import numpy as np\n",
    "import pandas as pd\n",
    "from scipy import stats\n",
    "import logging\n",
    "from pathlib import Path\n",
    "import pydicom\n",
    "\n",
    "logger = logging.getLogger(__name__)\n",
    "logging.basicConfig(filename=dirs.LOGS / \"match_ann_to_seg.log\", encoding='utf-8', level=logging.DEBUG)"
   ]
  },
  {
   "cell_type": "code",
   "execution_count": 11,
   "id": "8902fe16",
   "metadata": {},
   "outputs": [],
   "source": [
    "def get_ann_measurements(ann_dicom_file_path: Path): \n",
    "    '''\n",
    "    Scrapes the raw annotation DICOM file for information relating to long axis measurements. Logs all possible measurements. \n",
    "    Assumes all relevant data in the SR follows the same structure and depth and that all measurements correspond to relevant tumours.\n",
    "\n",
    "    Paramters\n",
    "    ---------\n",
    "    ann_dicom_file_path: Path\n",
    "        Path to SR file\n",
    "\n",
    "    Returns \n",
    "    ---------\n",
    "    tum_info_df: pd.DataFrame\n",
    "        Contains information related to file and the long and short axis measurements\n",
    "    '''\n",
    "    cols = [\"PatientID\",\n",
    "            \"AnnSeriesInstanceUID\", \n",
    "            \"LongAxisMeasureType\", \n",
    "            \"LongAxisUnit\", \n",
    "            \"LongAxisMeasurement\", \n",
    "            \"LongAxisRefSOPUID\", \n",
    "            \"ShortAxisMeasureType\", \n",
    "            \"ShortAxisUnit\", \n",
    "            \"ShortAxisMeasurement\", \n",
    "            \"ShortAxisRefSOPUID\"]\n",
    "    \n",
    "    tum_info_df = pd.DataFrame(columns = cols)\n",
    "    dicom_data = pydicom.dcmread(ann_dicom_file_path)\n",
    "\n",
    "    patID = dicom_data.PatientID\n",
    "    ann_seriesInstUID = dicom_data.SeriesInstanceUID\n",
    "    parent_cont_seq = dicom_data.ContentSequence\n",
    "    \n",
    "    logger.info(\"Measurements being obtained for file: %s\", ann_dicom_file_path)\n",
    "\n",
    "    for cont_seq in range(len(parent_cont_seq[4][\"ContentSequence\"].value)): \n",
    "        measure_type_long = parent_cont_seq[4][\"ContentSequence\"][cont_seq][\"ContentSequence\"][2][\"ConceptNameCodeSequence\"][0][\"CodeMeaning\"].value\n",
    "        measure_unit_long = parent_cont_seq[4][\"ContentSequence\"][cont_seq][\"ContentSequence\"][2][\"MeasuredValueSequence\"][0][\"MeasurementUnitsCodeSequence\"][0][\"CodeValue\"].value\n",
    "        measurement_long = parent_cont_seq[4][\"ContentSequence\"][cont_seq][\"ContentSequence\"][2][\"MeasuredValueSequence\"][0][\"NumericValue\"].value\n",
    "        ref_SOPUID_long = parent_cont_seq[4][\"ContentSequence\"][cont_seq][\"ContentSequence\"][2][\"ContentSequence\"][0][\"ContentSequence\"][0][\"ReferencedSOPSequence\"][0][\"ReferencedSOPInstanceUID\"].value\n",
    "\n",
    "        logger.info(\"Long axis measurement of type %s and units %s has been obtained.\", measure_type_long, measure_unit_long)\n",
    "        logger.info(\"Long axis easurement value: %s\", measurement_long)\n",
    "        logger.info(\"Long axis corresponding ReferencedSOPUID: %s\", ref_SOPUID_long)\n",
    "\n",
    "        measure_type_short = parent_cont_seq[4][\"ContentSequence\"][cont_seq][\"ContentSequence\"][3][\"ConceptNameCodeSequence\"][0][\"CodeMeaning\"].value\n",
    "        measure_unit_short = parent_cont_seq[4][\"ContentSequence\"][cont_seq][\"ContentSequence\"][3][\"MeasuredValueSequence\"][0][\"MeasurementUnitsCodeSequence\"][0][\"CodeValue\"].value\n",
    "        measurement_short = parent_cont_seq[4][\"ContentSequence\"][cont_seq][\"ContentSequence\"][3][\"MeasuredValueSequence\"][0][\"NumericValue\"].value\n",
    "        ref_SOPUID_short = parent_cont_seq[4][\"ContentSequence\"][cont_seq][\"ContentSequence\"][3][\"ContentSequence\"][0][\"ContentSequence\"][0][\"ReferencedSOPSequence\"][0][\"ReferencedSOPInstanceUID\"].value\n",
    "\n",
    "        logger.info(\"Short axis measurement of type %s and units %s has been obtained.\", measure_type_short, measure_unit_short)\n",
    "        logger.info(\"Short axis measurement value: %s\", measurement_short)\n",
    "        logger.info(\"Short axis corresponding ReferencedSOPUID: %s\", ref_SOPUID_short)\n",
    "\n",
    "        #Check to make sure long and short axis measurements were taken on same slice. \n",
    "        if ref_SOPUID_long != ref_SOPUID_short: \n",
    "            logger.debug(\"Long and short axis measurements for SeriesInstanceUID %s not taken on the same slice\")\n",
    "            logger.debug(\"Long axis RefSOPUID: %s\", ref_SOPUID_long)\n",
    "            logger.debug(\"Short axis RefSOPUID: %s\", ref_SOPUID_short)\n",
    "\n",
    "        curr_tum_info = [patID,\n",
    "                         ann_seriesInstUID, \n",
    "                         measure_type_long, \n",
    "                         measure_unit_long,\n",
    "                         measurement_long, \n",
    "                         ref_SOPUID_long, \n",
    "                         measure_type_short,\n",
    "                         measure_unit_short,\n",
    "                         measurement_short, \n",
    "                         ref_SOPUID_short]\n",
    "        \n",
    "        curr_tum_df = pd.DataFrame([curr_tum_info], columns = cols)\n",
    "        \n",
    "        if tum_info_df.empty: \n",
    "            tum_info_df = curr_tum_df\n",
    "        else:\n",
    "            tum_info_df = pd.concat([tum_info_df, curr_tum_df])\n",
    "\n",
    "    return tum_info_df"
   ]
  },
  {
   "cell_type": "code",
   "execution_count": 12,
   "id": "ee006cb7",
   "metadata": {},
   "outputs": [],
   "source": [
    "datasource = \"TCIA_\"\n",
    "dataset = \"NSCLC-Radiogenomics\"\n",
    "\n",
    "index_file = dirs.RAWDATA / (datasource + dataset) / \".imgtools\"/ \"images\" / f\"index.csv\"\n",
    "index_df = pd.read_csv(index_file)\n",
    "\n",
    "diameter_directory = dirs.PROCDATA / (datasource + dataset )/ \"features\" / \"rvr_measurements\" / \"pyradiomics_measurement_subset_axislen.csv\"\n",
    "diameter_df = pd.read_csv(diameter_directory)"
   ]
  },
  {
   "cell_type": "code",
   "execution_count": 22,
   "id": "5d389b22",
   "metadata": {},
   "outputs": [],
   "source": [
    "sr_filepaths = list(Path(dirs.RAWDATA / \"TCIA_NSCLC-Radiogenomics/images/annotations/NSCLC-Radiogenomics\").glob(\"*.dcm\"))\n",
    "\n",
    "sr_file_data = []\n",
    "for sr_filepath in sr_filepaths:\n",
    "    sr_file_data.append(get_ann_measurements(sr_filepath))\n",
    "\n",
    "sr_data = pd.concat(sr_file_data, ignore_index=True).sort_values(by=[\"PatientID\", \"AnnSeriesInstanceUID\"])"
   ]
  },
  {
   "cell_type": "code",
   "execution_count": 23,
   "id": "0bd7f977",
   "metadata": {},
   "outputs": [
    {
     "data": {
      "application/vnd.microsoft.datawrangler.viewer.v0+json": {
       "columns": [
        {
         "name": "index",
         "rawType": "int64",
         "type": "integer"
        },
        {
         "name": "PatientID",
         "rawType": "object",
         "type": "string"
        },
        {
         "name": "AnnSeriesInstanceUID",
         "rawType": "object",
         "type": "string"
        },
        {
         "name": "LongAxisMeasureType",
         "rawType": "object",
         "type": "string"
        },
        {
         "name": "LongAxisUnit",
         "rawType": "object",
         "type": "string"
        },
        {
         "name": "LongAxisMeasurement",
         "rawType": "float64",
         "type": "float"
        },
        {
         "name": "LongAxisRefSOPUID",
         "rawType": "object",
         "type": "string"
        },
        {
         "name": "ShortAxisMeasureType",
         "rawType": "object",
         "type": "string"
        },
        {
         "name": "ShortAxisUnit",
         "rawType": "object",
         "type": "string"
        },
        {
         "name": "ShortAxisMeasurement",
         "rawType": "float64",
         "type": "float"
        },
        {
         "name": "ShortAxisRefSOPUID",
         "rawType": "object",
         "type": "string"
        }
       ],
       "ref": "cfade4de-a63e-4a3a-98e9-f0b4b139b52e",
       "rows": [
        [
         "161",
         "AMC-001",
         "2.25.557412904088002634779097194346544258273",
         "Long Axis",
         "mm",
         "16.1",
         "1.3.6.1.4.1.14519.5.2.1.4334.1501.204038471157187984095376885814",
         "Short Axis",
         "mm",
         "8.1",
         "1.3.6.1.4.1.14519.5.2.1.4334.1501.204038471157187984095376885814"
        ],
        [
         "113",
         "AMC-001",
         "2.25.656273650814296327982116545324746541860",
         "Long Axis",
         "mm",
         "21.1",
         "1.3.6.1.4.1.14519.5.2.1.4334.1501.231208660295926455640464504427",
         "Short Axis",
         "mm",
         "10.6",
         "1.3.6.1.4.1.14519.5.2.1.4334.1501.231208660295926455640464504427"
        ],
        [
         "114",
         "AMC-001",
         "2.25.656273650814296327982116545324746541860",
         "Long Axis",
         "mm",
         "21.8",
         "1.3.6.1.4.1.14519.5.2.1.4334.1501.193651866486125064407958148825",
         "Short Axis",
         "mm",
         "19.1",
         "1.3.6.1.4.1.14519.5.2.1.4334.1501.193651866486125064407958148825"
        ],
        [
         "115",
         "AMC-001",
         "2.25.656273650814296327982116545324746541860",
         "Long Axis",
         "mm",
         "10.3",
         "1.3.6.1.4.1.14519.5.2.1.4334.1501.269538794972488603176552116085",
         "Short Axis",
         "mm",
         "7.4",
         "1.3.6.1.4.1.14519.5.2.1.4334.1501.269538794972488603176552116085"
        ],
        [
         "116",
         "AMC-001",
         "2.25.656273650814296327982116545324746541860",
         "Long Axis",
         "mm",
         "68.0",
         "1.3.6.1.4.1.14519.5.2.1.4334.1501.698333416459898594098357834260",
         "Short Axis",
         "mm",
         "66.5",
         "1.3.6.1.4.1.14519.5.2.1.4334.1501.698333416459898594098357834260"
        ],
        [
         "178",
         "AMC-002",
         "2.25.860180432186034625054505566217811512192",
         "Long Axis",
         "mm",
         "92.8",
         "1.3.6.1.4.1.14519.5.2.1.4334.1501.334928413469111483787776644648",
         "Short Axis",
         "mm",
         "46.4",
         "1.3.6.1.4.1.14519.5.2.1.4334.1501.334928413469111483787776644648"
        ],
        [
         "179",
         "AMC-002",
         "2.25.860180432186034625054505566217811512192",
         "Long Axis",
         "mm",
         "107.8",
         "1.3.6.1.4.1.14519.5.2.1.4334.1501.334928413469111483787776644648",
         "Short Axis",
         "mm",
         "59.4",
         "1.3.6.1.4.1.14519.5.2.1.4334.1501.334928413469111483787776644648"
        ],
        [
         "14",
         "AMC-004",
         "2.25.584739768702427888497506197102637166953",
         "Long Axis",
         "mm",
         "18.5",
         "1.3.6.1.4.1.14519.5.2.1.4334.1501.123178421693963264881134452767",
         "Short Axis",
         "mm",
         "15.9",
         "1.3.6.1.4.1.14519.5.2.1.4334.1501.123178421693963264881134452767"
        ],
        [
         "52",
         "AMC-006",
         "2.25.169628580094196346847086091987867612141",
         "Long Axis",
         "mm",
         "20.1",
         "1.3.6.1.4.1.14519.5.2.1.4334.1501.151682800930451042318297543674",
         "Short Axis",
         "mm",
         "17.0",
         "1.3.6.1.4.1.14519.5.2.1.4334.1501.151682800930451042318297543674"
        ],
        [
         "151",
         "AMC-006",
         "2.25.479524624489661881757167849312467038242",
         "Long Axis",
         "mm",
         "9.3",
         "1.3.6.1.4.1.14519.5.2.1.4334.1501.237705887784600619037105671032",
         "Short Axis",
         "mm",
         "6.9",
         "1.3.6.1.4.1.14519.5.2.1.4334.1501.237705887784600619037105671032"
        ],
        [
         "152",
         "AMC-006",
         "2.25.479524624489661881757167849312467038242",
         "Long Axis",
         "mm",
         "8.9",
         "1.3.6.1.4.1.14519.5.2.1.4334.1501.863923912653421562010899447268",
         "Short Axis",
         "mm",
         "8.0",
         "1.3.6.1.4.1.14519.5.2.1.4334.1501.863923912653421562010899447268"
        ],
        [
         "153",
         "AMC-006",
         "2.25.479524624489661881757167849312467038242",
         "Long Axis",
         "mm",
         "13.0",
         "1.3.6.1.4.1.14519.5.2.1.4334.1501.914254994512422798474680083591",
         "Short Axis",
         "mm",
         "9.8",
         "1.3.6.1.4.1.14519.5.2.1.4334.1501.914254994512422798474680083591"
        ],
        [
         "154",
         "AMC-006",
         "2.25.479524624489661881757167849312467038242",
         "Long Axis",
         "mm",
         "8.0",
         "1.3.6.1.4.1.14519.5.2.1.4334.1501.198752622763100928319937694047",
         "Short Axis",
         "mm",
         "7.1",
         "1.3.6.1.4.1.14519.5.2.1.4334.1501.198752622763100928319937694047"
        ],
        [
         "155",
         "AMC-006",
         "2.25.479524624489661881757167849312467038242",
         "Long Axis",
         "mm",
         "6.5",
         "1.3.6.1.4.1.14519.5.2.1.4334.1501.296108559362652584722094718827",
         "Short Axis",
         "mm",
         "4.7",
         "1.3.6.1.4.1.14519.5.2.1.4334.1501.296108559362652584722094718827"
        ],
        [
         "54",
         "AMC-006",
         "2.25.716343616167587829250206148163043315246",
         "Long Axis",
         "mm",
         "9.6",
         "1.3.6.1.4.1.14519.5.2.1.4334.1501.226196372171506934868266975140",
         "Short Axis",
         "mm",
         "9.1",
         "1.3.6.1.4.1.14519.5.2.1.4334.1501.226196372171506934868266975140"
        ],
        [
         "55",
         "AMC-006",
         "2.25.716343616167587829250206148163043315246",
         "Long Axis",
         "mm",
         "9.2",
         "1.3.6.1.4.1.14519.5.2.1.4334.1501.188491621780631676516140484180",
         "Short Axis",
         "mm",
         "7.6",
         "1.3.6.1.4.1.14519.5.2.1.4334.1501.188491621780631676516140484180"
        ],
        [
         "56",
         "AMC-006",
         "2.25.716343616167587829250206148163043315246",
         "Long Axis",
         "mm",
         "8.2",
         "1.3.6.1.4.1.14519.5.2.1.4334.1501.257999634182972023986991097719",
         "Short Axis",
         "mm",
         "5.7",
         "1.3.6.1.4.1.14519.5.2.1.4334.1501.257999634182972023986991097719"
        ],
        [
         "57",
         "AMC-006",
         "2.25.716343616167587829250206148163043315246",
         "Long Axis",
         "mm",
         "11.4",
         "1.3.6.1.4.1.14519.5.2.1.4334.1501.323616910203404236569906479252",
         "Short Axis",
         "mm",
         "8.3",
         "1.3.6.1.4.1.14519.5.2.1.4334.1501.323616910203404236569906479252"
        ],
        [
         "58",
         "AMC-006",
         "2.25.716343616167587829250206148163043315246",
         "Long Axis",
         "mm",
         "14.0",
         "1.3.6.1.4.1.14519.5.2.1.4334.1501.257046004611994401678506969403",
         "Short Axis",
         "mm",
         "11.7",
         "1.3.6.1.4.1.14519.5.2.1.4334.1501.257046004611994401678506969403"
        ],
        [
         "21",
         "AMC-006",
         "2.25.974092107576012169671100434829329560653",
         "Long Axis",
         "mm",
         "19.6",
         "1.3.6.1.4.1.14519.5.2.1.4334.1501.885037365241399441843470085331",
         "Short Axis",
         "mm",
         "17.1",
         "1.3.6.1.4.1.14519.5.2.1.4334.1501.885037365241399441843470085331"
        ],
        [
         "77",
         "AMC-007",
         "2.25.234591781904711269048292252948260010427",
         "Long Axis",
         "mm",
         "9.8",
         "1.3.6.1.4.1.14519.5.2.1.4334.1501.269270453848474249576637296093",
         "Short Axis",
         "mm",
         "4.9",
         "1.3.6.1.4.1.14519.5.2.1.4334.1501.269270453848474249576637296093"
        ],
        [
         "137",
         "AMC-007",
         "2.25.428937910360133387841617366024171144454",
         "Long Axis",
         "mm",
         "8.4",
         "1.3.6.1.4.1.14519.5.2.1.4334.1501.256054095681941875380780957903",
         "Short Axis",
         "mm",
         "5.3",
         "1.3.6.1.4.1.14519.5.2.1.4334.1501.256054095681941875380780957903"
        ],
        [
         "111",
         "AMC-008",
         "2.25.890807395739063172101941032007809007839",
         "Long Axis",
         "mm",
         "43.5",
         "1.3.6.1.4.1.14519.5.2.1.4334.1501.488953131572851803309694099856",
         "Short Axis",
         "mm",
         "21.7",
         "1.3.6.1.4.1.14519.5.2.1.4334.1501.488953131572851803309694099856"
        ],
        [
         "41",
         "AMC-009",
         "2.25.963422444108562916147348488528877141761",
         "Long Axis",
         "mm",
         "19.7",
         "1.3.6.1.4.1.14519.5.2.1.4334.1501.225473644556404784732819018138",
         "Short Axis",
         "mm",
         "15.7",
         "1.3.6.1.4.1.14519.5.2.1.4334.1501.225473644556404784732819018138"
        ],
        [
         "6",
         "AMC-011",
         "2.25.959530688787356780146943223857264666490",
         "Long Axis",
         "mm",
         "93.8",
         "1.3.6.1.4.1.14519.5.2.1.4334.1501.223537775448015731818555018208",
         "Short Axis",
         "mm",
         "46.9",
         "1.3.6.1.4.1.14519.5.2.1.4334.1501.223537775448015731818555018208"
        ],
        [
         "13",
         "AMC-012",
         "2.25.172694614454317585087337460030443174909",
         "Long Axis",
         "mm",
         "18.8",
         "1.3.6.1.4.1.14519.5.2.1.4334.1501.170695707618083421865999372295",
         "Short Axis",
         "mm",
         "17.6",
         "1.3.6.1.4.1.14519.5.2.1.4334.1501.170695707618083421865999372295"
        ],
        [
         "102",
         "AMC-016",
         "2.25.887388850517616106741594906325465025678",
         "Long Axis",
         "mm",
         "11.5",
         "1.3.6.1.4.1.14519.5.2.1.4334.1501.103046584401808490440216339675",
         "Short Axis",
         "mm",
         "7.4",
         "1.3.6.1.4.1.14519.5.2.1.4334.1501.103046584401808490440216339675"
        ],
        [
         "120",
         "AMC-017",
         "2.25.278929564036479373545789226564101825636",
         "Long Axis",
         "mm",
         "29.8",
         "1.3.6.1.4.1.14519.5.2.1.4334.1501.322342306013275381189065794367",
         "Short Axis",
         "mm",
         "14.9",
         "1.3.6.1.4.1.14519.5.2.1.4334.1501.322342306013275381189065794367"
        ],
        [
         "121",
         "AMC-017",
         "2.25.278929564036479373545789226564101825636",
         "Long Axis",
         "mm",
         "39.5",
         "1.3.6.1.4.1.14519.5.2.1.4334.1501.666140327887233417840291780445",
         "Short Axis",
         "mm",
         "19.7",
         "1.3.6.1.4.1.14519.5.2.1.4334.1501.666140327887233417840291780445"
        ],
        [
         "122",
         "AMC-017",
         "2.25.450170107376390888229632232276332460008",
         "Long Axis",
         "mm",
         "30.2",
         "1.3.6.1.4.1.14519.5.2.1.4334.1501.331785876863781679295953502959",
         "Short Axis",
         "mm",
         "15.1",
         "1.3.6.1.4.1.14519.5.2.1.4334.1501.331785876863781679295953502959"
        ],
        [
         "82",
         "AMC-017",
         "2.25.874725734884985849164249389939157756496",
         "Long Axis",
         "mm",
         "23.7",
         "1.3.6.1.4.1.14519.5.2.1.4334.1501.327166519612875911379923734541",
         "Short Axis",
         "mm",
         "11.9",
         "1.3.6.1.4.1.14519.5.2.1.4334.1501.327166519612875911379923734541"
        ],
        [
         "144",
         "AMC-018",
         "2.25.383569740994363828678979674129756229873",
         "Long Axis",
         "mm",
         "16.7",
         "1.3.6.1.4.1.14519.5.2.1.4334.1501.221419660980418621796980625415",
         "Short Axis",
         "mm",
         "13.6",
         "1.3.6.1.4.1.14519.5.2.1.4334.1501.221419660980418621796980625415"
        ],
        [
         "128",
         "AMC-019",
         "2.25.434047217136657913592537336397155056714",
         "Long Axis",
         "mm",
         "17.4",
         "1.3.6.1.4.1.14519.5.2.1.4334.1501.612625122254747200396590547429",
         "Short Axis",
         "mm",
         "14.6",
         "1.3.6.1.4.1.14519.5.2.1.4334.1501.612625122254747200396590547429"
        ],
        [
         "129",
         "AMC-019",
         "2.25.434047217136657913592537336397155056714",
         "Long Axis",
         "mm",
         "14.0",
         "1.3.6.1.4.1.14519.5.2.1.4334.1501.265468358118014020193525187084",
         "Short Axis",
         "mm",
         "13.7",
         "1.3.6.1.4.1.14519.5.2.1.4334.1501.265468358118014020193525187084"
        ],
        [
         "149",
         "AMC-020",
         "2.25.561340301238747530204975515926353596335",
         "Long Axis",
         "mm",
         "35.8",
         "1.3.6.1.4.1.14519.5.2.1.4334.1501.143634713150707892622809732737",
         "Short Axis",
         "mm",
         "33.3",
         "1.3.6.1.4.1.14519.5.2.1.4334.1501.143634713150707892622809732737"
        ],
        [
         "138",
         "AMC-026",
         "2.25.548439493337107121555389171930882359087",
         "Long Axis",
         "mm",
         "22.6",
         "1.3.6.1.4.1.14519.5.2.1.4334.1501.762086410001344766069796948326",
         "Short Axis",
         "mm",
         "22.4",
         "1.3.6.1.4.1.14519.5.2.1.4334.1501.762086410001344766069796948326"
        ],
        [
         "139",
         "AMC-026",
         "2.25.548439493337107121555389171930882359087",
         "Long Axis",
         "mm",
         "7.2",
         "1.3.6.1.4.1.14519.5.2.1.4334.1501.475629872294761830477740752375",
         "Short Axis",
         "mm",
         "5.3",
         "1.3.6.1.4.1.14519.5.2.1.4334.1501.475629872294761830477740752375"
        ],
        [
         "167",
         "AMC-028",
         "2.25.255445126546688105214520695507243126027",
         "Long Axis",
         "mm",
         "8.4",
         "1.3.6.1.4.1.14519.5.2.1.4334.1501.135638208824069487398406245902",
         "Short Axis",
         "mm",
         "8.3",
         "1.3.6.1.4.1.14519.5.2.1.4334.1501.135638208824069487398406245902"
        ],
        [
         "18",
         "AMC-031",
         "2.25.208433736717529841991247285833640244042",
         "Long Axis",
         "mm",
         "14.7",
         "1.3.6.1.4.1.14519.5.2.1.4334.1501.108473312622223051604865259964",
         "Short Axis",
         "mm",
         "12.2",
         "1.3.6.1.4.1.14519.5.2.1.4334.1501.108473312622223051604865259964"
        ],
        [
         "126",
         "AMC-031",
         "2.25.571340214188928628602731916852645197467",
         "Long Axis",
         "mm",
         "16.8",
         "1.3.6.1.4.1.14519.5.2.1.4334.1501.154675953803045617234555245939",
         "Short Axis",
         "mm",
         "15.1",
         "1.3.6.1.4.1.14519.5.2.1.4334.1501.154675953803045617234555245939"
        ],
        [
         "143",
         "AMC-031",
         "2.25.905461588756592799376603585795548448537",
         "Long Axis",
         "mm",
         "16.0",
         "1.3.6.1.4.1.14519.5.2.1.4334.1501.108473312622223051604865259964",
         "Short Axis",
         "mm",
         "12.4",
         "1.3.6.1.4.1.14519.5.2.1.4334.1501.108473312622223051604865259964"
        ],
        [
         "4",
         "AMC-032",
         "2.25.123578885215110350413131197114340237495",
         "Long Axis",
         "mm",
         "6.8",
         "1.3.6.1.4.1.14519.5.2.1.4334.1501.364842327868415514752965873342",
         "Short Axis",
         "mm",
         "5.8",
         "1.3.6.1.4.1.14519.5.2.1.4334.1501.364842327868415514752965873342"
        ],
        [
         "16",
         "AMC-032",
         "2.25.336337995553794492270119667571233046653",
         "Long Axis",
         "mm",
         "13.3",
         "1.3.6.1.4.1.14519.5.2.1.4334.1501.864577234966780037882893978297",
         "Short Axis",
         "mm",
         "9.4",
         "1.3.6.1.4.1.14519.5.2.1.4334.1501.864577234966780037882893978297"
        ],
        [
         "17",
         "AMC-032",
         "2.25.336337995553794492270119667571233046653",
         "Long Axis",
         "mm",
         "15.3",
         "1.3.6.1.4.1.14519.5.2.1.4334.1501.971564011896195720963331838021",
         "Short Axis",
         "mm",
         "14.3",
         "1.3.6.1.4.1.14519.5.2.1.4334.1501.971564011896195720963331838021"
        ],
        [
         "98",
         "AMC-032",
         "2.25.714784814269562484440322721500890472304",
         "Long Axis",
         "mm",
         "7.4",
         "1.3.6.1.4.1.14519.5.2.1.4334.1501.323690378408826437775145227155",
         "Short Axis",
         "mm",
         "3.7",
         "1.3.6.1.4.1.14519.5.2.1.4334.1501.323690378408826437775145227155"
        ],
        [
         "60",
         "AMC-032",
         "2.25.753221204467120808761717484761285657555",
         "Long Axis",
         "mm",
         "22.7",
         "1.3.6.1.4.1.14519.5.2.1.4334.1501.228334330728296945471782803681",
         "Short Axis",
         "mm",
         "11.6",
         "1.3.6.1.4.1.14519.5.2.1.4334.1501.228334330728296945471782803681"
        ],
        [
         "93",
         "AMC-032",
         "2.25.939582196370089869084929578672198122974",
         "Long Axis",
         "mm",
         "13.5",
         "1.3.6.1.4.1.14519.5.2.1.4334.1501.250405710961107385218257791258",
         "Short Axis",
         "mm",
         "8.3",
         "1.3.6.1.4.1.14519.5.2.1.4334.1501.250405710961107385218257791258"
        ],
        [
         "123",
         "AMC-033",
         "2.25.366301023672243800406822733545358334532",
         "Long Axis",
         "mm",
         "14.6",
         "1.3.6.1.4.1.14519.5.2.1.4334.1501.851096322265575900307519940882",
         "Short Axis",
         "mm",
         "9.0",
         "1.3.6.1.4.1.14519.5.2.1.4334.1501.851096322265575900307519940882"
        ],
        [
         "124",
         "AMC-033",
         "2.25.366301023672243800406822733545358334532",
         "Long Axis",
         "mm",
         "8.7",
         "1.3.6.1.4.1.14519.5.2.1.4334.1501.277171020397260088879152753707",
         "Short Axis",
         "mm",
         "4.4",
         "1.3.6.1.4.1.14519.5.2.1.4334.1501.277171020397260088879152753707"
        ],
        [
         "125",
         "AMC-033",
         "2.25.366301023672243800406822733545358334532",
         "Long Axis",
         "mm",
         "4.3",
         "1.3.6.1.4.1.14519.5.2.1.4334.1501.318063561955419457271797628798",
         "Short Axis",
         "mm",
         "2.2",
         "1.3.6.1.4.1.14519.5.2.1.4334.1501.318063561955419457271797628798"
        ]
       ],
       "shape": {
        "columns": 10,
        "rows": 185
       }
      },
      "text/html": [
       "<div>\n",
       "<style scoped>\n",
       "    .dataframe tbody tr th:only-of-type {\n",
       "        vertical-align: middle;\n",
       "    }\n",
       "\n",
       "    .dataframe tbody tr th {\n",
       "        vertical-align: top;\n",
       "    }\n",
       "\n",
       "    .dataframe thead th {\n",
       "        text-align: right;\n",
       "    }\n",
       "</style>\n",
       "<table border=\"1\" class=\"dataframe\">\n",
       "  <thead>\n",
       "    <tr style=\"text-align: right;\">\n",
       "      <th></th>\n",
       "      <th>PatientID</th>\n",
       "      <th>AnnSeriesInstanceUID</th>\n",
       "      <th>LongAxisMeasureType</th>\n",
       "      <th>LongAxisUnit</th>\n",
       "      <th>LongAxisMeasurement</th>\n",
       "      <th>LongAxisRefSOPUID</th>\n",
       "      <th>ShortAxisMeasureType</th>\n",
       "      <th>ShortAxisUnit</th>\n",
       "      <th>ShortAxisMeasurement</th>\n",
       "      <th>ShortAxisRefSOPUID</th>\n",
       "    </tr>\n",
       "  </thead>\n",
       "  <tbody>\n",
       "    <tr>\n",
       "      <th>161</th>\n",
       "      <td>AMC-001</td>\n",
       "      <td>2.25.557412904088002634779097194346544258273</td>\n",
       "      <td>Long Axis</td>\n",
       "      <td>mm</td>\n",
       "      <td>16.1</td>\n",
       "      <td>1.3.6.1.4.1.14519.5.2.1.4334.1501.204038471157...</td>\n",
       "      <td>Short Axis</td>\n",
       "      <td>mm</td>\n",
       "      <td>8.1</td>\n",
       "      <td>1.3.6.1.4.1.14519.5.2.1.4334.1501.204038471157...</td>\n",
       "    </tr>\n",
       "    <tr>\n",
       "      <th>113</th>\n",
       "      <td>AMC-001</td>\n",
       "      <td>2.25.656273650814296327982116545324746541860</td>\n",
       "      <td>Long Axis</td>\n",
       "      <td>mm</td>\n",
       "      <td>21.1</td>\n",
       "      <td>1.3.6.1.4.1.14519.5.2.1.4334.1501.231208660295...</td>\n",
       "      <td>Short Axis</td>\n",
       "      <td>mm</td>\n",
       "      <td>10.6</td>\n",
       "      <td>1.3.6.1.4.1.14519.5.2.1.4334.1501.231208660295...</td>\n",
       "    </tr>\n",
       "    <tr>\n",
       "      <th>114</th>\n",
       "      <td>AMC-001</td>\n",
       "      <td>2.25.656273650814296327982116545324746541860</td>\n",
       "      <td>Long Axis</td>\n",
       "      <td>mm</td>\n",
       "      <td>21.8</td>\n",
       "      <td>1.3.6.1.4.1.14519.5.2.1.4334.1501.193651866486...</td>\n",
       "      <td>Short Axis</td>\n",
       "      <td>mm</td>\n",
       "      <td>19.1</td>\n",
       "      <td>1.3.6.1.4.1.14519.5.2.1.4334.1501.193651866486...</td>\n",
       "    </tr>\n",
       "    <tr>\n",
       "      <th>115</th>\n",
       "      <td>AMC-001</td>\n",
       "      <td>2.25.656273650814296327982116545324746541860</td>\n",
       "      <td>Long Axis</td>\n",
       "      <td>mm</td>\n",
       "      <td>10.3</td>\n",
       "      <td>1.3.6.1.4.1.14519.5.2.1.4334.1501.269538794972...</td>\n",
       "      <td>Short Axis</td>\n",
       "      <td>mm</td>\n",
       "      <td>7.4</td>\n",
       "      <td>1.3.6.1.4.1.14519.5.2.1.4334.1501.269538794972...</td>\n",
       "    </tr>\n",
       "    <tr>\n",
       "      <th>116</th>\n",
       "      <td>AMC-001</td>\n",
       "      <td>2.25.656273650814296327982116545324746541860</td>\n",
       "      <td>Long Axis</td>\n",
       "      <td>mm</td>\n",
       "      <td>68.0</td>\n",
       "      <td>1.3.6.1.4.1.14519.5.2.1.4334.1501.698333416459...</td>\n",
       "      <td>Short Axis</td>\n",
       "      <td>mm</td>\n",
       "      <td>66.5</td>\n",
       "      <td>1.3.6.1.4.1.14519.5.2.1.4334.1501.698333416459...</td>\n",
       "    </tr>\n",
       "    <tr>\n",
       "      <th>...</th>\n",
       "      <td>...</td>\n",
       "      <td>...</td>\n",
       "      <td>...</td>\n",
       "      <td>...</td>\n",
       "      <td>...</td>\n",
       "      <td>...</td>\n",
       "      <td>...</td>\n",
       "      <td>...</td>\n",
       "      <td>...</td>\n",
       "      <td>...</td>\n",
       "    </tr>\n",
       "    <tr>\n",
       "      <th>47</th>\n",
       "      <td>R01-139</td>\n",
       "      <td>2.25.868499889926261817569210695690073583866</td>\n",
       "      <td>Long Axis</td>\n",
       "      <td>mm</td>\n",
       "      <td>35.4</td>\n",
       "      <td>1.3.6.1.4.1.14519.5.2.1.4334.1501.899684217763...</td>\n",
       "      <td>Short Axis</td>\n",
       "      <td>mm</td>\n",
       "      <td>27.8</td>\n",
       "      <td>1.3.6.1.4.1.14519.5.2.1.4334.1501.899684217763...</td>\n",
       "    </tr>\n",
       "    <tr>\n",
       "      <th>48</th>\n",
       "      <td>R01-139</td>\n",
       "      <td>2.25.868499889926261817569210695690073583866</td>\n",
       "      <td>Long Axis</td>\n",
       "      <td>mm</td>\n",
       "      <td>25.2</td>\n",
       "      <td>1.3.6.1.4.1.14519.5.2.1.4334.1501.867071236256...</td>\n",
       "      <td>Short Axis</td>\n",
       "      <td>mm</td>\n",
       "      <td>14.9</td>\n",
       "      <td>1.3.6.1.4.1.14519.5.2.1.4334.1501.867071236256...</td>\n",
       "    </tr>\n",
       "    <tr>\n",
       "      <th>104</th>\n",
       "      <td>R01-142</td>\n",
       "      <td>2.25.121679603710426133108964793076652636389</td>\n",
       "      <td>Long Axis</td>\n",
       "      <td>mm</td>\n",
       "      <td>29.6</td>\n",
       "      <td>1.3.6.1.4.1.14519.5.2.1.4334.1501.338348996622...</td>\n",
       "      <td>Short Axis</td>\n",
       "      <td>mm</td>\n",
       "      <td>19.7</td>\n",
       "      <td>1.3.6.1.4.1.14519.5.2.1.4334.1501.338348996622...</td>\n",
       "    </tr>\n",
       "    <tr>\n",
       "      <th>68</th>\n",
       "      <td>R01-145</td>\n",
       "      <td>2.25.714523259402514268351463827464804029099</td>\n",
       "      <td>Long Axis</td>\n",
       "      <td>mm</td>\n",
       "      <td>28.5</td>\n",
       "      <td>1.3.6.1.4.1.14519.5.2.1.4334.1501.191062990209...</td>\n",
       "      <td>Short Axis</td>\n",
       "      <td>mm</td>\n",
       "      <td>21.1</td>\n",
       "      <td>1.3.6.1.4.1.14519.5.2.1.4334.1501.191062990209...</td>\n",
       "    </tr>\n",
       "    <tr>\n",
       "      <th>72</th>\n",
       "      <td>R01-146</td>\n",
       "      <td>2.25.963038799101400968498129375043406988875</td>\n",
       "      <td>Long Axis</td>\n",
       "      <td>mm</td>\n",
       "      <td>41.8</td>\n",
       "      <td>1.3.6.1.4.1.14519.5.2.1.4334.1501.632893142588...</td>\n",
       "      <td>Short Axis</td>\n",
       "      <td>mm</td>\n",
       "      <td>40.8</td>\n",
       "      <td>1.3.6.1.4.1.14519.5.2.1.4334.1501.632893142588...</td>\n",
       "    </tr>\n",
       "  </tbody>\n",
       "</table>\n",
       "<p>185 rows × 10 columns</p>\n",
       "</div>"
      ],
      "text/plain": [
       "    PatientID                          AnnSeriesInstanceUID  \\\n",
       "161   AMC-001  2.25.557412904088002634779097194346544258273   \n",
       "113   AMC-001  2.25.656273650814296327982116545324746541860   \n",
       "114   AMC-001  2.25.656273650814296327982116545324746541860   \n",
       "115   AMC-001  2.25.656273650814296327982116545324746541860   \n",
       "116   AMC-001  2.25.656273650814296327982116545324746541860   \n",
       "..        ...                                           ...   \n",
       "47    R01-139  2.25.868499889926261817569210695690073583866   \n",
       "48    R01-139  2.25.868499889926261817569210695690073583866   \n",
       "104   R01-142  2.25.121679603710426133108964793076652636389   \n",
       "68    R01-145  2.25.714523259402514268351463827464804029099   \n",
       "72    R01-146  2.25.963038799101400968498129375043406988875   \n",
       "\n",
       "    LongAxisMeasureType LongAxisUnit  LongAxisMeasurement  \\\n",
       "161           Long Axis           mm                 16.1   \n",
       "113           Long Axis           mm                 21.1   \n",
       "114           Long Axis           mm                 21.8   \n",
       "115           Long Axis           mm                 10.3   \n",
       "116           Long Axis           mm                 68.0   \n",
       "..                  ...          ...                  ...   \n",
       "47            Long Axis           mm                 35.4   \n",
       "48            Long Axis           mm                 25.2   \n",
       "104           Long Axis           mm                 29.6   \n",
       "68            Long Axis           mm                 28.5   \n",
       "72            Long Axis           mm                 41.8   \n",
       "\n",
       "                                     LongAxisRefSOPUID ShortAxisMeasureType  \\\n",
       "161  1.3.6.1.4.1.14519.5.2.1.4334.1501.204038471157...           Short Axis   \n",
       "113  1.3.6.1.4.1.14519.5.2.1.4334.1501.231208660295...           Short Axis   \n",
       "114  1.3.6.1.4.1.14519.5.2.1.4334.1501.193651866486...           Short Axis   \n",
       "115  1.3.6.1.4.1.14519.5.2.1.4334.1501.269538794972...           Short Axis   \n",
       "116  1.3.6.1.4.1.14519.5.2.1.4334.1501.698333416459...           Short Axis   \n",
       "..                                                 ...                  ...   \n",
       "47   1.3.6.1.4.1.14519.5.2.1.4334.1501.899684217763...           Short Axis   \n",
       "48   1.3.6.1.4.1.14519.5.2.1.4334.1501.867071236256...           Short Axis   \n",
       "104  1.3.6.1.4.1.14519.5.2.1.4334.1501.338348996622...           Short Axis   \n",
       "68   1.3.6.1.4.1.14519.5.2.1.4334.1501.191062990209...           Short Axis   \n",
       "72   1.3.6.1.4.1.14519.5.2.1.4334.1501.632893142588...           Short Axis   \n",
       "\n",
       "    ShortAxisUnit  ShortAxisMeasurement  \\\n",
       "161            mm                   8.1   \n",
       "113            mm                  10.6   \n",
       "114            mm                  19.1   \n",
       "115            mm                   7.4   \n",
       "116            mm                  66.5   \n",
       "..            ...                   ...   \n",
       "47             mm                  27.8   \n",
       "48             mm                  14.9   \n",
       "104            mm                  19.7   \n",
       "68             mm                  21.1   \n",
       "72             mm                  40.8   \n",
       "\n",
       "                                    ShortAxisRefSOPUID  \n",
       "161  1.3.6.1.4.1.14519.5.2.1.4334.1501.204038471157...  \n",
       "113  1.3.6.1.4.1.14519.5.2.1.4334.1501.231208660295...  \n",
       "114  1.3.6.1.4.1.14519.5.2.1.4334.1501.193651866486...  \n",
       "115  1.3.6.1.4.1.14519.5.2.1.4334.1501.269538794972...  \n",
       "116  1.3.6.1.4.1.14519.5.2.1.4334.1501.698333416459...  \n",
       "..                                                 ...  \n",
       "47   1.3.6.1.4.1.14519.5.2.1.4334.1501.899684217763...  \n",
       "48   1.3.6.1.4.1.14519.5.2.1.4334.1501.867071236256...  \n",
       "104  1.3.6.1.4.1.14519.5.2.1.4334.1501.338348996622...  \n",
       "68   1.3.6.1.4.1.14519.5.2.1.4334.1501.191062990209...  \n",
       "72   1.3.6.1.4.1.14519.5.2.1.4334.1501.632893142588...  \n",
       "\n",
       "[185 rows x 10 columns]"
      ]
     },
     "execution_count": 23,
     "metadata": {},
     "output_type": "execute_result"
    }
   ],
   "source": [
    "sr_data"
   ]
  },
  {
   "cell_type": "code",
   "execution_count": null,
   "id": "1b95dd0f",
   "metadata": {},
   "outputs": [
    {
     "data": {
      "text/plain": [
       "Text(0.5, 0, 'Patient ID')"
      ]
     },
     "execution_count": 42,
     "metadata": {},
     "output_type": "execute_result"
    },
    {
     "data": {
      "image/png": "[encoded data removed]",
      "text/plain": [
       "<Figure size 1500x700 with 1 Axes>"
      ]
     },
     "metadata": {},
     "output_type": "display_data"
    }
   ],
   "source": [
    "import matplotlib.pyplot as plt\n",
    "\n",
    "fig = plt.figure(figsize=(15, 7))\n",
    "plt.scatter(sr_data[\"PatientID\"], sr_data[\"LongAxisMeasurement\"], s=5)\n",
    "plt.xticks(rotation=90, fontsize = 10)\n",
    "plt.title(f\"{dataset} CCC Long Axis Measurements\")\n",
    "plt.ylabel(\"Long Axis Measurement (mm)\")\n",
    "plt.xlabel(\"Patient ID\")\n",
    "\n"
   ]
  },
  {
   "cell_type": "code",
   "execution_count": null,
   "id": "b22d2b5b",
   "metadata": {},
   "outputs": [],
   "source": [
    "largest_sr_data =sr_data.groupby(\"PatientID\")['LongAxisMeasurement'].max()"
   ]
  },
  {
   "cell_type": "code",
   "execution_count": null,
   "id": "082334e0",
   "metadata": {},
   "outputs": [
    {
     "data": {
      "application/vnd.microsoft.datawrangler.viewer.v0+json": {
       "columns": [
        {
         "name": "SampleID",
         "rawType": "object",
         "type": "string"
        },
        {
         "name": "original_shape_MajorAxisLength",
         "rawType": "float64",
         "type": "float"
        }
       ],
       "ref": "4d513c44-1b47-48a3-90a1-a12bf94036cc",
       "rows": [
        [
         "R01-001",
         "18.62526249932549"
        ],
        [
         "R01-002",
         "18.76990716109569"
        ],
        [
         "R01-004",
         "21.63480006491927"
        ],
        [
         "R01-005",
         "27.326628759288283"
        ],
        [
         "R01-006",
         "24.04901646670577"
        ],
        [
         "R01-007",
         "14.032835521302111"
        ],
        [
         "R01-008",
         "25.110479454525887"
        ],
        [
         "R01-010",
         "63.29331348613759"
        ],
        [
         "R01-011",
         "38.40069275222479"
        ],
        [
         "R01-012",
         "65.09245653024132"
        ],
        [
         "R01-013",
         "19.2179109880122"
        ],
        [
         "R01-014",
         "30.20103998625989"
        ],
        [
         "R01-015",
         "39.60070901169357"
        ],
        [
         "R01-016",
         "14.567765450591644"
        ],
        [
         "R01-017",
         "27.054650680927733"
        ],
        [
         "R01-018",
         "49.37579834711211"
        ],
        [
         "R01-019",
         "36.08900981391567"
        ],
        [
         "R01-020",
         "30.07613187603492"
        ],
        [
         "R01-021",
         "22.677128128748485"
        ],
        [
         "R01-022",
         "35.90309014424848"
        ],
        [
         "R01-023",
         "59.13299307869628"
        ],
        [
         "R01-024",
         "36.55285433424466"
        ],
        [
         "R01-025",
         "51.90135233844707"
        ],
        [
         "R01-026",
         "20.076648266119047"
        ],
        [
         "R01-027",
         "38.290219933167485"
        ],
        [
         "R01-028",
         "41.91653278459751"
        ],
        [
         "R01-029",
         "92.4866488582534"
        ],
        [
         "R01-030",
         "21.199505388876908"
        ],
        [
         "R01-031",
         "26.852319524992545"
        ],
        [
         "R01-032",
         "79.61494083913703"
        ],
        [
         "R01-033",
         "35.09805705717127"
        ],
        [
         "R01-034",
         "64.9849312674336"
        ],
        [
         "R01-035",
         "32.61833142912718"
        ],
        [
         "R01-036",
         "88.45243307174258"
        ],
        [
         "R01-037",
         "41.1463069382462"
        ],
        [
         "R01-038",
         "16.285323290649842"
        ],
        [
         "R01-039",
         "23.98380424007052"
        ],
        [
         "R01-040",
         "38.7011173513485"
        ],
        [
         "R01-041",
         "26.562328237044465"
        ],
        [
         "R01-042",
         "52.17221887263747"
        ],
        [
         "R01-043",
         "50.23510273297346"
        ],
        [
         "R01-044",
         "22.624743045166504"
        ],
        [
         "R01-045",
         "37.99087489474241"
        ],
        [
         "R01-046",
         "33.76211856731206"
        ],
        [
         "R01-047",
         "34.50156683147095"
        ],
        [
         "R01-048",
         "21.72381339654006"
        ],
        [
         "R01-049",
         "17.400356405634696"
        ],
        [
         "R01-050",
         "21.905526508928183"
        ],
        [
         "R01-051",
         "25.27991073830375"
        ],
        [
         "R01-052",
         "33.01627870414638"
        ]
       ],
       "shape": {
        "columns": 1,
        "rows": 143
       }
      },
      "text/plain": [
       "SampleID\n",
       "R01-001    18.625262\n",
       "R01-002    18.769907\n",
       "R01-004    21.634800\n",
       "R01-005    27.326629\n",
       "R01-006    24.049016\n",
       "             ...    \n",
       "R01-141    34.874948\n",
       "R01-142    44.292919\n",
       "R01-144    28.029185\n",
       "R01-145    37.543949\n",
       "R01-146    68.881505\n",
       "Name: original_shape_MajorAxisLength, Length: 143, dtype: float64"
      ]
     },
     "execution_count": 61,
     "metadata": {},
     "output_type": "execute_result"
    }
   ],
   "source": [
    "diameter_data = diameter_df['original_shape_MajorAxisLength']\n",
    "diameter_data.index = diameter_df['SampleID'].str.replace(r\"_[0-9][0-9][0-9][0-9]\", \"\", regex=True)"
   ]
  },
  {
   "cell_type": "code",
   "execution_count": 63,
   "id": "daca018e",
   "metadata": {},
   "outputs": [
    {
     "data": {
      "text/plain": [
       "TtestResult(statistic=np.float64(-2.6521770719968525), pvalue=np.float64(0.009137016780835084), df=np.float64(114.0))"
      ]
     },
     "execution_count": 63,
     "metadata": {},
     "output_type": "execute_result"
    }
   ],
   "source": [
    "measurements_df = pd.merge(largest_sr_data, diameter_data, left_index=True, right_index=True)\n",
    "\n",
    "stats.ttest_ind(measurements_df['LongAxisMeasurement'], measurements_df['original_shape_MajorAxisLength'])"
   ]
  },
  {
   "cell_type": "code",
   "execution_count": 68,
   "id": "094491a9",
   "metadata": {},
   "outputs": [
    {
     "data": {
      "text/plain": [
       "Text(0.5, 1.0, 'NSCLC-Radiogenomics (n=58)')"
      ]
     },
     "execution_count": 68,
     "metadata": {},
     "output_type": "execute_result"
    },
    {
     "data": {
      "image/png": "[encoded data removed]",
      "text/plain": [
       "<Figure size 640x480 with 1 Axes>"
      ]
     },
     "metadata": {},
     "output_type": "display_data"
    }
   ],
   "source": [
    "plt.scatter(measurements_df['LongAxisMeasurement'], measurements_df['original_shape_MajorAxisLength'])\n",
    "plt.xlabel(\"Longest RECIST Measurement (mm)\")\n",
    "plt.ylabel(\"PyRadiomics Major Axis Length (mm)\")\n",
    "plt.title(\"NSCLC-Radiogenomics (n=58)\")"
   ]
  },
  {
   "cell_type": "code",
   "execution_count": 64,
   "id": "ea2c8424",
   "metadata": {},
   "outputs": [
    {
     "data": {
      "application/vnd.microsoft.datawrangler.viewer.v0+json": {
       "columns": [
        {
         "name": "index",
         "rawType": "object",
         "type": "string"
        },
        {
         "name": "LongAxisMeasurement",
         "rawType": "float64",
         "type": "float"
        },
        {
         "name": "original_shape_MajorAxisLength",
         "rawType": "float64",
         "type": "float"
        }
       ],
       "ref": "8d54e1b7-7612-48ee-8b69-036816049b6c",
       "rows": [
        [
         "R01-001",
         "15.2",
         "18.62526249932549"
        ],
        [
         "R01-007",
         "12.9",
         "14.032835521302111"
        ],
        [
         "R01-011",
         "26.9",
         "38.40069275222479"
        ],
        [
         "R01-013",
         "18.3",
         "19.2179109880122"
        ],
        [
         "R01-017",
         "24.7",
         "27.054650680927733"
        ],
        [
         "R01-019",
         "30.3",
         "36.08900981391567"
        ],
        [
         "R01-021",
         "16.6",
         "22.677128128748485"
        ],
        [
         "R01-024",
         "15.1",
         "36.55285433424466"
        ],
        [
         "R01-027",
         "38.1",
         "38.290219933167485"
        ],
        [
         "R01-028",
         "48.7",
         "41.91653278459751"
        ],
        [
         "R01-030",
         "16.8",
         "21.199505388876908"
        ],
        [
         "R01-033",
         "28.0",
         "35.09805705717127"
        ],
        [
         "R01-036",
         "69.7",
         "88.45243307174258"
        ],
        [
         "R01-042",
         "46.0",
         "52.17221887263747"
        ],
        [
         "R01-045",
         "26.1",
         "37.99087489474241"
        ],
        [
         "R01-046",
         "33.4",
         "33.76211856731206"
        ],
        [
         "R01-048",
         "21.5",
         "21.72381339654006"
        ],
        [
         "R01-050",
         "15.7",
         "21.905526508928183"
        ],
        [
         "R01-051",
         "25.6",
         "25.27991073830375"
        ],
        [
         "R01-052",
         "26.7",
         "33.01627870414638"
        ],
        [
         "R01-054",
         "84.8",
         "91.56052427725396"
        ],
        [
         "R01-062",
         "15.0",
         "16.072664654274757"
        ],
        [
         "R01-063",
         "26.9",
         "23.168250711998365"
        ],
        [
         "R01-071",
         "18.0",
         "19.221317382114822"
        ],
        [
         "R01-076",
         "23.9",
         "29.02375912495642"
        ],
        [
         "R01-077",
         "23.0",
         "53.92021995995808"
        ],
        [
         "R01-078",
         "41.9",
         "58.357469686098725"
        ],
        [
         "R01-079",
         "33.3",
         "40.19459212942532"
        ],
        [
         "R01-082",
         "19.3",
         "23.766756695161305"
        ],
        [
         "R01-086",
         "29.6",
         "47.77135004413181"
        ],
        [
         "R01-087",
         "24.2",
         "22.56980963876311"
        ],
        [
         "R01-089",
         "64.5",
         "56.76727372979886"
        ],
        [
         "R01-093",
         "23.9",
         "26.59245311077093"
        ],
        [
         "R01-094",
         "46.7",
         "20.46608100846408"
        ],
        [
         "R01-097",
         "22.6",
         "32.633337030959176"
        ],
        [
         "R01-098",
         "27.9",
         "34.307257915616745"
        ],
        [
         "R01-100",
         "42.0",
         "39.39592462159054"
        ],
        [
         "R01-102",
         "36.4",
         "37.78691912168811"
        ],
        [
         "R01-106",
         "29.3",
         "67.17830631250447"
        ],
        [
         "R01-112",
         "62.6",
         "76.67987682532801"
        ],
        [
         "R01-116",
         "13.1",
         "15.237845661774596"
        ],
        [
         "R01-119",
         "54.1",
         "51.35907385442752"
        ],
        [
         "R01-122",
         "19.2",
         "29.26407352187833"
        ],
        [
         "R01-126",
         "17.7",
         "33.29290818463907"
        ],
        [
         "R01-127",
         "25.9",
         "28.90247585961368"
        ],
        [
         "R01-129",
         "25.1",
         "43.581529515514525"
        ],
        [
         "R01-130",
         "32.2",
         "49.86522860860221"
        ],
        [
         "R01-131",
         "22.5",
         "30.26212915766164"
        ],
        [
         "R01-133",
         "47.9",
         "45.6852123891788"
        ],
        [
         "R01-134",
         "23.3",
         "37.46204211533608"
        ]
       ],
       "shape": {
        "columns": 2,
        "rows": 58
       }
      },
      "text/html": [
       "<div>\n",
       "<style scoped>\n",
       "    .dataframe tbody tr th:only-of-type {\n",
       "        vertical-align: middle;\n",
       "    }\n",
       "\n",
       "    .dataframe tbody tr th {\n",
       "        vertical-align: top;\n",
       "    }\n",
       "\n",
       "    .dataframe thead th {\n",
       "        text-align: right;\n",
       "    }\n",
       "</style>\n",
       "<table border=\"1\" class=\"dataframe\">\n",
       "  <thead>\n",
       "    <tr style=\"text-align: right;\">\n",
       "      <th></th>\n",
       "      <th>LongAxisMeasurement</th>\n",
       "      <th>original_shape_MajorAxisLength</th>\n",
       "    </tr>\n",
       "  </thead>\n",
       "  <tbody>\n",
       "    <tr>\n",
       "      <th>R01-001</th>\n",
       "      <td>15.2</td>\n",
       "      <td>18.625262</td>\n",
       "    </tr>\n",
       "    <tr>\n",
       "      <th>R01-007</th>\n",
       "      <td>12.9</td>\n",
       "      <td>14.032836</td>\n",
       "    </tr>\n",
       "    <tr>\n",
       "      <th>R01-011</th>\n",
       "      <td>26.9</td>\n",
       "      <td>38.400693</td>\n",
       "    </tr>\n",
       "    <tr>\n",
       "      <th>R01-013</th>\n",
       "      <td>18.3</td>\n",
       "      <td>19.217911</td>\n",
       "    </tr>\n",
       "    <tr>\n",
       "      <th>R01-017</th>\n",
       "      <td>24.7</td>\n",
       "      <td>27.054651</td>\n",
       "    </tr>\n",
       "    <tr>\n",
       "      <th>R01-019</th>\n",
       "      <td>30.3</td>\n",
       "      <td>36.089010</td>\n",
       "    </tr>\n",
       "    <tr>\n",
       "      <th>R01-021</th>\n",
       "      <td>16.6</td>\n",
       "      <td>22.677128</td>\n",
       "    </tr>\n",
       "    <tr>\n",
       "      <th>R01-024</th>\n",
       "      <td>15.1</td>\n",
       "      <td>36.552854</td>\n",
       "    </tr>\n",
       "    <tr>\n",
       "      <th>R01-027</th>\n",
       "      <td>38.1</td>\n",
       "      <td>38.290220</td>\n",
       "    </tr>\n",
       "    <tr>\n",
       "      <th>R01-028</th>\n",
       "      <td>48.7</td>\n",
       "      <td>41.916533</td>\n",
       "    </tr>\n",
       "    <tr>\n",
       "      <th>R01-030</th>\n",
       "      <td>16.8</td>\n",
       "      <td>21.199505</td>\n",
       "    </tr>\n",
       "    <tr>\n",
       "      <th>R01-033</th>\n",
       "      <td>28.0</td>\n",
       "      <td>35.098057</td>\n",
       "    </tr>\n",
       "    <tr>\n",
       "      <th>R01-036</th>\n",
       "      <td>69.7</td>\n",
       "      <td>88.452433</td>\n",
       "    </tr>\n",
       "    <tr>\n",
       "      <th>R01-042</th>\n",
       "      <td>46.0</td>\n",
       "      <td>52.172219</td>\n",
       "    </tr>\n",
       "    <tr>\n",
       "      <th>R01-045</th>\n",
       "      <td>26.1</td>\n",
       "      <td>37.990875</td>\n",
       "    </tr>\n",
       "    <tr>\n",
       "      <th>R01-046</th>\n",
       "      <td>33.4</td>\n",
       "      <td>33.762119</td>\n",
       "    </tr>\n",
       "    <tr>\n",
       "      <th>R01-048</th>\n",
       "      <td>21.5</td>\n",
       "      <td>21.723813</td>\n",
       "    </tr>\n",
       "    <tr>\n",
       "      <th>R01-050</th>\n",
       "      <td>15.7</td>\n",
       "      <td>21.905527</td>\n",
       "    </tr>\n",
       "    <tr>\n",
       "      <th>R01-051</th>\n",
       "      <td>25.6</td>\n",
       "      <td>25.279911</td>\n",
       "    </tr>\n",
       "    <tr>\n",
       "      <th>R01-052</th>\n",
       "      <td>26.7</td>\n",
       "      <td>33.016279</td>\n",
       "    </tr>\n",
       "    <tr>\n",
       "      <th>R01-054</th>\n",
       "      <td>84.8</td>\n",
       "      <td>91.560524</td>\n",
       "    </tr>\n",
       "    <tr>\n",
       "      <th>R01-062</th>\n",
       "      <td>15.0</td>\n",
       "      <td>16.072665</td>\n",
       "    </tr>\n",
       "    <tr>\n",
       "      <th>R01-063</th>\n",
       "      <td>26.9</td>\n",
       "      <td>23.168251</td>\n",
       "    </tr>\n",
       "    <tr>\n",
       "      <th>R01-071</th>\n",
       "      <td>18.0</td>\n",
       "      <td>19.221317</td>\n",
       "    </tr>\n",
       "    <tr>\n",
       "      <th>R01-076</th>\n",
       "      <td>23.9</td>\n",
       "      <td>29.023759</td>\n",
       "    </tr>\n",
       "    <tr>\n",
       "      <th>R01-077</th>\n",
       "      <td>23.0</td>\n",
       "      <td>53.920220</td>\n",
       "    </tr>\n",
       "    <tr>\n",
       "      <th>R01-078</th>\n",
       "      <td>41.9</td>\n",
       "      <td>58.357470</td>\n",
       "    </tr>\n",
       "    <tr>\n",
       "      <th>R01-079</th>\n",
       "      <td>33.3</td>\n",
       "      <td>40.194592</td>\n",
       "    </tr>\n",
       "    <tr>\n",
       "      <th>R01-082</th>\n",
       "      <td>19.3</td>\n",
       "      <td>23.766757</td>\n",
       "    </tr>\n",
       "    <tr>\n",
       "      <th>R01-086</th>\n",
       "      <td>29.6</td>\n",
       "      <td>47.771350</td>\n",
       "    </tr>\n",
       "    <tr>\n",
       "      <th>R01-087</th>\n",
       "      <td>24.2</td>\n",
       "      <td>22.569810</td>\n",
       "    </tr>\n",
       "    <tr>\n",
       "      <th>R01-089</th>\n",
       "      <td>64.5</td>\n",
       "      <td>56.767274</td>\n",
       "    </tr>\n",
       "    <tr>\n",
       "      <th>R01-093</th>\n",
       "      <td>23.9</td>\n",
       "      <td>26.592453</td>\n",
       "    </tr>\n",
       "    <tr>\n",
       "      <th>R01-094</th>\n",
       "      <td>46.7</td>\n",
       "      <td>20.466081</td>\n",
       "    </tr>\n",
       "    <tr>\n",
       "      <th>R01-097</th>\n",
       "      <td>22.6</td>\n",
       "      <td>32.633337</td>\n",
       "    </tr>\n",
       "    <tr>\n",
       "      <th>R01-098</th>\n",
       "      <td>27.9</td>\n",
       "      <td>34.307258</td>\n",
       "    </tr>\n",
       "    <tr>\n",
       "      <th>R01-100</th>\n",
       "      <td>42.0</td>\n",
       "      <td>39.395925</td>\n",
       "    </tr>\n",
       "    <tr>\n",
       "      <th>R01-102</th>\n",
       "      <td>36.4</td>\n",
       "      <td>37.786919</td>\n",
       "    </tr>\n",
       "    <tr>\n",
       "      <th>R01-106</th>\n",
       "      <td>29.3</td>\n",
       "      <td>67.178306</td>\n",
       "    </tr>\n",
       "    <tr>\n",
       "      <th>R01-112</th>\n",
       "      <td>62.6</td>\n",
       "      <td>76.679877</td>\n",
       "    </tr>\n",
       "    <tr>\n",
       "      <th>R01-116</th>\n",
       "      <td>13.1</td>\n",
       "      <td>15.237846</td>\n",
       "    </tr>\n",
       "    <tr>\n",
       "      <th>R01-119</th>\n",
       "      <td>54.1</td>\n",
       "      <td>51.359074</td>\n",
       "    </tr>\n",
       "    <tr>\n",
       "      <th>R01-122</th>\n",
       "      <td>19.2</td>\n",
       "      <td>29.264074</td>\n",
       "    </tr>\n",
       "    <tr>\n",
       "      <th>R01-126</th>\n",
       "      <td>17.7</td>\n",
       "      <td>33.292908</td>\n",
       "    </tr>\n",
       "    <tr>\n",
       "      <th>R01-127</th>\n",
       "      <td>25.9</td>\n",
       "      <td>28.902476</td>\n",
       "    </tr>\n",
       "    <tr>\n",
       "      <th>R01-129</th>\n",
       "      <td>25.1</td>\n",
       "      <td>43.581530</td>\n",
       "    </tr>\n",
       "    <tr>\n",
       "      <th>R01-130</th>\n",
       "      <td>32.2</td>\n",
       "      <td>49.865229</td>\n",
       "    </tr>\n",
       "    <tr>\n",
       "      <th>R01-131</th>\n",
       "      <td>22.5</td>\n",
       "      <td>30.262129</td>\n",
       "    </tr>\n",
       "    <tr>\n",
       "      <th>R01-133</th>\n",
       "      <td>47.9</td>\n",
       "      <td>45.685212</td>\n",
       "    </tr>\n",
       "    <tr>\n",
       "      <th>R01-134</th>\n",
       "      <td>23.3</td>\n",
       "      <td>37.462042</td>\n",
       "    </tr>\n",
       "    <tr>\n",
       "      <th>R01-135</th>\n",
       "      <td>31.8</td>\n",
       "      <td>104.569385</td>\n",
       "    </tr>\n",
       "    <tr>\n",
       "      <th>R01-136</th>\n",
       "      <td>21.9</td>\n",
       "      <td>32.465704</td>\n",
       "    </tr>\n",
       "    <tr>\n",
       "      <th>R01-137</th>\n",
       "      <td>24.1</td>\n",
       "      <td>44.057466</td>\n",
       "    </tr>\n",
       "    <tr>\n",
       "      <th>R01-138</th>\n",
       "      <td>16.8</td>\n",
       "      <td>19.065955</td>\n",
       "    </tr>\n",
       "    <tr>\n",
       "      <th>R01-139</th>\n",
       "      <td>42.0</td>\n",
       "      <td>68.352328</td>\n",
       "    </tr>\n",
       "    <tr>\n",
       "      <th>R01-142</th>\n",
       "      <td>29.6</td>\n",
       "      <td>44.292919</td>\n",
       "    </tr>\n",
       "    <tr>\n",
       "      <th>R01-145</th>\n",
       "      <td>28.5</td>\n",
       "      <td>37.543949</td>\n",
       "    </tr>\n",
       "    <tr>\n",
       "      <th>R01-146</th>\n",
       "      <td>41.8</td>\n",
       "      <td>68.881505</td>\n",
       "    </tr>\n",
       "  </tbody>\n",
       "</table>\n",
       "</div>"
      ],
      "text/plain": [
       "         LongAxisMeasurement  original_shape_MajorAxisLength\n",
       "R01-001                 15.2                       18.625262\n",
       "R01-007                 12.9                       14.032836\n",
       "R01-011                 26.9                       38.400693\n",
       "R01-013                 18.3                       19.217911\n",
       "R01-017                 24.7                       27.054651\n",
       "R01-019                 30.3                       36.089010\n",
       "R01-021                 16.6                       22.677128\n",
       "R01-024                 15.1                       36.552854\n",
       "R01-027                 38.1                       38.290220\n",
       "R01-028                 48.7                       41.916533\n",
       "R01-030                 16.8                       21.199505\n",
       "R01-033                 28.0                       35.098057\n",
       "R01-036                 69.7                       88.452433\n",
       "R01-042                 46.0                       52.172219\n",
       "R01-045                 26.1                       37.990875\n",
       "R01-046                 33.4                       33.762119\n",
       "R01-048                 21.5                       21.723813\n",
       "R01-050                 15.7                       21.905527\n",
       "R01-051                 25.6                       25.279911\n",
       "R01-052                 26.7                       33.016279\n",
       "R01-054                 84.8                       91.560524\n",
       "R01-062                 15.0                       16.072665\n",
       "R01-063                 26.9                       23.168251\n",
       "R01-071                 18.0                       19.221317\n",
       "R01-076                 23.9                       29.023759\n",
       "R01-077                 23.0                       53.920220\n",
       "R01-078                 41.9                       58.357470\n",
       "R01-079                 33.3                       40.194592\n",
       "R01-082                 19.3                       23.766757\n",
       "R01-086                 29.6                       47.771350\n",
       "R01-087                 24.2                       22.569810\n",
       "R01-089                 64.5                       56.767274\n",
       "R01-093                 23.9                       26.592453\n",
       "R01-094                 46.7                       20.466081\n",
       "R01-097                 22.6                       32.633337\n",
       "R01-098                 27.9                       34.307258\n",
       "R01-100                 42.0                       39.395925\n",
       "R01-102                 36.4                       37.786919\n",
       "R01-106                 29.3                       67.178306\n",
       "R01-112                 62.6                       76.679877\n",
       "R01-116                 13.1                       15.237846\n",
       "R01-119                 54.1                       51.359074\n",
       "R01-122                 19.2                       29.264074\n",
       "R01-126                 17.7                       33.292908\n",
       "R01-127                 25.9                       28.902476\n",
       "R01-129                 25.1                       43.581530\n",
       "R01-130                 32.2                       49.865229\n",
       "R01-131                 22.5                       30.262129\n",
       "R01-133                 47.9                       45.685212\n",
       "R01-134                 23.3                       37.462042\n",
       "R01-135                 31.8                      104.569385\n",
       "R01-136                 21.9                       32.465704\n",
       "R01-137                 24.1                       44.057466\n",
       "R01-138                 16.8                       19.065955\n",
       "R01-139                 42.0                       68.352328\n",
       "R01-142                 29.6                       44.292919\n",
       "R01-145                 28.5                       37.543949\n",
       "R01-146                 41.8                       68.881505"
      ]
     },
     "execution_count": 64,
     "metadata": {},
     "output_type": "execute_result"
    }
   ],
   "source": [
    "measurements_df"
   ]
  },
  {
   "cell_type": "code",
   "execution_count": null,
   "id": "43dc5e3f",
   "metadata": {},
   "outputs": [],
   "source": []
  }
 ],
 "metadata": {
  "kernelspec": {
   "display_name": "Python 3",
   "language": "python",
   "name": "python3"
  },
  "language_info": {
   "codemirror_mode": {
    "name": "ipython",
    "version": 3
   },
   "file_extension": ".py",
   "mimetype": "text/x-python",
   "name": "python",
   "nbconvert_exporter": "python",
   "pygments_lexer": "ipython3",
   "version": "3.12.11"
  }
 },
 "nbformat": 4,
 "nbformat_minor": 5
}
