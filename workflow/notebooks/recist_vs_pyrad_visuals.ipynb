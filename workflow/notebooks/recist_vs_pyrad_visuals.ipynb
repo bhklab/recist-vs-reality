{
 "cells": [
  {
   "cell_type": "markdown",
   "id": "7e03f8be",
   "metadata": {},
   "source": [
    "# Visualizations for RECIST vs. PyRadiomics Measurements"
   ]
  },
  {
   "cell_type": "markdown",
   "id": "71c897d3",
   "metadata": {},
   "source": [
    "## Dependencies"
   ]
  },
  {
   "cell_type": "code",
   "execution_count": null,
   "id": "03e5f9c4",
   "metadata": {},
   "outputs": [],
   "source": [
    "import pandas as pd \n",
    "import matplotlib.pyplot as plt\n",
    "\n",
    "from damply import dirs \n",
    "from pathlib import Path"
   ]
  },
  {
   "cell_type": "markdown",
   "id": "cc4e97d9",
   "metadata": {},
   "source": [
    "## Load Data"
   ]
  },
  {
   "cell_type": "code",
   "execution_count": null,
   "id": "584fb13f",
   "metadata": {},
   "outputs": [],
   "source": [
    "area = \"Lung\"\n",
    "dataset = \"TCIA_NSCLC-Radiogenomics\"\n",
    "\n",
    "matched_pyrad_ann_file = dirs.PROCDATA / area / dataset / Path(\"metadata/recist_diameter_stats/matched_pyradiomics_annotations.csv\")\n",
    "\n",
    "pyrad_ann_df = pd.read_csv(matched_pyrad_ann_file)\n",
    "\n",
    "num_ann = pyrad_ann_df.shape[0]"
   ]
  },
  {
   "cell_type": "code",
   "execution_count": null,
   "id": "d0758ae9",
   "metadata": {},
   "outputs": [],
   "source": [
    "#If you want to get all dataset information, run the following code instead of the block above \n",
    "area = \"Crowds_Cure_Cancer_2018Subset\"\n",
    "dataset = \"Crowds-Cure-2018\"\n",
    "areas = [\"Abdomen\", \"Abdomen\", \"Lung\"]\n",
    "datasets = [\"TCIA_CPTAC-CCRCC\", \"TCIA_CPTAC-PDA\", \"TCIA_NSCLC-Radiogenomics\"]\n",
    "\n",
    "pyrad_ann_df = pd.DataFrame()\n",
    "for i in range(len(areas)): \n",
    "    curr_path = dirs.PROCDATA / areas[i] / datasets[i] / Path(\"metadata/recist_diameter_stats/matched_pyradiomics_annotations.csv\")\n",
    "    curr_data = pd.read_csv(curr_path)\n",
    "    pyrad_ann_df = pd.concat([pyrad_ann_df, curr_data])\n",
    "\n",
    "pyrad_ann_df.shape[0]"
   ]
  },
  {
   "cell_type": "markdown",
   "id": "974a9fc3",
   "metadata": {},
   "source": [
    "## Visualize Raw Data"
   ]
  },
  {
   "cell_type": "markdown",
   "id": "ea5e009d",
   "metadata": {},
   "source": [
    "### Setting Up Label and Save Parameters"
   ]
  },
  {
   "cell_type": "code",
   "execution_count": null,
   "id": "d14bf483",
   "metadata": {},
   "outputs": [],
   "source": [
    "num_ann = pyrad_ann_df.shape[0] #Number of tumour annotations in current cohort\n",
    "\n",
    "pyrad_feature = \"original_shape_Maximum2DDiameterSlice\"\n",
    "pyrad_feat_label = pyrad_feature.split(\"_\")[-1]\n",
    "\n",
    "save_folder = Path(\"/home/bhkuser/bhklab/kaitlyn/recist-vs-reality/data/results/\" + dataset + \"/visualization/recist_vs_pyradiomics/\" + pyrad_feat_label)\n",
    "\n",
    "if not save_folder.exists(): \n",
    "    save_folder.mkdir(parents=True, exist_ok=True)"
   ]
  },
  {
   "cell_type": "markdown",
   "id": "a88ac801",
   "metadata": {},
   "source": [
    "### Scatter Plot: Pyradiomics Measurement vs. RECIST Measurement"
   ]
  },
  {
   "cell_type": "code",
   "execution_count": null,
   "id": "f9da426d",
   "metadata": {},
   "outputs": [],
   "source": [
    "plt.scatter(pyrad_ann_df[\"AnnLongAxisLength\"], pyrad_ann_df[pyrad_feature], s = 5, alpha = 0.6)\n",
    "plt.xlabel(\"RECIST Measurement (mm)\")\n",
    "plt.ylabel(\"PyRadiomics \" + pyrad_feat_label + \" ($\\mathregular{mm^3}$)\")\n",
    "plt.title(dataset + \" (n = \" + str(num_ann) + \")\")\n",
    "plt.savefig(save_folder / \"RECIST_vs_PyRad_Scatter.png\", bbox_inches = 'tight')"
   ]
  },
  {
   "cell_type": "code",
   "execution_count": null,
   "id": "dc9f58af",
   "metadata": {},
   "outputs": [],
   "source": [
    "#Plot volume of the expected sphere to see difference between it and the actual volume \n",
    "import numpy as np\n",
    "\n",
    "#Need to order indices for proper line graph for spherical volumes \n",
    "sorted_ann_indices = np.argsort(pyrad_ann_df[\"AnnLongAxisLength\"].to_numpy())\n",
    "sorted_ann_lengths = pyrad_ann_df[\"AnnLongAxisLength\"].to_numpy()[sorted_ann_indices]\n",
    "sphere_vols = 4/3 * np.pi * (sorted_ann_lengths/2) ** 3\n",
    "# pyrad_ann_df[\"SphereVols\"] = 4/3 * np.pi * (pyrad_ann_df[\"AnnLongAxisLength\"]/2) ** 3\n",
    "\n",
    "plt.scatter(pyrad_ann_df[\"AnnLongAxisLength\"], pyrad_ann_df[pyrad_feature], s = 5, alpha = 0.6, label = pyrad_feat_label)\n",
    "plt.plot(sorted_ann_lengths, sphere_vols, 'ro-', markersize = 2, alpha = 0.5, label = \"Spherical Volume\")\n",
    "plt.xlabel(\"RECIST Measurement (mm)\")\n",
    "plt.ylabel(\"Volume ($\\mathregular{mm^3}$)\")\n",
    "plt.title(dataset + \" (n = \" + str(num_ann) + \")\")\n",
    "plt.legend(loc = 'upper left')\n",
    "plt.savefig(save_folder / \"RECIST_vs_PyRad_Scatter_wSphereVol.png\", bbox_inches = 'tight')\n"
   ]
  },
  {
   "cell_type": "markdown",
   "id": "38fff35c",
   "metadata": {},
   "source": [
    "### Box and Violin Plots"
   ]
  },
  {
   "cell_type": "code",
   "execution_count": null,
   "id": "0ae38b23",
   "metadata": {},
   "outputs": [],
   "source": [
    "fig, ax = plt.subplots(nrows = 1, ncols = 2, figsize = (9, 4))\n",
    "\n",
    "#Box plot\n",
    "ax[0].boxplot(pyrad_ann_df[[\"AnnLongAxisLength\", pyrad_feature]])\n",
    "ax[0].set_xticks([1, 2],[\"RECIST Measurement\", pyrad_feat_label], rotation = 90)\n",
    "ax[0].set_ylabel(\"Measurement Length (mm)\")\n",
    "ax[0].set_xlabel(\"Measurement Type\")\n",
    "\n",
    "#Violin plot \n",
    "ax[1].violinplot(pyrad_ann_df[[\"AnnLongAxisLength\", pyrad_feature]],\n",
    "                 showmeans=True, \n",
    "                 showmedians=False)\n",
    "ax[1].set_xticks([1, 2],[\"RECIST Measurement\", pyrad_feat_label], rotation = 90)\n",
    "ax[1].set_ylabel(\"Measurement Length (mm)\")\n",
    "ax[1].set_xlabel(\"Measurement Type\")\n",
    "fig.suptitle(\"Measurement Distribution Information\\n\" + dataset + \" (n = \" + str(num_ann) + \")\")\n",
    "fig.savefig(save_folder / \"Measurement_Distribution_Box_Violin.png\", bbox_inches = 'tight') #Makes sure x axis doesn't get cut off"
   ]
  },
  {
   "cell_type": "markdown",
   "id": "39dea741",
   "metadata": {},
   "source": [
    "### Scatter Plot Comparison of RECIST Measurements and Pyradiomics Measurements"
   ]
  },
  {
   "cell_type": "code",
   "execution_count": null,
   "id": "e99a8812",
   "metadata": {},
   "outputs": [],
   "source": [
    "import matplotlib.transforms as transforms\n",
    "\n",
    "fig, ax = plt.subplots(figsize=(8, 5)) #Change figsize to (12, 5) for NSCLC-Radiogenomics, otherwise (8, 5)\n",
    "\n",
    "#This is to get the scatter points to appear beside each other. Have to plot temporary points for this to work for some reason\n",
    "offset = lambda p: transforms.ScaledTranslation(p / 72., 0, plt.gcf().dpi_scale_trans)\n",
    "temp_points = ax.plot(pyrad_ann_df[\"PatientID\"], pyrad_ann_df[\"AnnLongAxisLength\"], ms = 10, ls = \" \", marker = \".\")\n",
    "for pnt in temp_points:\n",
    "    pnt.remove()\n",
    "\n",
    "#Plot the data of interest\n",
    "ax.plot(pyrad_ann_df[\"PatientID\"], pyrad_ann_df[\"AnnLongAxisLength\"], \n",
    "            ms = 5, \n",
    "            marker = \"o\", \n",
    "            ls = \" \", #Makes sure there are no lines connecting the dots\n",
    "            transform=ax.transData + offset(-5),\n",
    "            alpha = 0.6,\n",
    "            label = \"RECIST Measurement\")\n",
    "ax.plot(pyrad_ann_df[\"PatientID\"], pyrad_ann_df[pyrad_feature], \n",
    "            ms = 5, \n",
    "            marker = \"s\", \n",
    "            ls = \" \",\n",
    "            transform=ax.transData + offset(5),\n",
    "            alpha = 0.6,\n",
    "            label = pyrad_feat_label)\n",
    "plt.legend(bbox_to_anchor=(1.05, 1), loc='upper left')\n",
    "#Adjust the y axis limits in case there are some pyradiomics measurements that are much larger than the annotation length\n",
    "plt.ylim((0, max(pyrad_ann_df[\"AnnLongAxisLength\"].values.tolist() + pyrad_ann_df[pyrad_feature].values.tolist()) + 10))\n",
    "plt.xticks(rotation = 90)\n",
    "plt.xlabel(\"Patient ID\")\n",
    "plt.ylabel(\"Measurement Length (mm)\")\n",
    "plt.title(\"RECIST and \" + pyrad_feat_label + \" Measurement Comparison\\n\" + dataset + \" (n = \" + str(num_ann) + \")\")\n",
    "plt.savefig(save_folder / \"RECIST_vs_PyRad_Measure_Compare.png\", bbox_inches = 'tight')"
   ]
  },
  {
   "cell_type": "markdown",
   "id": "bf71436c",
   "metadata": {},
   "source": [
    "### Differences in RECIST Measurement vs. Pyradiomics Measurement"
   ]
  },
  {
   "cell_type": "code",
   "execution_count": null,
   "id": "ef001623",
   "metadata": {},
   "outputs": [],
   "source": [
    "pyrad_ann_df[\"MeasurementDiff\"] = pyrad_ann_df[pyrad_feature] - pyrad_ann_df[\"AnnLongAxisLength\"]\n",
    "\n",
    "# fig = plt.figure(figsize = (12,5)) #Only needed for NSCLC-Radiogenomics which has 74 matches\n",
    "plt.scatter(pyrad_ann_df[\"PatientID\"], pyrad_ann_df[\"MeasurementDiff\"], s=5)\n",
    "plt.xticks(rotation = 90)\n",
    "plt.title(\"RECIST and \" + pyrad_feat_label + \" Measurement Difference\\n\" + dataset + \" (n = \" + str(num_ann) + \")\")\n",
    "plt.ylabel(\"Measurement Difference (mm)\")\n",
    "plt.xlabel(\"Patient ID\")\n",
    "plt.savefig(save_folder / \"RECIST_PyRad_Measurement_Difference.png\", bbox_inches = 'tight')"
   ]
  },
  {
   "cell_type": "code",
   "execution_count": null,
   "id": "b72eaaec",
   "metadata": {},
   "outputs": [],
   "source": [
    "# Calculate relative measurement difference. To be calculated for Maximum2DDiameterSlice measurement only for the moment. \n",
    "print(pyrad_feature) #Just sanity check to make sure I'm using the right measurement \n",
    "\n",
    "pyrad_ann_df[\"RelativeMeasurementDiff\"] = pyrad_ann_df[\"MeasurementDiff\"] / ((pyrad_ann_df[\"AnnLongAxisLength\"] + pyrad_ann_df[pyrad_feature])/2) * 100 \n",
    "\n",
    "pyrad_ann_df[\"RelativeMeasurementDiff\"].mean()"
   ]
  },
  {
   "cell_type": "markdown",
   "id": "a10a68a5",
   "metadata": {},
   "source": [
    "### Bland-Altman Analysis"
   ]
  },
  {
   "cell_type": "code",
   "execution_count": null,
   "id": "b239504d",
   "metadata": {},
   "outputs": [],
   "source": [
    "#Check normality of both differences \n",
    "from scipy.stats import normaltest\n",
    "\n",
    "#Calculate necessary information (means, differences in measurement, RMD)\n",
    "pyrad_ann_df[\"Means\"] = (pyrad_ann_df[pyrad_feature] + pyrad_ann_df[\"AnnLongAxisLength\"])/2\n",
    "pyrad_ann_df[\"MeasurementDiff\"] = pyrad_ann_df[pyrad_feature] - pyrad_ann_df[\"AnnLongAxisLength\"]\n",
    "pyrad_ann_df[\"RelativeMeasurementDiff\"] = pyrad_ann_df[\"MeasurementDiff\"] / ((pyrad_ann_df[\"AnnLongAxisLength\"] + pyrad_ann_df[pyrad_feature])/2) * 100 \n",
    "\n",
    "#Plot histograms\n",
    "fig, axs = plt.subplots(1, 2, tight_layout = True) \n",
    "\n",
    "axs[0].hist(pyrad_ann_df[\"MeasurementDiff\"], bins = 20)\n",
    "axs[1].hist(pyrad_ann_df[\"RelativeMeasurementDiff\"], bins = 20)\n",
    "\n",
    "plt.show()\n",
    "\n",
    "stat_md, p_md = normaltest(pyrad_ann_df[\"MeasurementDiff\"])\n",
    "stat_rmd, p_rmd = normaltest(pyrad_ann_df[\"RelativeMeasurementDiff\"])\n",
    "\n",
    "print(\"Pval measure diff: \", p_md)\n",
    "print(\"Pval RMD: \", p_rmd)"
   ]
  },
  {
   "cell_type": "code",
   "execution_count": null,
   "id": "69b5a372",
   "metadata": {},
   "outputs": [],
   "source": [
    "#Adopted from this website: https://rowannicholls.github.io/python/statistics/agreement/bland_altman.html#where-to-start-bland-altmans-difference-plot\n",
    "#Should only be done for Maximum2DDiameterSlice feature\n",
    "\n",
    "#Calculate bias (average difference)\n",
    "bias = pyrad_ann_df[\"MeasurementDiff\"].mean()\n",
    "\n",
    "#Sample standard deviation (assumes differences are normally distributed)\n",
    "stand_dev = np.std(pyrad_ann_df[\"MeasurementDiff\"], ddof=1)\n",
    "\n",
    "print(\"Average Difference (Bias) (mm): \", bias)\n",
    "print(\"Standard Deviation (mm): \", stand_dev)\n",
    "\n",
    "#Calculate limits of agreement (LOAs)\n",
    "if p_md >= 0.05:\n",
    "    upper_loa = bias + 1.96 * stand_dev \n",
    "    lower_loa = bias - 1.96 * stand_dev\n",
    "else: \n",
    "    upper_loa = np.percentile(pyrad_ann_df[\"MeasurementDiff\"], 97.5)\n",
    "    lower_loa = np.percentile(pyrad_ann_df[\"MeasurementDiff\"], 2.5)\n",
    "\n",
    "ax = plt.axes() \n",
    "ax.scatter(pyrad_ann_df[\"Means\"], pyrad_ann_df[\"MeasurementDiff\"], c = 'k', s = 20, alpha = 0.6, marker = 'o')\n",
    "\n",
    "#Plot zero line \n",
    "ax.axhline(y = 0, c = 'k', lw=0.5)\n",
    "\n",
    "#Plot bias and LOAs\n",
    "ax.axhline(y=lower_loa, c = 'grey', ls='--')\n",
    "ax.axhline(y=bias, c = 'grey', ls = '--')\n",
    "ax.axhline(y=upper_loa, c = 'grey', ls = '--')\n",
    "\n",
    "#Formatting \n",
    "ax.set_title(\"Bland-Altman Plot: Maximum 2D Diameter (Slice) and RECIST Measurement (Measurement Difference)\")\n",
    "ax.set_xlabel(\"Mean (mm)\")\n",
    "ax.set_ylabel(\"Difference (mm)\")\n",
    "\n",
    "x_min, x_max = ax.get_xlim()\n",
    "domain = x_max - x_min\n",
    "y_min, y_max = ax.get_ylim()\n",
    "absmax_y = max(abs(y_min), abs(y_max))\n",
    "\n",
    "ax.set_xlim(x_min, x_min + domain * 1.1)\n",
    "ax.set_ylim(-absmax_y * 1.1, absmax_y * 1.1)\n",
    "\n",
    "#Annotations \n",
    "ax.annotate(\"+LOA \" + f'{upper_loa:4.2f}', (x_max, upper_loa), (50, 0), textcoords = 'offset pixels')\n",
    "ax.annotate('Bias ' + f'{bias:4.2f}', (x_max, bias), (50, -5), textcoords='offset pixels')\n",
    "ax.annotate('-LOA '+ f'{lower_loa:4.2f}', (x_max, lower_loa), (50, -7), textcoords='offset pixels')\n",
    "\n",
    "plt.show()"
   ]
  },
  {
   "cell_type": "code",
   "execution_count": null,
   "id": "c7ea7f63",
   "metadata": {},
   "outputs": [],
   "source": [
    "#Repeat above but for the relative measurement difference \n",
    "\n",
    "#Calculate bias (average difference)\n",
    "bias = pyrad_ann_df[\"RelativeMeasurementDiff\"].mean()\n",
    "\n",
    "#Sample standard deviation (assumes differences are normally distributed)\n",
    "stand_dev = np.std(pyrad_ann_df[\"RelativeMeasurementDiff\"], ddof=1)\n",
    "\n",
    "print(\"Average Difference (Bias) (mm): \", bias)\n",
    "print(\"Standard Deviation (mm): \", stand_dev)\n",
    "\n",
    "#Calculate limits of agreement (LOAs)\n",
    "if p_rmd >= 0.05:\n",
    "    upper_loa = bias + 1.96 * stand_dev \n",
    "    lower_loa = bias - 1.96 * stand_dev\n",
    "else: \n",
    "    upper_loa = np.percentile(pyrad_ann_df[\"MeasurementDiff\"], 97.5)\n",
    "    lower_loa = np.percentile(pyrad_ann_df[\"MeasurementDiff\"], 2.5)\n",
    "\n",
    "ax = plt.axes() \n",
    "ax.scatter(pyrad_ann_df[\"Means\"], pyrad_ann_df[\"RelativeMeasurementDiff\"], c = 'k', s = 20, alpha = 0.6, marker = 'o')\n",
    "\n",
    "#Plot zero line \n",
    "ax.axhline(y = 0, c = 'k', lw=0.5)\n",
    "\n",
    "#Plot bias and LOAs\n",
    "ax.axhline(y=lower_loa, c = 'grey', ls='--')\n",
    "ax.axhline(y=bias, c = 'grey', ls = '--')\n",
    "ax.axhline(y=upper_loa, c = 'grey', ls = '--')\n",
    "\n",
    "#Formatting \n",
    "ax.set_title(\"Bland-Altman Plot: Maximum 2D Diameter (Slice) and RECIST Measurement RMD\")\n",
    "ax.set_xlabel(\"Mean (mm)\")\n",
    "ax.set_ylabel(\"Relative Measurement Difference (%)\")\n",
    "\n",
    "x_min, x_max = ax.get_xlim()\n",
    "domain = x_max - x_min\n",
    "y_min, y_max = ax.get_ylim()\n",
    "absmax_y = max(abs(y_min), abs(y_max))\n",
    "\n",
    "ax.set_xlim(x_min, x_min + domain * 1.1)\n",
    "ax.set_ylim(-absmax_y * 1.1, absmax_y * 1.1)\n",
    "\n",
    "#Annotations \n",
    "ax.annotate(\"+LOA \" + f'{upper_loa:4.2f}', (x_max, upper_loa), (50, 0), textcoords = 'offset pixels')\n",
    "ax.annotate('Bias ' + f'{bias:4.2f}', (x_max, bias), (50, -5), textcoords='offset pixels')\n",
    "ax.annotate('-LOA '+ f'{lower_loa:4.2f}', (x_max, lower_loa), (50, -7), textcoords='offset pixels')\n",
    "\n",
    "plt.show()\n"
   ]
  }
 ],
 "metadata": {
  "kernelspec": {
   "display_name": "default",
   "language": "python",
   "name": "python3"
  },
  "language_info": {
   "codemirror_mode": {
    "name": "ipython",
    "version": 3
   },
   "file_extension": ".py",
   "mimetype": "text/x-python",
   "name": "python",
   "nbconvert_exporter": "python",
   "pygments_lexer": "ipython3",
   "version": "3.12.11"
  }
 },
 "nbformat": 4,
 "nbformat_minor": 5
}
